{
 "cells": [
  {
   "cell_type": "markdown",
   "id": "432d59c2",
   "metadata": {
    "papermill": {
     "duration": 0.015246,
     "end_time": "2022-02-19T10:01:17.284763",
     "exception": false,
     "start_time": "2022-02-19T10:01:17.269517",
     "status": "completed"
    },
    "tags": []
   },
   "source": [
    "**This notebook is an exercise in the [Intro to Game AI and Reinforcement Learning](https://www.kaggle.com/learn/intro-to-game-ai-and-reinforcement-learning) course.  You can reference the tutorial at [this link](https://www.kaggle.com/alexisbcook/n-step-lookahead).**\n",
    "\n",
    "---\n"
   ]
  },
  {
   "cell_type": "markdown",
   "id": "d1b4e8d1",
   "metadata": {
    "papermill": {
     "duration": 0.013364,
     "end_time": "2022-02-19T10:01:17.314633",
     "exception": false,
     "start_time": "2022-02-19T10:01:17.301269",
     "status": "completed"
    },
    "tags": []
   },
   "source": [
    "# Introduction\n",
    "\n",
    "In the tutorial, you learned how to build a reasonably intelligent agent with the minimax algorithm.  In this exercise, you will check your understanding and submit your own agent to the competition."
   ]
  },
  {
   "cell_type": "code",
   "execution_count": 1,
   "id": "b23c3a94",
   "metadata": {
    "execution": {
     "iopub.execute_input": "2022-02-19T10:01:17.349948Z",
     "iopub.status.busy": "2022-02-19T10:01:17.349414Z",
     "iopub.status.idle": "2022-02-19T10:01:17.383974Z",
     "shell.execute_reply": "2022-02-19T10:01:17.383378Z",
     "shell.execute_reply.started": "2022-02-19T09:49:17.547550Z"
    },
    "papermill": {
     "duration": 0.055729,
     "end_time": "2022-02-19T10:01:17.384138",
     "exception": false,
     "start_time": "2022-02-19T10:01:17.328409",
     "status": "completed"
    },
    "tags": []
   },
   "outputs": [],
   "source": [
    "from learntools.core import binder\n",
    "binder.bind(globals())\n",
    "from learntools.game_ai.ex3 import *"
   ]
  },
  {
   "cell_type": "markdown",
   "id": "ddd7e7e2",
   "metadata": {
    "papermill": {
     "duration": 0.013283,
     "end_time": "2022-02-19T10:01:17.411120",
     "exception": false,
     "start_time": "2022-02-19T10:01:17.397837",
     "status": "completed"
    },
    "tags": []
   },
   "source": [
    "### 1) A closer look\n",
    "\n",
    "The heuristic from the tutorial looks at all groups of four adjacent grid locations on the same row, column, or diagonal and assigns points for each occurrence of the following patterns:\n",
    "\n",
    "<center>\n",
    "<img src=\"https://i.imgur.com/3NvBEGL.png\" width=70%><br/>\n",
    "</center>\n",
    "\n",
    "Is it really necessary to use so many numbers to define the heuristic?  Consider simplifying it, as in the image below.\n",
    "\n",
    "<center>\n",
    "<img src=\"https://i.imgur.com/grViegG.png\" width=70%><br/>\n",
    "</center>\n",
    "\n",
    "How would each heuristic score the potential moves in the example below (where, in this case, the agent looks only one step ahead)?  Which heuristic would lead to the agent selecting the better move?\n",
    "\n",
    "<center>\n",
    "<img src=\"https://i.imgur.com/LWPLy7N.png\" width=100%><br/>\n",
    "</center>"
   ]
  },
  {
   "cell_type": "code",
   "execution_count": 2,
   "id": "99b10bc7",
   "metadata": {
    "execution": {
     "iopub.execute_input": "2022-02-19T10:01:17.443600Z",
     "iopub.status.busy": "2022-02-19T10:01:17.442761Z",
     "iopub.status.idle": "2022-02-19T10:01:17.445274Z",
     "shell.execute_reply": "2022-02-19T10:01:17.445691Z",
     "shell.execute_reply.started": "2022-02-19T09:49:38.555594Z"
    },
    "papermill": {
     "duration": 0.021225,
     "end_time": "2022-02-19T10:01:17.445874",
     "exception": false,
     "start_time": "2022-02-19T10:01:17.424649",
     "status": "completed"
    },
    "tags": []
   },
   "outputs": [],
   "source": [
    "#q_1.hint()"
   ]
  },
  {
   "cell_type": "code",
   "execution_count": 3,
   "id": "9a110063",
   "metadata": {
    "execution": {
     "iopub.execute_input": "2022-02-19T10:01:17.477905Z",
     "iopub.status.busy": "2022-02-19T10:01:17.477283Z",
     "iopub.status.idle": "2022-02-19T10:01:17.484920Z",
     "shell.execute_reply": "2022-02-19T10:01:17.485359Z",
     "shell.execute_reply.started": "2022-02-19T09:49:39.289926Z"
    },
    "papermill": {
     "duration": 0.025596,
     "end_time": "2022-02-19T10:01:17.485509",
     "exception": false,
     "start_time": "2022-02-19T10:01:17.459913",
     "status": "completed"
    },
    "tags": []
   },
   "outputs": [
    {
     "data": {
      "application/javascript": [
       "parent.postMessage({\"jupyterEvent\": \"custom.exercise_interaction\", \"data\": {\"interactionType\": 3, \"questionType\": 4, \"questionId\": \"1_WorseHeuristic\", \"learnToolsVersion\": \"0.3.4\", \"valueTowardsCompletion\": 0.0, \"failureMessage\": \"\", \"exceptionClass\": \"\", \"trace\": \"\", \"outcomeType\": 4}}, \"*\")"
      ],
      "text/plain": [
       "<IPython.core.display.Javascript object>"
      ]
     },
     "metadata": {},
     "output_type": "display_data"
    },
    {
     "data": {
      "text/markdown": [
       "<span style=\"color:#33cc99\">Solution:</span> The first heuristic is guaranteed to select column 2 to block the opponent from winning.  The second heuristic selects either column 2 or column 3 (where it selects each with 50% probability). Thus, for this game board, the first heuristic is better. In general, we can expect that the first heuristic is a better heuristic, since we cannot trust the second heuristic to block the opponent from winning."
      ],
      "text/plain": [
       "Solution: The first heuristic is guaranteed to select column 2 to block the opponent from winning.  The second heuristic selects either column 2 or column 3 (where it selects each with 50% probability). Thus, for this game board, the first heuristic is better. In general, we can expect that the first heuristic is a better heuristic, since we cannot trust the second heuristic to block the opponent from winning."
      ]
     },
     "metadata": {},
     "output_type": "display_data"
    }
   ],
   "source": [
    "# Check your answer (Run this code cell to receive credit!)\n",
    "q_1.solution()"
   ]
  },
  {
   "cell_type": "markdown",
   "id": "56264816",
   "metadata": {
    "papermill": {
     "duration": 0.014783,
     "end_time": "2022-02-19T10:01:17.515241",
     "exception": false,
     "start_time": "2022-02-19T10:01:17.500458",
     "status": "completed"
    },
    "tags": []
   },
   "source": [
    "### 2) Count the leaves\n",
    "\n",
    "In the tutorial, we worked with a small game tree.\n",
    "\n",
    "<center>\n",
    "<img src=\"https://i.imgur.com/BrRe7Bu.png\" width=90%><br/>\n",
    "</center>\n",
    "\n",
    "The game tree above has 8 leaf nodes that appear at the bottom of the tree.  By definition, \"leaf nodes\" in a game tree are nodes that don't have nodes below them.\n",
    "\n",
    "In the ConnectX competition, the game trees will be much larger!  \n",
    "\n",
    "To see this, consider a minimax agent that is trying to plan its first move, where all columns in the game board are  empty.  Say the agent builds a game tree of depth 3.  How many leaf nodes are in the game tree?  \n",
    "\n",
    "Use your answer to fill in the blank below."
   ]
  },
  {
   "cell_type": "code",
   "execution_count": 4,
   "id": "df770bf1",
   "metadata": {
    "execution": {
     "iopub.execute_input": "2022-02-19T10:01:17.549639Z",
     "iopub.status.busy": "2022-02-19T10:01:17.548880Z",
     "iopub.status.idle": "2022-02-19T10:01:17.553418Z",
     "shell.execute_reply": "2022-02-19T10:01:17.553815Z",
     "shell.execute_reply.started": "2022-02-19T09:54:05.157179Z"
    },
    "papermill": {
     "duration": 0.024148,
     "end_time": "2022-02-19T10:01:17.553968",
     "exception": false,
     "start_time": "2022-02-19T10:01:17.529820",
     "status": "completed"
    },
    "tags": []
   },
   "outputs": [
    {
     "data": {
      "application/javascript": [
       "parent.postMessage({\"jupyterEvent\": \"custom.exercise_interaction\", \"data\": {\"outcomeType\": 1, \"valueTowardsCompletion\": 0.2, \"interactionType\": 1, \"questionType\": 1, \"questionId\": \"2_NumLeaves\", \"learnToolsVersion\": \"0.3.4\", \"failureMessage\": \"\", \"exceptionClass\": \"\", \"trace\": \"\"}}, \"*\")"
      ],
      "text/plain": [
       "<IPython.core.display.Javascript object>"
      ]
     },
     "metadata": {},
     "output_type": "display_data"
    },
    {
     "data": {
      "text/markdown": [
       "<span style=\"color:#33cc33\">Correct</span>"
      ],
      "text/plain": [
       "Correct"
      ]
     },
     "metadata": {},
     "output_type": "display_data"
    }
   ],
   "source": [
    "# Fill in the blank\n",
    "num_leaves = 7 ** 3\n",
    "\n",
    "# Check your answer\n",
    "q_2.check()"
   ]
  },
  {
   "cell_type": "code",
   "execution_count": 5,
   "id": "2db199be",
   "metadata": {
    "execution": {
     "iopub.execute_input": "2022-02-19T10:01:17.588518Z",
     "iopub.status.busy": "2022-02-19T10:01:17.587637Z",
     "iopub.status.idle": "2022-02-19T10:01:17.590555Z",
     "shell.execute_reply": "2022-02-19T10:01:17.591117Z",
     "shell.execute_reply.started": "2022-02-19T09:54:08.057451Z"
    },
    "papermill": {
     "duration": 0.021776,
     "end_time": "2022-02-19T10:01:17.591271",
     "exception": false,
     "start_time": "2022-02-19T10:01:17.569495",
     "status": "completed"
    },
    "tags": []
   },
   "outputs": [],
   "source": [
    "# Lines below will give you a hint or solution code\n",
    "#q_2.hint()\n",
    "# q_2.solution()"
   ]
  },
  {
   "cell_type": "markdown",
   "id": "47ce51ca",
   "metadata": {
    "papermill": {
     "duration": 0.01504,
     "end_time": "2022-02-19T10:01:17.621851",
     "exception": false,
     "start_time": "2022-02-19T10:01:17.606811",
     "status": "completed"
    },
    "tags": []
   },
   "source": [
    "### 3) Which move will the agent select?\n",
    "\n",
    "In this question, you'll check your understanding of the minimax algorithm.  Remember that with this algorithm, \n",
    "> The agent chooses moves to get a score that is as high as possible, and it assumes the opponent will counteract this by choosing moves to force the score to be as low as possible.\n",
    "\n",
    "Consider the toy example below of a game tree that the agent will use to select its next move.  \n",
    "<center>\n",
    "<img src=\"https://i.imgur.com/QlfWGM9.png\" width=80%><br/>\n",
    "</center>\n",
    "\n",
    "Which move will the agent select?  Use your answer to set the value of the `selected_move` variable below.  Your answer should be one of `1`, `2`, or `3`."
   ]
  },
  {
   "cell_type": "code",
   "execution_count": 6,
   "id": "8ade0dbf",
   "metadata": {
    "execution": {
     "iopub.execute_input": "2022-02-19T10:01:17.658032Z",
     "iopub.status.busy": "2022-02-19T10:01:17.657171Z",
     "iopub.status.idle": "2022-02-19T10:01:17.663644Z",
     "shell.execute_reply": "2022-02-19T10:01:17.664161Z",
     "shell.execute_reply.started": "2022-02-19T09:55:03.169846Z"
    },
    "papermill": {
     "duration": 0.026858,
     "end_time": "2022-02-19T10:01:17.664317",
     "exception": false,
     "start_time": "2022-02-19T10:01:17.637459",
     "status": "completed"
    },
    "tags": []
   },
   "outputs": [
    {
     "data": {
      "application/javascript": [
       "parent.postMessage({\"jupyterEvent\": \"custom.exercise_interaction\", \"data\": {\"outcomeType\": 1, \"valueTowardsCompletion\": 0.2, \"interactionType\": 1, \"questionType\": 2, \"questionId\": \"3_WhichMove\", \"learnToolsVersion\": \"0.3.4\", \"failureMessage\": \"\", \"exceptionClass\": \"\", \"trace\": \"\"}}, \"*\")"
      ],
      "text/plain": [
       "<IPython.core.display.Javascript object>"
      ]
     },
     "metadata": {},
     "output_type": "display_data"
    },
    {
     "data": {
      "text/markdown": [
       "<span style=\"color:#33cc33\">Correct</span>"
      ],
      "text/plain": [
       "Correct"
      ]
     },
     "metadata": {},
     "output_type": "display_data"
    }
   ],
   "source": [
    "# Fill in the blank\n",
    "selected_move = 3\n",
    "\n",
    "# Check your answer\n",
    "q_3.check()"
   ]
  },
  {
   "cell_type": "code",
   "execution_count": 7,
   "id": "d8c529c1",
   "metadata": {
    "execution": {
     "iopub.execute_input": "2022-02-19T10:01:17.700604Z",
     "iopub.status.busy": "2022-02-19T10:01:17.699732Z",
     "iopub.status.idle": "2022-02-19T10:01:17.703187Z",
     "shell.execute_reply": "2022-02-19T10:01:17.703612Z",
     "shell.execute_reply.started": "2022-02-19T09:55:05.454318Z"
    },
    "papermill": {
     "duration": 0.023135,
     "end_time": "2022-02-19T10:01:17.703775",
     "exception": false,
     "start_time": "2022-02-19T10:01:17.680640",
     "status": "completed"
    },
    "tags": []
   },
   "outputs": [],
   "source": [
    "# Lines below will give you a hint or solution code\n",
    "#q_3.hint()\n",
    "#q_3.solution()"
   ]
  },
  {
   "cell_type": "markdown",
   "id": "62bbe15d",
   "metadata": {
    "papermill": {
     "duration": 0.016221,
     "end_time": "2022-02-19T10:01:17.736393",
     "exception": false,
     "start_time": "2022-02-19T10:01:17.720172",
     "status": "completed"
    },
    "tags": []
   },
   "source": [
    "### 4) Examine the assumptions\n",
    "\n",
    "The minimax agent assumes that its opponent plays optimally (with respect to the heuristic, and using a game tree of limited depth).  But this is almost never the case, in practice: it's far more likely for the agent to encounter a suboptimal (that is: worse than optimal) opponent.  \n",
    "\n",
    "Say the minimax agent encounters a suboptimal opponent. Should we expect the minimax agent to still play the game well, despite the contradiction with its assumptions?  If so, why?"
   ]
  },
  {
   "cell_type": "code",
   "execution_count": 8,
   "id": "b953fa8b",
   "metadata": {
    "execution": {
     "iopub.execute_input": "2022-02-19T10:01:17.773415Z",
     "iopub.status.busy": "2022-02-19T10:01:17.772559Z",
     "iopub.status.idle": "2022-02-19T10:01:17.774876Z",
     "shell.execute_reply": "2022-02-19T10:01:17.775304Z",
     "shell.execute_reply.started": "2022-02-19T09:55:51.317656Z"
    },
    "papermill": {
     "duration": 0.022714,
     "end_time": "2022-02-19T10:01:17.775463",
     "exception": false,
     "start_time": "2022-02-19T10:01:17.752749",
     "status": "completed"
    },
    "tags": []
   },
   "outputs": [],
   "source": [
    "#q_4.hint()"
   ]
  },
  {
   "cell_type": "code",
   "execution_count": 9,
   "id": "f8972e99",
   "metadata": {
    "execution": {
     "iopub.execute_input": "2022-02-19T10:01:17.811569Z",
     "iopub.status.busy": "2022-02-19T10:01:17.810721Z",
     "iopub.status.idle": "2022-02-19T10:01:17.817022Z",
     "shell.execute_reply": "2022-02-19T10:01:17.817410Z",
     "shell.execute_reply.started": "2022-02-19T09:55:51.901952Z"
    },
    "papermill": {
     "duration": 0.025664,
     "end_time": "2022-02-19T10:01:17.817565",
     "exception": false,
     "start_time": "2022-02-19T10:01:17.791901",
     "status": "completed"
    },
    "tags": []
   },
   "outputs": [
    {
     "data": {
      "application/javascript": [
       "parent.postMessage({\"jupyterEvent\": \"custom.exercise_interaction\", \"data\": {\"interactionType\": 3, \"questionType\": 4, \"questionId\": \"4_Assumptions\", \"learnToolsVersion\": \"0.3.4\", \"valueTowardsCompletion\": 0.0, \"failureMessage\": \"\", \"exceptionClass\": \"\", \"trace\": \"\", \"outcomeType\": 4}}, \"*\")"
      ],
      "text/plain": [
       "<IPython.core.display.Javascript object>"
      ]
     },
     "metadata": {},
     "output_type": "display_data"
    },
    {
     "data": {
      "text/markdown": [
       "<span style=\"color:#33cc99\">Solution:</span> We can still expect the minimax agent to perform well. On a high level, assuming an optimal opponent simply overestimates the opponent, but does not break the algorithm.  The effect of overestimating the opponent is merely that the minimax agent will take longer to win, than if it had a more accurate understanding of its opponent.  For instance, the minimax agent is highly unlikely to select the same column three times in its first three moves (since it assumes an optimal opponent that will certainly block the winning play in the next move), but this is not a bad initial strategy for playing against an agent that selects columns completely at random."
      ],
      "text/plain": [
       "Solution: We can still expect the minimax agent to perform well. On a high level, assuming an optimal opponent simply overestimates the opponent, but does not break the algorithm.  The effect of overestimating the opponent is merely that the minimax agent will take longer to win, than if it had a more accurate understanding of its opponent.  For instance, the minimax agent is highly unlikely to select the same column three times in its first three moves (since it assumes an optimal opponent that will certainly block the winning play in the next move), but this is not a bad initial strategy for playing against an agent that selects columns completely at random."
      ]
     },
     "metadata": {},
     "output_type": "display_data"
    }
   ],
   "source": [
    "# Check your answer (Run this code cell to receive credit!)\n",
    "q_4.solution()"
   ]
  },
  {
   "cell_type": "markdown",
   "id": "48b061d0",
   "metadata": {
    "papermill": {
     "duration": 0.017188,
     "end_time": "2022-02-19T10:01:17.852137",
     "exception": false,
     "start_time": "2022-02-19T10:01:17.834949",
     "status": "completed"
    },
    "tags": []
   },
   "source": [
    "### 5) Submit to the competition\n",
    "\n",
    "Now, it's time to submit an agent to the competition!  Use the next code cell to define an agent.  (You can see an example of how to write a valid agent in **[this notebook](https://www.kaggle.com/alexisbcook/create-a-connectx-agent)**.)\n",
    "\n",
    "If you decide to use the minimax code from the tutorial, you might like to add [**alpha-beta pruning**](https://en.wikipedia.org/wiki/Alpha%E2%80%93beta_pruning) to decrease the computation time (i.e., get the minimax algorithm to run much faster!).  In this case, \"alpha\" and \"beta\" to refer to two values that are maintained while the algorithm is running, that help to identify early stopping conditions.  \n",
    "\n",
    "Without alpha-beta pruning, minimax evaluates each leaf node.  With alpha-beta pruning, minimax only evaluates nodes that could provide information that affects the agent's choice of action.  Put another way, it identifies nodes that could not possibly affect the final result and avoids evaluating them."
   ]
  },
  {
   "cell_type": "code",
   "execution_count": 10,
   "id": "cebbc2bb",
   "metadata": {
    "execution": {
     "iopub.execute_input": "2022-02-19T10:01:17.890510Z",
     "iopub.status.busy": "2022-02-19T10:01:17.889573Z",
     "iopub.status.idle": "2022-02-19T10:01:17.907402Z",
     "shell.execute_reply": "2022-02-19T10:01:17.907837Z",
     "shell.execute_reply.started": "2022-02-19T10:00:22.641811Z"
    },
    "papermill": {
     "duration": 0.038349,
     "end_time": "2022-02-19T10:01:17.908003",
     "exception": false,
     "start_time": "2022-02-19T10:01:17.869654",
     "status": "completed"
    },
    "tags": []
   },
   "outputs": [],
   "source": [
    "def my_agent(obs, config):\n",
    "    import numpy as np\n",
    "    import random\n",
    "    \n",
    "    # Helper function for minimax: calculates value of heuristic for grid\n",
    "    def get_heuristic(grid, mark, config):\n",
    "        num_threes = count_windows(grid, 3, mark, config)\n",
    "        num_fours = count_windows(grid, 4, mark, config)\n",
    "        num_threes_opp = count_windows(grid, 3, mark%2+1, config)\n",
    "        num_fours_opp = count_windows(grid, 4, mark%2+1, config)\n",
    "        score = num_threes - 1e2*num_threes_opp - 1e4*num_fours_opp + 1e6*num_fours\n",
    "        return score\n",
    "    \n",
    "    def score_move(grid, col, mark, config, nsteps):\n",
    "        next_grid = drop_piece(grid, col, mark, config)\n",
    "        score = minimax(next_grid, nsteps-1, False, mark, config)\n",
    "        return score\n",
    "\n",
    "    # Helper function for minimax: checks if agent or opponent has four in a row in the window\n",
    "    def is_terminal_window(window, config):\n",
    "        return window.count(1) == config.inarow or window.count(2) == config.inarow\n",
    "\n",
    "    # Helper function for minimax: checks if game has ended\n",
    "    def is_terminal_node(grid, config):\n",
    "        # Check for draw \n",
    "        if list(grid[0, :]).count(0) == 0:\n",
    "            return True\n",
    "        # Check for win: horizontal, vertical, or diagonal\n",
    "        # horizontal \n",
    "        for row in range(config.rows):\n",
    "            for col in range(config.columns-(config.inarow-1)):\n",
    "                window = list(grid[row, col:col+config.inarow])\n",
    "                if is_terminal_window(window, config):\n",
    "                    return True\n",
    "        # vertical\n",
    "        for row in range(config.rows-(config.inarow-1)):\n",
    "            for col in range(config.columns):\n",
    "                window = list(grid[row:row+config.inarow, col])\n",
    "                if is_terminal_window(window, config):\n",
    "                    return True\n",
    "        # positive diagonal\n",
    "        for row in range(config.rows-(config.inarow-1)):\n",
    "            for col in range(config.columns-(config.inarow-1)):\n",
    "                window = list(grid[range(row, row+config.inarow), range(col, col+config.inarow)])\n",
    "                if is_terminal_window(window, config):\n",
    "                    return True\n",
    "        # negative diagonal\n",
    "        for row in range(config.inarow-1, config.rows):\n",
    "            for col in range(config.columns-(config.inarow-1)):\n",
    "                window = list(grid[range(row, row-config.inarow, -1), range(col, col+config.inarow)])\n",
    "                if is_terminal_window(window, config):\n",
    "                    return True\n",
    "        return False\n",
    "\n",
    "    # Minimax implementation\n",
    "    def minimax(node, depth, maximizingPlayer, mark, config):\n",
    "        is_terminal = is_terminal_node(node, config)\n",
    "        valid_moves = [c for c in range(config.columns) if node[0][c] == 0]\n",
    "        if depth == 0 or is_terminal:\n",
    "            return get_heuristic(node, mark, config)\n",
    "        if maximizingPlayer:\n",
    "            value = -np.Inf\n",
    "            for col in valid_moves:\n",
    "                child = drop_piece(node, col, mark, config)\n",
    "                value = max(value, minimax(child, depth-1, False, mark, config))\n",
    "            return value\n",
    "        else:\n",
    "            value = np.Inf\n",
    "            for col in valid_moves:\n",
    "                child = drop_piece(node, col, mark%2+1, config)\n",
    "                value = min(value, minimax(child, depth-1, True, mark, config))\n",
    "            return value\n",
    "        \n",
    "    N_STEPS = 5\n",
    "    \n",
    "    # Get list of valid moves\n",
    "    valid_moves = [c for c in range(config.columns) if obs.board[c] == 0]\n",
    "    # Convert the board to a 2D grid\n",
    "    grid = np.asarray(obs.board).reshape(config.rows, config.columns)\n",
    "    # Use the heuristic to assign a score to each possible board in the next step\n",
    "    scores = dict(zip(valid_moves, [score_move(grid, col, obs.mark, config, N_STEPS) for col in valid_moves]))\n",
    "    # Get a list of columns (moves) that maximize the heuristic\n",
    "    max_cols = [key for key in scores.keys() if scores[key] == max(scores.values())]\n",
    "    # Select at random from the maximizing columns\n",
    "    return random.choice(max_cols)"
   ]
  },
  {
   "cell_type": "code",
   "execution_count": 11,
   "id": "e0659e68",
   "metadata": {
    "execution": {
     "iopub.execute_input": "2022-02-19T10:01:17.946303Z",
     "iopub.status.busy": "2022-02-19T10:01:17.945443Z",
     "iopub.status.idle": "2022-02-19T10:01:17.951499Z",
     "shell.execute_reply": "2022-02-19T10:01:17.951958Z",
     "shell.execute_reply.started": "2022-02-19T10:00:23.578019Z"
    },
    "papermill": {
     "duration": 0.026561,
     "end_time": "2022-02-19T10:01:17.952113",
     "exception": false,
     "start_time": "2022-02-19T10:01:17.925552",
     "status": "completed"
    },
    "tags": []
   },
   "outputs": [
    {
     "data": {
      "application/javascript": [
       "parent.postMessage({\"jupyterEvent\": \"custom.exercise_interaction\", \"data\": {\"outcomeType\": 1, \"valueTowardsCompletion\": 0.2, \"interactionType\": 1, \"questionType\": 2, \"questionId\": \"5_JustSubmitEx3\", \"learnToolsVersion\": \"0.3.4\", \"failureMessage\": \"\", \"exceptionClass\": \"\", \"trace\": \"\"}}, \"*\")"
      ],
      "text/plain": [
       "<IPython.core.display.Javascript object>"
      ]
     },
     "metadata": {},
     "output_type": "display_data"
    },
    {
     "data": {
      "text/markdown": [
       "<span style=\"color:#33cc33\">Thank you for creating an agent!</span>"
      ],
      "text/plain": [
       "Thank you for creating an agent!"
      ]
     },
     "metadata": {},
     "output_type": "display_data"
    }
   ],
   "source": [
    "# Run this code cell to get credit for creating an agent\n",
    "q_5.check()"
   ]
  },
  {
   "cell_type": "code",
   "execution_count": 12,
   "id": "8d497c07",
   "metadata": {
    "execution": {
     "iopub.execute_input": "2022-02-19T10:01:17.992026Z",
     "iopub.status.busy": "2022-02-19T10:01:17.991146Z",
     "iopub.status.idle": "2022-02-19T10:01:18.002350Z",
     "shell.execute_reply": "2022-02-19T10:01:18.001895Z",
     "shell.execute_reply.started": "2022-02-19T10:00:26.586818Z"
    },
    "papermill": {
     "duration": 0.032061,
     "end_time": "2022-02-19T10:01:18.002477",
     "exception": false,
     "start_time": "2022-02-19T10:01:17.970416",
     "status": "completed"
    },
    "tags": []
   },
   "outputs": [
    {
     "name": "stdout",
     "output_type": "stream",
     "text": [
      "<function my_agent at 0x7efefec9fa70> written to submission.py\n"
     ]
    }
   ],
   "source": [
    "import inspect\n",
    "import os\n",
    "\n",
    "def write_agent_to_file(function, file):\n",
    "    with open(file, \"a\" if os.path.exists(file) else \"w\") as f:\n",
    "        f.write(inspect.getsource(function))\n",
    "        print(function, \"written to\", file)\n",
    "\n",
    "write_agent_to_file(my_agent, \"submission.py\")"
   ]
  },
  {
   "cell_type": "markdown",
   "id": "6bd93042",
   "metadata": {
    "papermill": {
     "duration": 0.018224,
     "end_time": "2022-02-19T10:01:18.039374",
     "exception": false,
     "start_time": "2022-02-19T10:01:18.021150",
     "status": "completed"
    },
    "tags": []
   },
   "source": [
    "Then, follow these steps to submit your agent to the competition:\n",
    "1. Begin by clicking on the **Save Version** button in the top right corner of the window.  This will generate a pop-up window.  \n",
    "2. Ensure that the **Save and Run All** option is selected, and then click on the **Save** button.\n",
    "3. This generates a window in the bottom left corner of the notebook.  After it has finished running, click on the number to the right of the **Save Version** button.  This pulls up a list of versions on the right of the screen.  Click on the ellipsis **(...)** to the right of the most recent version, and select **Open in Viewer**.  This brings you into view mode of the same page. You will need to scroll down to get back to these instructions.\n",
    "4. Click on the **Output** tab on the right of the screen.  Then, click on the file you would like to submit, and click on the **Submit** button to submit your results to the leaderboard.\n",
    "\n",
    "You have now successfully submitted to the competition!\n",
    "\n",
    "If you want to keep working to improve your performance, select the **Edit** button in the top right of the screen. Then you can change your code and repeat the process. There's a lot of room to improve, and you will climb up the leaderboard as you work.\n",
    "\n",
    "\n",
    "Go to **\"My Submissions\"** to view your score and episodes being played.\n",
    "\n",
    "# Keep going\n",
    "\n",
    "Move on to learn how to **[use deep reinforcement learning](https://www.kaggle.com/alexisbcook/deep-reinforcement-learning)** to develop an agent without a heuristic!"
   ]
  },
  {
   "cell_type": "markdown",
   "id": "c8f261ee",
   "metadata": {
    "papermill": {
     "duration": 0.018926,
     "end_time": "2022-02-19T10:01:18.076908",
     "exception": false,
     "start_time": "2022-02-19T10:01:18.057982",
     "status": "completed"
    },
    "tags": []
   },
   "source": [
    "---\n",
    "\n",
    "\n",
    "\n",
    "\n",
    "*Have questions or comments? Visit the [course discussion forum](https://www.kaggle.com/learn/intro-to-game-ai-and-reinforcement-learning/discussion) to chat with other learners.*"
   ]
  }
 ],
 "metadata": {
  "kernelspec": {
   "display_name": "Python 3",
   "language": "python",
   "name": "python3"
  },
  "language_info": {
   "codemirror_mode": {
    "name": "ipython",
    "version": 3
   },
   "file_extension": ".py",
   "mimetype": "text/x-python",
   "name": "python",
   "nbconvert_exporter": "python",
   "pygments_lexer": "ipython3",
   "version": "3.7.12"
  },
  "papermill": {
   "default_parameters": {},
   "duration": 9.585201,
   "end_time": "2022-02-19T10:01:18.705033",
   "environment_variables": {},
   "exception": null,
   "input_path": "__notebook__.ipynb",
   "output_path": "__notebook__.ipynb",
   "parameters": {},
   "start_time": "2022-02-19T10:01:09.119832",
   "version": "2.3.3"
  }
 },
 "nbformat": 4,
 "nbformat_minor": 5
}
