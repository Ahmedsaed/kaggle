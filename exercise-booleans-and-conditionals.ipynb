{
 "cells": [
  {
   "cell_type": "markdown",
   "id": "99633c0c",
   "metadata": {
    "papermill": {
     "duration": 0.027547,
     "end_time": "2022-02-12T16:07:50.063891",
     "exception": false,
     "start_time": "2022-02-12T16:07:50.036344",
     "status": "completed"
    },
    "tags": []
   },
   "source": [
    "**This notebook is an exercise in the [Python](https://www.kaggle.com/learn/python) course.  You can reference the tutorial at [this link](https://www.kaggle.com/colinmorris/booleans-and-conditionals).**\n",
    "\n",
    "---\n"
   ]
  },
  {
   "cell_type": "markdown",
   "id": "e788263f",
   "metadata": {
    "papermill": {
     "duration": 0.025624,
     "end_time": "2022-02-12T16:07:50.118428",
     "exception": false,
     "start_time": "2022-02-12T16:07:50.092804",
     "status": "completed"
    },
    "tags": []
   },
   "source": [
    "In this exercise, you'll put to work what you have learned about booleans and conditionals.\n",
    "\n",
    "To get started, **run the setup code below** before writing your own code (and if you leave this notebook and come back later, don't forget to run the setup code again)."
   ]
  },
  {
   "cell_type": "code",
   "execution_count": 1,
   "id": "646a60be",
   "metadata": {
    "execution": {
     "iopub.execute_input": "2022-02-12T16:07:50.181435Z",
     "iopub.status.busy": "2022-02-12T16:07:50.180513Z",
     "iopub.status.idle": "2022-02-12T16:07:50.217170Z",
     "shell.execute_reply": "2022-02-12T16:07:50.217728Z",
     "shell.execute_reply.started": "2022-02-12T14:54:57.32824Z"
    },
    "papermill": {
     "duration": 0.073566,
     "end_time": "2022-02-12T16:07:50.218059",
     "exception": false,
     "start_time": "2022-02-12T16:07:50.144493",
     "status": "completed"
    },
    "tags": []
   },
   "outputs": [
    {
     "name": "stdout",
     "output_type": "stream",
     "text": [
      "Setup complete.\n"
     ]
    }
   ],
   "source": [
    "from learntools.core import binder; binder.bind(globals())\n",
    "from learntools.python.ex3 import *\n",
    "print('Setup complete.')"
   ]
  },
  {
   "cell_type": "markdown",
   "id": "fd257fd8",
   "metadata": {
    "papermill": {
     "duration": 0.034463,
     "end_time": "2022-02-12T16:07:50.279374",
     "exception": false,
     "start_time": "2022-02-12T16:07:50.244911",
     "status": "completed"
    },
    "tags": []
   },
   "source": [
    "# 1.\n",
    "\n",
    "Many programming languages have [`sign`](https://en.wikipedia.org/wiki/Sign_function) available as a built-in function. Python doesn't, but we can define our own!\n",
    "\n",
    "In the cell below, define a function called `sign` which takes a numerical argument and returns -1 if it's negative, 1 if it's positive, and 0 if it's 0."
   ]
  },
  {
   "cell_type": "code",
   "execution_count": 2,
   "id": "6b26d198",
   "metadata": {
    "execution": {
     "iopub.execute_input": "2022-02-12T16:07:50.351931Z",
     "iopub.status.busy": "2022-02-12T16:07:50.351291Z",
     "iopub.status.idle": "2022-02-12T16:07:50.359325Z",
     "shell.execute_reply": "2022-02-12T16:07:50.359874Z",
     "shell.execute_reply.started": "2022-02-12T14:56:09.601067Z"
    },
    "papermill": {
     "duration": 0.045021,
     "end_time": "2022-02-12T16:07:50.360046",
     "exception": false,
     "start_time": "2022-02-12T16:07:50.315025",
     "status": "completed"
    },
    "tags": []
   },
   "outputs": [
    {
     "data": {
      "application/javascript": [
       "parent.postMessage({\"jupyterEvent\": \"custom.exercise_interaction\", \"data\": {\"outcomeType\": 1, \"valueTowardsCompletion\": 0.2, \"interactionType\": 1, \"questionType\": 2, \"questionId\": \"1_SignFunctionProblem\", \"learnToolsVersion\": \"0.3.4\", \"failureMessage\": \"\", \"exceptionClass\": \"\", \"trace\": \"\"}}, \"*\")"
      ],
      "text/plain": [
       "<IPython.core.display.Javascript object>"
      ]
     },
     "metadata": {},
     "output_type": "display_data"
    },
    {
     "data": {
      "text/markdown": [
       "<span style=\"color:#33cc33\">Correct</span>"
      ],
      "text/plain": [
       "Correct"
      ]
     },
     "metadata": {},
     "output_type": "display_data"
    }
   ],
   "source": [
    "# Your code goes here. Define a function called 'sign'\n",
    "def sign(num):\n",
    "    if num == 0:\n",
    "        return 0\n",
    "    elif num >0:\n",
    "        return 1\n",
    "    else:\n",
    "        return -1\n",
    "\n",
    "# Check your answer\n",
    "q1.check()"
   ]
  },
  {
   "cell_type": "code",
   "execution_count": 3,
   "id": "49c57d8a",
   "metadata": {
    "execution": {
     "iopub.execute_input": "2022-02-12T16:07:50.417719Z",
     "iopub.status.busy": "2022-02-12T16:07:50.417158Z",
     "iopub.status.idle": "2022-02-12T16:07:50.420401Z",
     "shell.execute_reply": "2022-02-12T16:07:50.420816Z",
     "shell.execute_reply.started": "2022-02-12T14:56:10.89824Z"
    },
    "papermill": {
     "duration": 0.033603,
     "end_time": "2022-02-12T16:07:50.420988",
     "exception": false,
     "start_time": "2022-02-12T16:07:50.387385",
     "status": "completed"
    },
    "tags": []
   },
   "outputs": [],
   "source": [
    "#q1.solution()"
   ]
  },
  {
   "cell_type": "markdown",
   "id": "4fbad30b",
   "metadata": {
    "papermill": {
     "duration": 0.026777,
     "end_time": "2022-02-12T16:07:50.475104",
     "exception": false,
     "start_time": "2022-02-12T16:07:50.448327",
     "status": "completed"
    },
    "tags": []
   },
   "source": [
    "# 2.\n",
    "\n",
    "We've decided to add \"logging\" to our `to_smash` function from the previous exercise."
   ]
  },
  {
   "cell_type": "code",
   "execution_count": 4,
   "id": "db3233bd",
   "metadata": {
    "execution": {
     "iopub.execute_input": "2022-02-12T16:07:50.535864Z",
     "iopub.status.busy": "2022-02-12T16:07:50.535242Z",
     "iopub.status.idle": "2022-02-12T16:07:50.539281Z",
     "shell.execute_reply": "2022-02-12T16:07:50.539840Z",
     "shell.execute_reply.started": "2022-02-12T14:57:11.474281Z"
    },
    "papermill": {
     "duration": 0.037577,
     "end_time": "2022-02-12T16:07:50.540005",
     "exception": false,
     "start_time": "2022-02-12T16:07:50.502428",
     "status": "completed"
    },
    "tags": []
   },
   "outputs": [
    {
     "name": "stdout",
     "output_type": "stream",
     "text": [
      "Splitting 91 candies\n"
     ]
    },
    {
     "data": {
      "text/plain": [
       "1"
      ]
     },
     "execution_count": 4,
     "metadata": {},
     "output_type": "execute_result"
    }
   ],
   "source": [
    "def to_smash(total_candies):\n",
    "    \"\"\"Return the number of leftover candies that must be smashed after distributing\n",
    "    the given number of candies evenly between 3 friends.\n",
    "    \n",
    "    >>> to_smash(91)\n",
    "    1\n",
    "    \"\"\"\n",
    "    print(\"Splitting\", total_candies, \"candies\")\n",
    "    return total_candies % 3\n",
    "\n",
    "to_smash(91)"
   ]
  },
  {
   "cell_type": "markdown",
   "id": "c696c8d6",
   "metadata": {
    "papermill": {
     "duration": 0.027523,
     "end_time": "2022-02-12T16:07:50.595759",
     "exception": false,
     "start_time": "2022-02-12T16:07:50.568236",
     "status": "completed"
    },
    "tags": []
   },
   "source": [
    "What happens if we call it with `total_candies = 1`?"
   ]
  },
  {
   "cell_type": "code",
   "execution_count": 5,
   "id": "f131e318",
   "metadata": {
    "execution": {
     "iopub.execute_input": "2022-02-12T16:07:50.654007Z",
     "iopub.status.busy": "2022-02-12T16:07:50.653395Z",
     "iopub.status.idle": "2022-02-12T16:07:50.659757Z",
     "shell.execute_reply": "2022-02-12T16:07:50.660311Z",
     "shell.execute_reply.started": "2022-02-12T14:57:18.083075Z"
    },
    "papermill": {
     "duration": 0.036999,
     "end_time": "2022-02-12T16:07:50.660479",
     "exception": false,
     "start_time": "2022-02-12T16:07:50.623480",
     "status": "completed"
    },
    "tags": []
   },
   "outputs": [
    {
     "name": "stdout",
     "output_type": "stream",
     "text": [
      "Splitting 1 candies\n"
     ]
    },
    {
     "data": {
      "text/plain": [
       "1"
      ]
     },
     "execution_count": 5,
     "metadata": {},
     "output_type": "execute_result"
    }
   ],
   "source": [
    "to_smash(1)"
   ]
  },
  {
   "cell_type": "markdown",
   "id": "b63b3ded",
   "metadata": {
    "papermill": {
     "duration": 0.034435,
     "end_time": "2022-02-12T16:07:50.727959",
     "exception": false,
     "start_time": "2022-02-12T16:07:50.693524",
     "status": "completed"
    },
    "tags": []
   },
   "source": [
    "That isn't great grammar!\n",
    "\n",
    "Modify the definition in the cell below to correct the grammar of our print statement. (If there's only one candy, we should use the singular \"candy\" instead of the plural \"candies\")"
   ]
  },
  {
   "cell_type": "code",
   "execution_count": 6,
   "id": "f1f619a4",
   "metadata": {
    "execution": {
     "iopub.execute_input": "2022-02-12T16:07:50.797024Z",
     "iopub.status.busy": "2022-02-12T16:07:50.796248Z",
     "iopub.status.idle": "2022-02-12T16:07:50.800711Z",
     "shell.execute_reply": "2022-02-12T16:07:50.800256Z",
     "shell.execute_reply.started": "2022-02-12T15:00:30.867375Z"
    },
    "papermill": {
     "duration": 0.040129,
     "end_time": "2022-02-12T16:07:50.800874",
     "exception": false,
     "start_time": "2022-02-12T16:07:50.760745",
     "status": "completed"
    },
    "tags": []
   },
   "outputs": [
    {
     "name": "stdout",
     "output_type": "stream",
     "text": [
      "Splitting 91 candies\n",
      "Splitting 1 candy\n"
     ]
    },
    {
     "data": {
      "text/plain": [
       "1"
      ]
     },
     "execution_count": 6,
     "metadata": {},
     "output_type": "execute_result"
    }
   ],
   "source": [
    "def to_smash(total_candies):\n",
    "    \"\"\"Return the number of leftover candies that must be smashed after distributing\n",
    "    the given number of candies evenly between 3 friends.\n",
    "    \n",
    "    >>> to_smash(91)\n",
    "    1\n",
    "    \"\"\"\n",
    "    print(\"Splitting\", total_candies, \"candies\" if total_candies != 1 else \"candy\")\n",
    "    return total_candies % 3\n",
    "\n",
    "to_smash(91)\n",
    "to_smash(1)"
   ]
  },
  {
   "cell_type": "markdown",
   "id": "e35c1b43",
   "metadata": {
    "papermill": {
     "duration": 0.029948,
     "end_time": "2022-02-12T16:07:50.860225",
     "exception": false,
     "start_time": "2022-02-12T16:07:50.830277",
     "status": "completed"
    },
    "tags": []
   },
   "source": [
    "To get credit for completing this problem, and to see the official answer, run the code cell below."
   ]
  },
  {
   "cell_type": "code",
   "execution_count": 7,
   "id": "5f9299c8",
   "metadata": {
    "execution": {
     "iopub.execute_input": "2022-02-12T16:07:50.922750Z",
     "iopub.status.busy": "2022-02-12T16:07:50.921817Z",
     "iopub.status.idle": "2022-02-12T16:07:50.928393Z",
     "shell.execute_reply": "2022-02-12T16:07:50.928835Z",
     "shell.execute_reply.started": "2022-02-12T15:00:35.786649Z"
    },
    "papermill": {
     "duration": 0.039533,
     "end_time": "2022-02-12T16:07:50.928989",
     "exception": false,
     "start_time": "2022-02-12T16:07:50.889456",
     "status": "completed"
    },
    "tags": []
   },
   "outputs": [
    {
     "data": {
      "application/javascript": [
       "parent.postMessage({\"jupyterEvent\": \"custom.exercise_interaction\", \"data\": {\"interactionType\": 3, \"questionType\": 4, \"questionId\": \"2_PluralizationProblem\", \"learnToolsVersion\": \"0.3.4\", \"valueTowardsCompletion\": 0.0, \"failureMessage\": \"\", \"exceptionClass\": \"\", \"trace\": \"\", \"outcomeType\": 4}}, \"*\")"
      ],
      "text/plain": [
       "<IPython.core.display.Javascript object>"
      ]
     },
     "metadata": {},
     "output_type": "display_data"
    },
    {
     "data": {
      "text/markdown": [
       "<span style=\"color:#33cc99\">Solution:</span> A straightforward (and totally fine) solution is to replace the original `print` call with:\n",
       "\n",
       "```python\n",
       "if total_candies == 1:\n",
       "    print(\"Splitting 1 candy\")\n",
       "else:\n",
       "    print(\"Splitting\", total_candies, \"candies\")\n",
       "```\n",
       "\n",
       "Here's a slightly more succinct solution using a conditional expression:\n",
       "\n",
       "```python\n",
       "print(\"Splitting\", total_candies, \"candy\" if total_candies == 1 else \"candies\")\n",
       "```"
      ],
      "text/plain": [
       "Solution: A straightforward (and totally fine) solution is to replace the original `print` call with:\n",
       "\n",
       "```python\n",
       "if total_candies == 1:\n",
       "    print(\"Splitting 1 candy\")\n",
       "else:\n",
       "    print(\"Splitting\", total_candies, \"candies\")\n",
       "```\n",
       "\n",
       "Here's a slightly more succinct solution using a conditional expression:\n",
       "\n",
       "```python\n",
       "print(\"Splitting\", total_candies, \"candy\" if total_candies == 1 else \"candies\")\n",
       "```"
      ]
     },
     "metadata": {},
     "output_type": "display_data"
    }
   ],
   "source": [
    "# Check your answer (Run this code cell to receive credit!)\n",
    "q2.solution()"
   ]
  },
  {
   "cell_type": "markdown",
   "id": "c61202ff",
   "metadata": {
    "papermill": {
     "duration": 0.029689,
     "end_time": "2022-02-12T16:07:50.988601",
     "exception": false,
     "start_time": "2022-02-12T16:07:50.958912",
     "status": "completed"
    },
    "tags": []
   },
   "source": [
    "# 3. <span title=\"A bit spicy\" style=\"color: darkgreen \">🌶️</span>\n",
    "\n",
    "In the tutorial, we talked about deciding whether we're prepared for the weather. I said that I'm safe from today's weather if...\n",
    "- I have an umbrella...\n",
    "- or if the rain isn't too heavy and I have a hood...\n",
    "- otherwise, I'm still fine unless it's raining *and* it's a workday\n",
    "\n",
    "The function below uses our first attempt at turning this logic into a Python expression. I claimed that there was a bug in that code. Can you find it?\n",
    "\n",
    "To prove that `prepared_for_weather` is buggy, come up with a set of inputs where either:\n",
    "- the function returns `False` (but should have returned `True`), or\n",
    "- the function returned `True` (but should have returned `False`).\n",
    "\n",
    "To get credit for completing this question, your code should return a <font color='#33cc33'>Correct</font> result."
   ]
  },
  {
   "cell_type": "code",
   "execution_count": 8,
   "id": "1b8df3f6",
   "metadata": {
    "execution": {
     "iopub.execute_input": "2022-02-12T16:07:51.053053Z",
     "iopub.status.busy": "2022-02-12T16:07:51.052111Z",
     "iopub.status.idle": "2022-02-12T16:07:51.062333Z",
     "shell.execute_reply": "2022-02-12T16:07:51.062905Z",
     "shell.execute_reply.started": "2022-02-12T15:07:36.771304Z"
    },
    "papermill": {
     "duration": 0.044377,
     "end_time": "2022-02-12T16:07:51.063076",
     "exception": false,
     "start_time": "2022-02-12T16:07:51.018699",
     "status": "completed"
    },
    "tags": []
   },
   "outputs": [
    {
     "name": "stdout",
     "output_type": "stream",
     "text": [
      "False\n"
     ]
    },
    {
     "data": {
      "application/javascript": [
       "parent.postMessage({\"jupyterEvent\": \"custom.exercise_interaction\", \"data\": {\"outcomeType\": 1, \"valueTowardsCompletion\": 0.2, \"interactionType\": 1, \"questionType\": 1, \"questionId\": \"3_WeatherDebug\", \"learnToolsVersion\": \"0.3.4\", \"failureMessage\": \"\", \"exceptionClass\": \"\", \"trace\": \"\"}}, \"*\")"
      ],
      "text/plain": [
       "<IPython.core.display.Javascript object>"
      ]
     },
     "metadata": {},
     "output_type": "display_data"
    },
    {
     "data": {
      "text/markdown": [
       "<span style=\"color:#33cc33\">Correct:</span> \n",
       "\n",
       "One example of a failing test case is:\n",
       "\n",
       "```python\n",
       "have_umbrella = False\n",
       "rain_level = 0.0\n",
       "have_hood = False\n",
       "is_workday = False\n",
       "```\n",
       "\n",
       "Clearly we're prepared for the weather in this case. It's not raining. Not only that, it's not a workday, so we don't even need to leave the house! But our function will return False on these inputs.\n",
       "\n",
       "The key problem is that Python implictly parenthesizes the last part as:\n",
       "\n",
       "```python\n",
       "(not (rain_level > 0)) and is_workday\n",
       "```\n",
       "\n",
       "Whereas what we were trying to express would look more like:\n",
       "\n",
       "```python\n",
       "not (rain_level > 0 and is_workday)\n",
       "```\n"
      ],
      "text/plain": [
       "Correct: \n",
       "\n",
       "One example of a failing test case is:\n",
       "\n",
       "```python\n",
       "have_umbrella = False\n",
       "rain_level = 0.0\n",
       "have_hood = False\n",
       "is_workday = False\n",
       "```\n",
       "\n",
       "Clearly we're prepared for the weather in this case. It's not raining. Not only that, it's not a workday, so we don't even need to leave the house! But our function will return False on these inputs.\n",
       "\n",
       "The key problem is that Python implictly parenthesizes the last part as:\n",
       "\n",
       "```python\n",
       "(not (rain_level > 0)) and is_workday\n",
       "```\n",
       "\n",
       "Whereas what we were trying to express would look more like:\n",
       "\n",
       "```python\n",
       "not (rain_level > 0 and is_workday)\n",
       "```"
      ]
     },
     "metadata": {},
     "output_type": "display_data"
    }
   ],
   "source": [
    "def prepared_for_weather(have_umbrella, rain_level, have_hood, is_workday):\n",
    "    # Don't change this code. Our goal is just to find the bug, not fix it!\n",
    "    return have_umbrella or rain_level < 5 and have_hood or not rain_level > 0 and is_workday\n",
    "\n",
    "# Change the values of these inputs so they represent a case where prepared_for_weather\n",
    "# returns the wrong answer.\n",
    "have_umbrella = False\n",
    "rain_level = 1\n",
    "have_hood = False\n",
    "is_workday = False\n",
    "\n",
    "# Check what the function returns given the current values of the variables above\n",
    "actual = prepared_for_weather(have_umbrella, rain_level, have_hood, is_workday)\n",
    "print(actual)\n",
    "\n",
    "# Check your answer\n",
    "q3.check()"
   ]
  },
  {
   "cell_type": "code",
   "execution_count": 9,
   "id": "1d44be7f",
   "metadata": {
    "execution": {
     "iopub.execute_input": "2022-02-12T16:07:51.129166Z",
     "iopub.status.busy": "2022-02-12T16:07:51.128260Z",
     "iopub.status.idle": "2022-02-12T16:07:51.131273Z",
     "shell.execute_reply": "2022-02-12T16:07:51.131808Z",
     "shell.execute_reply.started": "2022-02-12T15:07:41.180799Z"
    },
    "papermill": {
     "duration": 0.03769,
     "end_time": "2022-02-12T16:07:51.131964",
     "exception": false,
     "start_time": "2022-02-12T16:07:51.094274",
     "status": "completed"
    },
    "tags": []
   },
   "outputs": [],
   "source": [
    "#q3.hint()\n",
    "#q3.solution()"
   ]
  },
  {
   "cell_type": "markdown",
   "id": "9c777a01",
   "metadata": {
    "papermill": {
     "duration": 0.042139,
     "end_time": "2022-02-12T16:07:51.215523",
     "exception": false,
     "start_time": "2022-02-12T16:07:51.173384",
     "status": "completed"
    },
    "tags": []
   },
   "source": [
    "# 4.\n",
    "\n",
    "The function `is_negative` below is implemented correctly - it returns True if the given number is negative and False otherwise.\n",
    "\n",
    "However, it's more verbose than it needs to be. We can actually reduce the number of lines of code in this function by *75%* while keeping the same behaviour. \n",
    "\n",
    "See if you can come up with an equivalent body that uses just **one line** of code, and put it in the function `concise_is_negative`. (HINT: you don't even need Python's ternary syntax)"
   ]
  },
  {
   "cell_type": "code",
   "execution_count": 10,
   "id": "c635b237",
   "metadata": {
    "execution": {
     "iopub.execute_input": "2022-02-12T16:07:51.286758Z",
     "iopub.status.busy": "2022-02-12T16:07:51.286156Z",
     "iopub.status.idle": "2022-02-12T16:07:51.292606Z",
     "shell.execute_reply": "2022-02-12T16:07:51.293118Z",
     "shell.execute_reply.started": "2022-02-12T15:10:01.984812Z"
    },
    "papermill": {
     "duration": 0.043387,
     "end_time": "2022-02-12T16:07:51.293280",
     "exception": false,
     "start_time": "2022-02-12T16:07:51.249893",
     "status": "completed"
    },
    "tags": []
   },
   "outputs": [
    {
     "data": {
      "application/javascript": [
       "parent.postMessage({\"jupyterEvent\": \"custom.exercise_interaction\", \"data\": {\"outcomeType\": 1, \"valueTowardsCompletion\": 0.2, \"interactionType\": 1, \"questionType\": 2, \"questionId\": \"4_ConciseIsNegative\", \"learnToolsVersion\": \"0.3.4\", \"failureMessage\": \"\", \"exceptionClass\": \"\", \"trace\": \"\"}}, \"*\")"
      ],
      "text/plain": [
       "<IPython.core.display.Javascript object>"
      ]
     },
     "metadata": {},
     "output_type": "display_data"
    },
    {
     "data": {
      "text/markdown": [
       "<span style=\"color:#33cc33\">Correct</span>"
      ],
      "text/plain": [
       "Correct"
      ]
     },
     "metadata": {},
     "output_type": "display_data"
    }
   ],
   "source": [
    "def is_negative(number):\n",
    "    if number < 0:\n",
    "        return True\n",
    "    else:\n",
    "        return False\n",
    "\n",
    "def concise_is_negative(number):\n",
    "    return True if number < 0 else False\n",
    "\n",
    "# Check your answer\n",
    "q4.check()"
   ]
  },
  {
   "cell_type": "code",
   "execution_count": 11,
   "id": "9c4fa851",
   "metadata": {
    "execution": {
     "iopub.execute_input": "2022-02-12T16:07:51.362625Z",
     "iopub.status.busy": "2022-02-12T16:07:51.362032Z",
     "iopub.status.idle": "2022-02-12T16:07:51.364178Z",
     "shell.execute_reply": "2022-02-12T16:07:51.363543Z",
     "shell.execute_reply.started": "2022-02-12T15:10:04.141471Z"
    },
    "papermill": {
     "duration": 0.038323,
     "end_time": "2022-02-12T16:07:51.364316",
     "exception": false,
     "start_time": "2022-02-12T16:07:51.325993",
     "status": "completed"
    },
    "tags": []
   },
   "outputs": [],
   "source": [
    "#q4.hint()\n",
    "#q4.solution()"
   ]
  },
  {
   "cell_type": "markdown",
   "id": "2b6b5fde",
   "metadata": {
    "papermill": {
     "duration": 0.032899,
     "end_time": "2022-02-12T16:07:51.429939",
     "exception": false,
     "start_time": "2022-02-12T16:07:51.397040",
     "status": "completed"
    },
    "tags": []
   },
   "source": [
    "# 5a.\n",
    "\n",
    "The boolean variables `ketchup`, `mustard` and `onion` represent whether a customer wants a particular topping on their hot dog. We want to implement a number of boolean functions that correspond to some yes-or-no questions about the customer's order. For example:"
   ]
  },
  {
   "cell_type": "code",
   "execution_count": 12,
   "id": "3a40f8be",
   "metadata": {
    "execution": {
     "iopub.execute_input": "2022-02-12T16:07:51.499067Z",
     "iopub.status.busy": "2022-02-12T16:07:51.498439Z",
     "iopub.status.idle": "2022-02-12T16:07:51.501208Z",
     "shell.execute_reply": "2022-02-12T16:07:51.500597Z",
     "shell.execute_reply.started": "2022-02-12T15:10:55.965014Z"
    },
    "papermill": {
     "duration": 0.039146,
     "end_time": "2022-02-12T16:07:51.501344",
     "exception": false,
     "start_time": "2022-02-12T16:07:51.462198",
     "status": "completed"
    },
    "tags": []
   },
   "outputs": [],
   "source": [
    "def onionless(ketchup, mustard, onion):\n",
    "    \"\"\"Return whether the customer doesn't want onions.\n",
    "    \"\"\"\n",
    "    return not onion"
   ]
  },
  {
   "cell_type": "code",
   "execution_count": 13,
   "id": "703ed0ec",
   "metadata": {
    "execution": {
     "iopub.execute_input": "2022-02-12T16:07:51.570287Z",
     "iopub.status.busy": "2022-02-12T16:07:51.569367Z",
     "iopub.status.idle": "2022-02-12T16:07:51.576146Z",
     "shell.execute_reply": "2022-02-12T16:07:51.576572Z",
     "shell.execute_reply.started": "2022-02-12T15:11:32.009616Z"
    },
    "papermill": {
     "duration": 0.042572,
     "end_time": "2022-02-12T16:07:51.576727",
     "exception": false,
     "start_time": "2022-02-12T16:07:51.534155",
     "status": "completed"
    },
    "tags": []
   },
   "outputs": [
    {
     "data": {
      "application/javascript": [
       "parent.postMessage({\"jupyterEvent\": \"custom.exercise_interaction\", \"data\": {\"outcomeType\": 1, \"valueTowardsCompletion\": 0.2, \"interactionType\": 1, \"questionType\": 2, \"questionId\": \"5.1_AllToppings\", \"learnToolsVersion\": \"0.3.4\", \"failureMessage\": \"\", \"exceptionClass\": \"\", \"trace\": \"\"}}, \"*\")"
      ],
      "text/plain": [
       "<IPython.core.display.Javascript object>"
      ]
     },
     "metadata": {},
     "output_type": "display_data"
    },
    {
     "data": {
      "text/markdown": [
       "<span style=\"color:#33cc33\">Correct</span>"
      ],
      "text/plain": [
       "Correct"
      ]
     },
     "metadata": {},
     "output_type": "display_data"
    }
   ],
   "source": [
    "def wants_all_toppings(ketchup, mustard, onion):\n",
    "    \"\"\"Return whether the customer wants \"the works\" (all 3 toppings)\n",
    "    \"\"\"\n",
    "    return ketchup and mustard and onion\n",
    "\n",
    "# Check your answer\n",
    "q5.a.check()"
   ]
  },
  {
   "cell_type": "code",
   "execution_count": 14,
   "id": "9e1a1d5d",
   "metadata": {
    "execution": {
     "iopub.execute_input": "2022-02-12T16:07:51.646606Z",
     "iopub.status.busy": "2022-02-12T16:07:51.645804Z",
     "iopub.status.idle": "2022-02-12T16:07:51.648421Z",
     "shell.execute_reply": "2022-02-12T16:07:51.648855Z",
     "shell.execute_reply.started": "2022-02-12T15:11:32.969005Z"
    },
    "papermill": {
     "duration": 0.039134,
     "end_time": "2022-02-12T16:07:51.649025",
     "exception": false,
     "start_time": "2022-02-12T16:07:51.609891",
     "status": "completed"
    },
    "tags": []
   },
   "outputs": [],
   "source": [
    "#q5.a.hint()\n",
    "#q5.a.solution()"
   ]
  },
  {
   "cell_type": "markdown",
   "id": "d6e48135",
   "metadata": {
    "papermill": {
     "duration": 0.033102,
     "end_time": "2022-02-12T16:07:51.715559",
     "exception": false,
     "start_time": "2022-02-12T16:07:51.682457",
     "status": "completed"
    },
    "tags": []
   },
   "source": [
    "# 5b.\n",
    "\n",
    "For the next function, fill in the body to match the English description in the docstring. "
   ]
  },
  {
   "cell_type": "code",
   "execution_count": 15,
   "id": "89ff698e",
   "metadata": {
    "execution": {
     "iopub.execute_input": "2022-02-12T16:07:51.788499Z",
     "iopub.status.busy": "2022-02-12T16:07:51.787527Z",
     "iopub.status.idle": "2022-02-12T16:07:51.792255Z",
     "shell.execute_reply": "2022-02-12T16:07:51.792720Z",
     "shell.execute_reply.started": "2022-02-12T15:12:13.184078Z"
    },
    "papermill": {
     "duration": 0.043759,
     "end_time": "2022-02-12T16:07:51.792895",
     "exception": false,
     "start_time": "2022-02-12T16:07:51.749136",
     "status": "completed"
    },
    "tags": []
   },
   "outputs": [
    {
     "data": {
      "application/javascript": [
       "parent.postMessage({\"jupyterEvent\": \"custom.exercise_interaction\", \"data\": {\"outcomeType\": 1, \"valueTowardsCompletion\": 0.2, \"interactionType\": 1, \"questionType\": 2, \"questionId\": \"5.2_PlainDog\", \"learnToolsVersion\": \"0.3.4\", \"failureMessage\": \"\", \"exceptionClass\": \"\", \"trace\": \"\"}}, \"*\")"
      ],
      "text/plain": [
       "<IPython.core.display.Javascript object>"
      ]
     },
     "metadata": {},
     "output_type": "display_data"
    },
    {
     "data": {
      "text/markdown": [
       "<span style=\"color:#33cc33\">Correct:</span> \n",
       "\n",
       "One solution looks like:\n",
       "```python\n",
       "return not ketchup and not mustard and not onion\n",
       "```\n",
       "\n",
       "We can also [\"factor out\" the nots](https://en.wikipedia.org/wiki/De_Morgan%27s_laws) to get:\n",
       "\n",
       "```python\n",
       "return not (ketchup or mustard or onion)\n",
       "```"
      ],
      "text/plain": [
       "Correct: \n",
       "\n",
       "One solution looks like:\n",
       "```python\n",
       "return not ketchup and not mustard and not onion\n",
       "```\n",
       "\n",
       "We can also [\"factor out\" the nots](https://en.wikipedia.org/wiki/De_Morgan%27s_laws) to get:\n",
       "\n",
       "```python\n",
       "return not (ketchup or mustard or onion)\n",
       "```"
      ]
     },
     "metadata": {},
     "output_type": "display_data"
    }
   ],
   "source": [
    "def wants_plain_hotdog(ketchup, mustard, onion):\n",
    "    \"\"\"Return whether the customer wants a plain hot dog with no toppings.\n",
    "    \"\"\"\n",
    "    return not ketchup and not mustard and not onion\n",
    "\n",
    "# Check your answer\n",
    "q5.b.check()"
   ]
  },
  {
   "cell_type": "code",
   "execution_count": 16,
   "id": "1f3a9376",
   "metadata": {
    "execution": {
     "iopub.execute_input": "2022-02-12T16:07:51.866067Z",
     "iopub.status.busy": "2022-02-12T16:07:51.865221Z",
     "iopub.status.idle": "2022-02-12T16:07:51.868345Z",
     "shell.execute_reply": "2022-02-12T16:07:51.868760Z",
     "shell.execute_reply.started": "2022-02-12T15:12:16.499528Z"
    },
    "papermill": {
     "duration": 0.041741,
     "end_time": "2022-02-12T16:07:51.868942",
     "exception": false,
     "start_time": "2022-02-12T16:07:51.827201",
     "status": "completed"
    },
    "tags": []
   },
   "outputs": [],
   "source": [
    "#q5.b.hint()\n",
    "#q5.b.solution()"
   ]
  },
  {
   "cell_type": "markdown",
   "id": "466f4e75",
   "metadata": {
    "papermill": {
     "duration": 0.034465,
     "end_time": "2022-02-12T16:07:51.937769",
     "exception": false,
     "start_time": "2022-02-12T16:07:51.903304",
     "status": "completed"
    },
    "tags": []
   },
   "source": [
    "# 5c.\n",
    "\n",
    "You know what to do: for the next function, fill in the body to match the English description in the docstring."
   ]
  },
  {
   "cell_type": "code",
   "execution_count": 17,
   "id": "137409e0",
   "metadata": {
    "execution": {
     "iopub.execute_input": "2022-02-12T16:07:52.009766Z",
     "iopub.status.busy": "2022-02-12T16:07:52.009145Z",
     "iopub.status.idle": "2022-02-12T16:07:52.015098Z",
     "shell.execute_reply": "2022-02-12T16:07:52.015567Z",
     "shell.execute_reply.started": "2022-02-12T15:14:00.41076Z"
    },
    "papermill": {
     "duration": 0.043124,
     "end_time": "2022-02-12T16:07:52.015721",
     "exception": false,
     "start_time": "2022-02-12T16:07:51.972597",
     "status": "completed"
    },
    "tags": []
   },
   "outputs": [
    {
     "data": {
      "application/javascript": [
       "parent.postMessage({\"jupyterEvent\": \"custom.exercise_interaction\", \"data\": {\"outcomeType\": 1, \"valueTowardsCompletion\": 0.2, \"interactionType\": 1, \"questionType\": 2, \"questionId\": \"5.3_OneSauce\", \"learnToolsVersion\": \"0.3.4\", \"failureMessage\": \"\", \"exceptionClass\": \"\", \"trace\": \"\"}}, \"*\")"
      ],
      "text/plain": [
       "<IPython.core.display.Javascript object>"
      ]
     },
     "metadata": {},
     "output_type": "display_data"
    },
    {
     "data": {
      "text/markdown": [
       "<span style=\"color:#33cc33\">Correct</span>"
      ],
      "text/plain": [
       "Correct"
      ]
     },
     "metadata": {},
     "output_type": "display_data"
    }
   ],
   "source": [
    "def exactly_one_sauce(ketchup, mustard, onion):\n",
    "    \"\"\"Return whether the customer wants either ketchup or mustard, but not both.\n",
    "    (You may be familiar with this operation under the name \"exclusive or\")\n",
    "    \"\"\"\n",
    "    return ketchup ^ mustard\n",
    "\n",
    "# Check your answer\n",
    "q5.c.check()"
   ]
  },
  {
   "cell_type": "code",
   "execution_count": 18,
   "id": "4e9ebd4f",
   "metadata": {
    "execution": {
     "iopub.execute_input": "2022-02-12T16:07:52.090265Z",
     "iopub.status.busy": "2022-02-12T16:07:52.089693Z",
     "iopub.status.idle": "2022-02-12T16:07:52.092304Z",
     "shell.execute_reply": "2022-02-12T16:07:52.092822Z",
     "shell.execute_reply.started": "2022-02-12T15:14:01.44497Z"
    },
    "papermill": {
     "duration": 0.04225,
     "end_time": "2022-02-12T16:07:52.092979",
     "exception": false,
     "start_time": "2022-02-12T16:07:52.050729",
     "status": "completed"
    },
    "tags": []
   },
   "outputs": [],
   "source": [
    "#q5.c.hint()\n",
    "#q5.c.solution()"
   ]
  },
  {
   "cell_type": "markdown",
   "id": "0093c5ff",
   "metadata": {
    "papermill": {
     "duration": 0.035261,
     "end_time": "2022-02-12T16:07:52.163523",
     "exception": false,
     "start_time": "2022-02-12T16:07:52.128262",
     "status": "completed"
    },
    "tags": []
   },
   "source": [
    "# 6. <span title=\"A bit spicy\" style=\"color: darkgreen \">🌶️</span>\n",
    "\n",
    "We’ve seen that calling `bool()` on an integer returns `False` if it’s equal to 0 and `True` otherwise. What happens if we call `int()` on a bool? Try it out in the notebook cell below.\n",
    "\n",
    "Can you take advantage of this to write a succinct function that corresponds to the English sentence \"does the customer want exactly one topping?\"?"
   ]
  },
  {
   "cell_type": "code",
   "execution_count": 19,
   "id": "d28bccf3",
   "metadata": {
    "execution": {
     "iopub.execute_input": "2022-02-12T16:07:52.238085Z",
     "iopub.status.busy": "2022-02-12T16:07:52.237436Z",
     "iopub.status.idle": "2022-02-12T16:07:52.243217Z",
     "shell.execute_reply": "2022-02-12T16:07:52.243641Z",
     "shell.execute_reply.started": "2022-02-12T15:16:12.397761Z"
    },
    "papermill": {
     "duration": 0.044188,
     "end_time": "2022-02-12T16:07:52.243825",
     "exception": false,
     "start_time": "2022-02-12T16:07:52.199637",
     "status": "completed"
    },
    "tags": []
   },
   "outputs": [
    {
     "data": {
      "application/javascript": [
       "parent.postMessage({\"jupyterEvent\": \"custom.exercise_interaction\", \"data\": {\"outcomeType\": 1, \"valueTowardsCompletion\": 0.2, \"interactionType\": 1, \"questionType\": 2, \"questionId\": \"6_OneTopping\", \"learnToolsVersion\": \"0.3.4\", \"failureMessage\": \"\", \"exceptionClass\": \"\", \"trace\": \"\"}}, \"*\")"
      ],
      "text/plain": [
       "<IPython.core.display.Javascript object>"
      ]
     },
     "metadata": {},
     "output_type": "display_data"
    },
    {
     "data": {
      "text/markdown": [
       "<span style=\"color:#33cc33\">Correct:</span> \n",
       "\n",
       "This condition would be pretty complicated to express using just `and`, `or` and `not`, but using boolean-to-integer conversion gives us this short solution:\n",
       "```python\n",
       "return (int(ketchup) + int(mustard) + int(onion)) == 1\n",
       "```\n",
       "\n",
       "Fun fact: we don't technically need to call `int` on the arguments. Just by doing addition with booleans, Python implicitly does the integer conversion. So we could also write...\n",
       "\n",
       "```python\n",
       "return (ketchup + mustard + onion) == 1\n",
       "```"
      ],
      "text/plain": [
       "Correct: \n",
       "\n",
       "This condition would be pretty complicated to express using just `and`, `or` and `not`, but using boolean-to-integer conversion gives us this short solution:\n",
       "```python\n",
       "return (int(ketchup) + int(mustard) + int(onion)) == 1\n",
       "```\n",
       "\n",
       "Fun fact: we don't technically need to call `int` on the arguments. Just by doing addition with booleans, Python implicitly does the integer conversion. So we could also write...\n",
       "\n",
       "```python\n",
       "return (ketchup + mustard + onion) == 1\n",
       "```"
      ]
     },
     "metadata": {},
     "output_type": "display_data"
    }
   ],
   "source": [
    "def exactly_one_topping(ketchup, mustard, onion):\n",
    "    \"\"\"Return whether the customer wants exactly one of the three available toppings\n",
    "    on their hot dog.\n",
    "    \"\"\"\n",
    "    return int(ketchup) + int(mustard) + int(onion) == 1\n",
    "\n",
    "# Check your answer\n",
    "q6.check()"
   ]
  },
  {
   "cell_type": "code",
   "execution_count": 20,
   "id": "cc75a51d",
   "metadata": {
    "execution": {
     "iopub.execute_input": "2022-02-12T16:07:52.340738Z",
     "iopub.status.busy": "2022-02-12T16:07:52.340126Z",
     "iopub.status.idle": "2022-02-12T16:07:52.344474Z",
     "shell.execute_reply": "2022-02-12T16:07:52.343966Z",
     "shell.execute_reply.started": "2022-02-12T15:16:15.619644Z"
    },
    "papermill": {
     "duration": 0.055587,
     "end_time": "2022-02-12T16:07:52.344606",
     "exception": false,
     "start_time": "2022-02-12T16:07:52.289019",
     "status": "completed"
    },
    "tags": []
   },
   "outputs": [],
   "source": [
    "#q6.hint()\n",
    "#q6.solution()"
   ]
  },
  {
   "cell_type": "markdown",
   "id": "8bca6d89",
   "metadata": {
    "papermill": {
     "duration": 0.035678,
     "end_time": "2022-02-12T16:07:52.424309",
     "exception": false,
     "start_time": "2022-02-12T16:07:52.388631",
     "status": "completed"
    },
    "tags": []
   },
   "source": [
    "# 7. <span title=\"A bit spicy\" style=\"color: darkgreen \">🌶️</span> (Optional)\n",
    "\n",
    "In this problem we'll be working with a simplified version of [blackjack](https://en.wikipedia.org/wiki/Blackjack) (aka twenty-one). In this version there is one player (who you'll control) and a dealer. Play proceeds as follows:\n",
    "\n",
    "- The player is dealt two face-up cards. The dealer is dealt one face-up card.\n",
    "- The player may ask to be dealt another card ('hit') as many times as they wish. If the sum of their cards exceeds 21, they lose the round immediately.\n",
    "- The dealer then deals additional cards to himself until either:\n",
    "    - the sum of the dealer's cards exceeds 21, in which case the player wins the round\n",
    "    - the sum of the dealer's cards is greater than or equal to 17. If the player's total is greater than the dealer's, the player wins. Otherwise, the dealer wins (even in case of a tie).\n",
    "    \n",
    "When calculating the sum of cards, Jack, Queen, and King count for 10. Aces can count as 1 or 11 (when referring to a player's \"total\" above, we mean the largest total that can be made without exceeding 21. So e.g. A+8 = 19, A+8+8 = 17)\n",
    "\n",
    "For this problem, you'll write a function representing the player's decision-making strategy in this game. We've provided a very unintelligent implementation below:"
   ]
  },
  {
   "cell_type": "code",
   "execution_count": 21,
   "id": "edf88aaf",
   "metadata": {
    "execution": {
     "iopub.execute_input": "2022-02-12T16:07:52.501773Z",
     "iopub.status.busy": "2022-02-12T16:07:52.499735Z",
     "iopub.status.idle": "2022-02-12T16:07:52.503353Z",
     "shell.execute_reply": "2022-02-12T16:07:52.503897Z",
     "shell.execute_reply.started": "2022-02-12T15:23:38.272395Z"
    },
    "papermill": {
     "duration": 0.043489,
     "end_time": "2022-02-12T16:07:52.504080",
     "exception": false,
     "start_time": "2022-02-12T16:07:52.460591",
     "status": "completed"
    },
    "tags": []
   },
   "outputs": [],
   "source": [
    "def should_hit(dealer_total, player_total, player_low_aces, player_high_aces):\n",
    "    \"\"\"Return True if the player should hit (request another card) given the current game\n",
    "    state, or False if the player should stay.\n",
    "    When calculating a hand's total value, we count aces as \"high\" (with value 11) if doing so\n",
    "    doesn't bring the total above 21, otherwise we count them as low (with value 1). \n",
    "    For example, if the player's hand is {A, A, A, 7}, we will count it as 11 + 1 + 1 + 7,\n",
    "    and therefore set player_total=20, player_low_aces=2, player_high_aces=1.\n",
    "    \"\"\"\n",
    "    if dealer_total >= 17 and player_total < 17:\n",
    "        return True\n",
    "    else:\n",
    "        return False"
   ]
  },
  {
   "cell_type": "markdown",
   "id": "89ab4374",
   "metadata": {
    "papermill": {
     "duration": 0.035711,
     "end_time": "2022-02-12T16:07:52.575631",
     "exception": false,
     "start_time": "2022-02-12T16:07:52.539920",
     "status": "completed"
    },
    "tags": []
   },
   "source": [
    "This very conservative agent *always* sticks with the hand of two cards that they're dealt.\n",
    "\n",
    "We'll be simulating games between your player agent and our own dealer agent by calling your function.\n",
    "\n",
    "Try running the function below to see an example of a simulated game:"
   ]
  },
  {
   "cell_type": "code",
   "execution_count": 22,
   "id": "fc5cd0e1",
   "metadata": {
    "execution": {
     "iopub.execute_input": "2022-02-12T16:07:52.649930Z",
     "iopub.status.busy": "2022-02-12T16:07:52.649357Z",
     "iopub.status.idle": "2022-02-12T16:07:52.655823Z",
     "shell.execute_reply": "2022-02-12T16:07:52.655020Z",
     "shell.execute_reply.started": "2022-02-12T15:23:43.121528Z"
    },
    "papermill": {
     "duration": 0.044746,
     "end_time": "2022-02-12T16:07:52.656036",
     "exception": false,
     "start_time": "2022-02-12T16:07:52.611290",
     "status": "completed"
    },
    "tags": []
   },
   "outputs": [
    {
     "name": "stdout",
     "output_type": "stream",
     "text": [
      "Player starts with A and 6 (total = 17)\n",
      "Dealer starts with 9\n",
      "\n",
      "__Player's turn__\n",
      "Player stays\n",
      "\n",
      "__Dealer's turn__\n",
      "Dealer hits and receives 6. (total = 15)\n",
      "Dealer hits and receives K. (total = 25)\n",
      "Dealer busts! Player wins.\n"
     ]
    }
   ],
   "source": [
    "q7.simulate_one_game()"
   ]
  },
  {
   "cell_type": "markdown",
   "id": "de2bca84",
   "metadata": {
    "papermill": {
     "duration": 0.037392,
     "end_time": "2022-02-12T16:07:52.731233",
     "exception": false,
     "start_time": "2022-02-12T16:07:52.693841",
     "status": "completed"
    },
    "tags": []
   },
   "source": [
    "The real test of your agent's mettle is their average win rate over many games. Try calling the function below to simulate 50000 games of blackjack (it may take a couple seconds):"
   ]
  },
  {
   "cell_type": "code",
   "execution_count": 23,
   "id": "b61f9c2d",
   "metadata": {
    "execution": {
     "iopub.execute_input": "2022-02-12T16:07:52.806904Z",
     "iopub.status.busy": "2022-02-12T16:07:52.806287Z",
     "iopub.status.idle": "2022-02-12T16:07:54.036895Z",
     "shell.execute_reply": "2022-02-12T16:07:54.037342Z",
     "shell.execute_reply.started": "2022-02-12T15:24:13.497726Z"
    },
    "papermill": {
     "duration": 1.270025,
     "end_time": "2022-02-12T16:07:54.037510",
     "exception": false,
     "start_time": "2022-02-12T16:07:52.767485",
     "status": "completed"
    },
    "tags": []
   },
   "outputs": [
    {
     "name": "stdout",
     "output_type": "stream",
     "text": [
      "Player won 18836 out of 50000 games (win rate = 37.7%)\n"
     ]
    }
   ],
   "source": [
    "q7.simulate(n_games=50000)"
   ]
  },
  {
   "cell_type": "markdown",
   "id": "43ef2a5a",
   "metadata": {
    "papermill": {
     "duration": 0.036169,
     "end_time": "2022-02-12T16:07:54.111355",
     "exception": false,
     "start_time": "2022-02-12T16:07:54.075186",
     "status": "completed"
    },
    "tags": []
   },
   "source": [
    "Our dumb agent that completely ignores the game state still manages to win shockingly often!\n",
    "\n",
    "Try adding some more smarts to the `should_hit` function and see how it affects the results."
   ]
  },
  {
   "cell_type": "code",
   "execution_count": 24,
   "id": "c359caef",
   "metadata": {
    "execution": {
     "iopub.execute_input": "2022-02-12T16:07:54.187033Z",
     "iopub.status.busy": "2022-02-12T16:07:54.186445Z",
     "iopub.status.idle": "2022-02-12T16:07:55.412409Z",
     "shell.execute_reply": "2022-02-12T16:07:55.411771Z",
     "shell.execute_reply.started": "2022-02-12T15:29:55.520247Z"
    },
    "papermill": {
     "duration": 1.264745,
     "end_time": "2022-02-12T16:07:55.412559",
     "exception": false,
     "start_time": "2022-02-12T16:07:54.147814",
     "status": "completed"
    },
    "tags": []
   },
   "outputs": [
    {
     "name": "stdout",
     "output_type": "stream",
     "text": [
      "Player won 19037 out of 50000 games (win rate = 38.1%)\n"
     ]
    }
   ],
   "source": [
    "def should_hit(dealer_total, player_total, player_low_aces, player_high_aces):\n",
    "    \"\"\"Return True if the player should hit (request another card) given the current game\n",
    "    state, or False if the player should stay.\n",
    "    When calculating a hand's total value, we count aces as \"high\" (with value 11) if doing so\n",
    "    doesn't bring the total above 21, otherwise we count them as low (with value 1). \n",
    "    For example, if the player's hand is {A, A, A, 7}, we will count it as 11 + 1 + 1 + 7,\n",
    "    and therefore set player_total=20, player_low_aces=2, player_high_aces=1.\n",
    "    \"\"\"\n",
    "    if dealer_total >= 17 and player_total < 17:\n",
    "        return True\n",
    "    else:\n",
    "        return False\n",
    "\n",
    "q7.simulate(n_games=50000)"
   ]
  },
  {
   "cell_type": "markdown",
   "id": "cb7bc552",
   "metadata": {
    "papermill": {
     "duration": 0.036668,
     "end_time": "2022-02-12T16:07:55.486742",
     "exception": false,
     "start_time": "2022-02-12T16:07:55.450074",
     "status": "completed"
    },
    "tags": []
   },
   "source": [
    "# Keep Going\n",
    "\n",
    "Learn about **[lists and tuples](https://www.kaggle.com/colinmorris/lists)** to handle multiple items of data in a systematic way."
   ]
  },
  {
   "cell_type": "markdown",
   "id": "4108c848",
   "metadata": {
    "papermill": {
     "duration": 0.036545,
     "end_time": "2022-02-12T16:07:55.560078",
     "exception": false,
     "start_time": "2022-02-12T16:07:55.523533",
     "status": "completed"
    },
    "tags": []
   },
   "source": [
    "---\n",
    "\n",
    "\n",
    "\n",
    "\n",
    "*Have questions or comments? Visit the [course discussion forum](https://www.kaggle.com/learn/python/discussion) to chat with other learners.*"
   ]
  }
 ],
 "metadata": {
  "kernelspec": {
   "display_name": "Python 3",
   "language": "python",
   "name": "python3"
  },
  "language_info": {
   "codemirror_mode": {
    "name": "ipython",
    "version": 3
   },
   "file_extension": ".py",
   "mimetype": "text/x-python",
   "name": "python",
   "nbconvert_exporter": "python",
   "pygments_lexer": "ipython3",
   "version": "3.7.12"
  },
  "papermill": {
   "default_parameters": {},
   "duration": 14.41649,
   "end_time": "2022-02-12T16:07:56.206865",
   "environment_variables": {},
   "exception": null,
   "input_path": "__notebook__.ipynb",
   "output_path": "__notebook__.ipynb",
   "parameters": {},
   "start_time": "2022-02-12T16:07:41.790375",
   "version": "2.3.3"
  }
 },
 "nbformat": 4,
 "nbformat_minor": 5
}
