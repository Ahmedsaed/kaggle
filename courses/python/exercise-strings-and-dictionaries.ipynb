{
 "cells": [
  {
   "cell_type": "markdown",
   "id": "e3567359",
   "metadata": {
    "papermill": {
     "duration": 0.016712,
     "end_time": "2022-02-12T17:20:28.332062",
     "exception": false,
     "start_time": "2022-02-12T17:20:28.315350",
     "status": "completed"
    },
    "tags": []
   },
   "source": [
    "**This notebook is an exercise in the [Python](https://www.kaggle.com/learn/python) course.  You can reference the tutorial at [this link](https://www.kaggle.com/colinmorris/strings-and-dictionaries).**\n",
    "\n",
    "---\n"
   ]
  },
  {
   "cell_type": "markdown",
   "id": "ae33f485",
   "metadata": {
    "papermill": {
     "duration": 0.015574,
     "end_time": "2022-02-12T17:20:28.363557",
     "exception": false,
     "start_time": "2022-02-12T17:20:28.347983",
     "status": "completed"
    },
    "tags": []
   },
   "source": [
    "You are almost done with the course. Nice job!\n",
    "\n",
    "We have a couple more interesting problems for you before you go. \n",
    "\n",
    "As always, run the setup code below before working on the questions."
   ]
  },
  {
   "cell_type": "code",
   "execution_count": 1,
   "id": "12df91c5",
   "metadata": {
    "execution": {
     "iopub.execute_input": "2022-02-12T17:20:28.399329Z",
     "iopub.status.busy": "2022-02-12T17:20:28.398171Z",
     "iopub.status.idle": "2022-02-12T17:20:28.453906Z",
     "shell.execute_reply": "2022-02-12T17:20:28.454415Z",
     "shell.execute_reply.started": "2022-02-12T16:39:48.243067Z"
    },
    "papermill": {
     "duration": 0.075834,
     "end_time": "2022-02-12T17:20:28.454805",
     "exception": false,
     "start_time": "2022-02-12T17:20:28.378971",
     "status": "completed"
    },
    "tags": []
   },
   "outputs": [
    {
     "name": "stdout",
     "output_type": "stream",
     "text": [
      "Setup complete.\n"
     ]
    }
   ],
   "source": [
    "from learntools.core import binder; binder.bind(globals())\n",
    "from learntools.python.ex6 import *\n",
    "print('Setup complete.')"
   ]
  },
  {
   "cell_type": "markdown",
   "id": "b08b9d6c",
   "metadata": {
    "papermill": {
     "duration": 0.015561,
     "end_time": "2022-02-12T17:20:28.486803",
     "exception": false,
     "start_time": "2022-02-12T17:20:28.471242",
     "status": "completed"
    },
    "tags": []
   },
   "source": [
    "Let's start with a string lightning round to warm up. What are the lengths of the strings below?\n",
    "\n",
    "For each of the five strings below, predict what `len()` would return when passed that string. Use the variable `length` to record your answer, then run the cell to check whether you were right.  \n",
    "\n",
    "# 0a."
   ]
  },
  {
   "cell_type": "code",
   "execution_count": 2,
   "id": "176799fe",
   "metadata": {
    "execution": {
     "iopub.execute_input": "2022-02-12T17:20:28.524525Z",
     "iopub.status.busy": "2022-02-12T17:20:28.523508Z",
     "iopub.status.idle": "2022-02-12T17:20:28.533314Z",
     "shell.execute_reply": "2022-02-12T17:20:28.533797Z",
     "shell.execute_reply.started": "2022-02-12T16:41:30.633185Z"
    },
    "papermill": {
     "duration": 0.030342,
     "end_time": "2022-02-12T17:20:28.533993",
     "exception": false,
     "start_time": "2022-02-12T17:20:28.503651",
     "status": "completed"
    },
    "tags": []
   },
   "outputs": [
    {
     "data": {
      "application/javascript": [
       "parent.postMessage({\"jupyterEvent\": \"custom.exercise_interaction\", \"data\": {\"outcomeType\": 1, \"valueTowardsCompletion\": 0.3333333333333333, \"interactionType\": 1, \"questionType\": 1, \"questionId\": \"0.1_ZA\", \"learnToolsVersion\": \"0.3.4\", \"failureMessage\": \"\", \"exceptionClass\": \"\", \"trace\": \"\"}}, \"*\")"
      ],
      "text/plain": [
       "<IPython.core.display.Javascript object>"
      ]
     },
     "metadata": {},
     "output_type": "display_data"
    },
    {
     "data": {
      "text/markdown": [
       "<span style=\"color:#33cc33\">Correct:</span> \n",
       "\n",
       "The empty string has length zero. Note that the empty string is also the only string that Python considers as False when converting to boolean."
      ],
      "text/plain": [
       "Correct: \n",
       "\n",
       "The empty string has length zero. Note that the empty string is also the only string that Python considers as False when converting to boolean."
      ]
     },
     "metadata": {},
     "output_type": "display_data"
    }
   ],
   "source": [
    "a = \"\"\n",
    "length = 0\n",
    "q0.a.check()"
   ]
  },
  {
   "cell_type": "markdown",
   "id": "fa856079",
   "metadata": {
    "papermill": {
     "duration": 0.016329,
     "end_time": "2022-02-12T17:20:28.567090",
     "exception": false,
     "start_time": "2022-02-12T17:20:28.550761",
     "status": "completed"
    },
    "tags": []
   },
   "source": [
    "# 0b."
   ]
  },
  {
   "cell_type": "code",
   "execution_count": 3,
   "id": "e91caeb6",
   "metadata": {
    "execution": {
     "iopub.execute_input": "2022-02-12T17:20:28.605093Z",
     "iopub.status.busy": "2022-02-12T17:20:28.604043Z",
     "iopub.status.idle": "2022-02-12T17:20:28.612580Z",
     "shell.execute_reply": "2022-02-12T17:20:28.613068Z",
     "shell.execute_reply.started": "2022-02-12T16:41:39.741130Z"
    },
    "papermill": {
     "duration": 0.029536,
     "end_time": "2022-02-12T17:20:28.613260",
     "exception": false,
     "start_time": "2022-02-12T17:20:28.583724",
     "status": "completed"
    },
    "tags": []
   },
   "outputs": [
    {
     "data": {
      "application/javascript": [
       "parent.postMessage({\"jupyterEvent\": \"custom.exercise_interaction\", \"data\": {\"outcomeType\": 1, \"valueTowardsCompletion\": 0.3333333333333333, \"interactionType\": 1, \"questionType\": 1, \"questionId\": \"0.2_ZB\", \"learnToolsVersion\": \"0.3.4\", \"failureMessage\": \"\", \"exceptionClass\": \"\", \"trace\": \"\"}}, \"*\")"
      ],
      "text/plain": [
       "<IPython.core.display.Javascript object>"
      ]
     },
     "metadata": {},
     "output_type": "display_data"
    },
    {
     "data": {
      "text/markdown": [
       "<span style=\"color:#33cc33\">Correct:</span> \n",
       "\n",
       "Keep in mind Python includes spaces (and punctuation) when counting string length."
      ],
      "text/plain": [
       "Correct: \n",
       "\n",
       "Keep in mind Python includes spaces (and punctuation) when counting string length."
      ]
     },
     "metadata": {},
     "output_type": "display_data"
    }
   ],
   "source": [
    "b = \"it's ok\"\n",
    "length = 7\n",
    "q0.b.check()"
   ]
  },
  {
   "cell_type": "markdown",
   "id": "ce0e5ffe",
   "metadata": {
    "papermill": {
     "duration": 0.017368,
     "end_time": "2022-02-12T17:20:28.648091",
     "exception": false,
     "start_time": "2022-02-12T17:20:28.630723",
     "status": "completed"
    },
    "tags": []
   },
   "source": [
    "# 0c."
   ]
  },
  {
   "cell_type": "code",
   "execution_count": 4,
   "id": "5c308e3c",
   "metadata": {
    "execution": {
     "iopub.execute_input": "2022-02-12T17:20:28.689467Z",
     "iopub.status.busy": "2022-02-12T17:20:28.688426Z",
     "iopub.status.idle": "2022-02-12T17:20:28.694714Z",
     "shell.execute_reply": "2022-02-12T17:20:28.694100Z",
     "shell.execute_reply.started": "2022-02-12T16:42:03.984357Z"
    },
    "papermill": {
     "duration": 0.029485,
     "end_time": "2022-02-12T17:20:28.694867",
     "exception": false,
     "start_time": "2022-02-12T17:20:28.665382",
     "status": "completed"
    },
    "tags": []
   },
   "outputs": [
    {
     "data": {
      "application/javascript": [
       "parent.postMessage({\"jupyterEvent\": \"custom.exercise_interaction\", \"data\": {\"outcomeType\": 1, \"valueTowardsCompletion\": 0.3333333333333333, \"interactionType\": 1, \"questionType\": 1, \"questionId\": \"0.3_ZC\", \"learnToolsVersion\": \"0.3.4\", \"failureMessage\": \"\", \"exceptionClass\": \"\", \"trace\": \"\"}}, \"*\")"
      ],
      "text/plain": [
       "<IPython.core.display.Javascript object>"
      ]
     },
     "metadata": {},
     "output_type": "display_data"
    },
    {
     "data": {
      "text/markdown": [
       "<span style=\"color:#33cc33\">Correct:</span> \n",
       "\n",
       "Even though we use different syntax to create it, the string `c` is identical to `b`. In particular, note that the backslash is not part of the string, so it doesn't contribute to its length."
      ],
      "text/plain": [
       "Correct: \n",
       "\n",
       "Even though we use different syntax to create it, the string `c` is identical to `b`. In particular, note that the backslash is not part of the string, so it doesn't contribute to its length."
      ]
     },
     "metadata": {},
     "output_type": "display_data"
    }
   ],
   "source": [
    "c = 'it\\'s ok'\n",
    "length = 7\n",
    "q0.c.check()"
   ]
  },
  {
   "cell_type": "markdown",
   "id": "dab9beca",
   "metadata": {
    "papermill": {
     "duration": 0.017938,
     "end_time": "2022-02-12T17:20:28.731414",
     "exception": false,
     "start_time": "2022-02-12T17:20:28.713476",
     "status": "completed"
    },
    "tags": []
   },
   "source": [
    "# 0d."
   ]
  },
  {
   "cell_type": "code",
   "execution_count": 5,
   "id": "9cc90078",
   "metadata": {
    "execution": {
     "iopub.execute_input": "2022-02-12T17:20:28.774266Z",
     "iopub.status.busy": "2022-02-12T17:20:28.773594Z",
     "iopub.status.idle": "2022-02-12T17:20:28.781023Z",
     "shell.execute_reply": "2022-02-12T17:20:28.780464Z",
     "shell.execute_reply.started": "2022-02-12T17:10:56.331643Z"
    },
    "papermill": {
     "duration": 0.031288,
     "end_time": "2022-02-12T17:20:28.781176",
     "exception": false,
     "start_time": "2022-02-12T17:20:28.749888",
     "status": "completed"
    },
    "tags": []
   },
   "outputs": [
    {
     "data": {
      "application/javascript": [
       "parent.postMessage({\"jupyterEvent\": \"custom.exercise_interaction\", \"data\": {\"outcomeType\": 1, \"valueTowardsCompletion\": 0.3333333333333333, \"interactionType\": 1, \"questionType\": 1, \"questionId\": \"0.4_ZD\", \"learnToolsVersion\": \"0.3.4\", \"failureMessage\": \"\", \"exceptionClass\": \"\", \"trace\": \"\"}}, \"*\")"
      ],
      "text/plain": [
       "<IPython.core.display.Javascript object>"
      ]
     },
     "metadata": {},
     "output_type": "display_data"
    },
    {
     "data": {
      "text/markdown": [
       "<span style=\"color:#33cc33\">Correct:</span> \n",
       "\n",
       "The fact that this string was created using triple-quote syntax doesn't make any difference in terms of its content or length. This string is exactly the same as `'hey'`."
      ],
      "text/plain": [
       "Correct: \n",
       "\n",
       "The fact that this string was created using triple-quote syntax doesn't make any difference in terms of its content or length. This string is exactly the same as `'hey'`."
      ]
     },
     "metadata": {},
     "output_type": "display_data"
    }
   ],
   "source": [
    "d = \"\"\"hey\"\"\"\n",
    "length = 3\n",
    "q0.d.check()"
   ]
  },
  {
   "cell_type": "markdown",
   "id": "85884aa0",
   "metadata": {
    "papermill": {
     "duration": 0.018847,
     "end_time": "2022-02-12T17:20:28.819724",
     "exception": false,
     "start_time": "2022-02-12T17:20:28.800877",
     "status": "completed"
    },
    "tags": []
   },
   "source": [
    "# 0e."
   ]
  },
  {
   "cell_type": "code",
   "execution_count": 6,
   "id": "5a0ca162",
   "metadata": {
    "execution": {
     "iopub.execute_input": "2022-02-12T17:20:28.864832Z",
     "iopub.status.busy": "2022-02-12T17:20:28.863703Z",
     "iopub.status.idle": "2022-02-12T17:20:28.871771Z",
     "shell.execute_reply": "2022-02-12T17:20:28.872279Z",
     "shell.execute_reply.started": "2022-02-12T17:10:57.551421Z"
    },
    "papermill": {
     "duration": 0.032893,
     "end_time": "2022-02-12T17:20:28.872467",
     "exception": false,
     "start_time": "2022-02-12T17:20:28.839574",
     "status": "completed"
    },
    "tags": []
   },
   "outputs": [
    {
     "data": {
      "application/javascript": [
       "parent.postMessage({\"jupyterEvent\": \"custom.exercise_interaction\", \"data\": {\"outcomeType\": 1, \"valueTowardsCompletion\": 0.3333333333333333, \"interactionType\": 1, \"questionType\": 1, \"questionId\": \"0.5_ZE\", \"learnToolsVersion\": \"0.3.4\", \"failureMessage\": \"\", \"exceptionClass\": \"\", \"trace\": \"\"}}, \"*\")"
      ],
      "text/plain": [
       "<IPython.core.display.Javascript object>"
      ]
     },
     "metadata": {},
     "output_type": "display_data"
    },
    {
     "data": {
      "text/markdown": [
       "<span style=\"color:#33cc33\">Correct:</span> \n",
       "\n",
       "The newline character is just a single character! (Even though we represent it to Python using a combination of two characters.)"
      ],
      "text/plain": [
       "Correct: \n",
       "\n",
       "The newline character is just a single character! (Even though we represent it to Python using a combination of two characters.)"
      ]
     },
     "metadata": {},
     "output_type": "display_data"
    }
   ],
   "source": [
    "e = '\\n'\n",
    "length = 1\n",
    "q0.e.check()"
   ]
  },
  {
   "cell_type": "markdown",
   "id": "39102f85",
   "metadata": {
    "papermill": {
     "duration": 0.019936,
     "end_time": "2022-02-12T17:20:28.912832",
     "exception": false,
     "start_time": "2022-02-12T17:20:28.892896",
     "status": "completed"
    },
    "tags": []
   },
   "source": [
    "# 1.\n",
    "\n",
    "There is a saying that \"Data scientists spend 80% of their time cleaning data, and 20% of their time complaining about cleaning data.\" Let's see if you can write a function to help clean US zip code data. Given a string, it should return whether or not that string represents a valid zip code. For our purposes, a valid zip code is any string consisting of exactly 5 digits.\n",
    "\n",
    "HINT: `str` has a method that will be useful here. Use `help(str)` to review a list of string methods."
   ]
  },
  {
   "cell_type": "code",
   "execution_count": 7,
   "id": "1b777eb3",
   "metadata": {
    "execution": {
     "iopub.execute_input": "2022-02-12T17:20:28.958369Z",
     "iopub.status.busy": "2022-02-12T17:20:28.957322Z",
     "iopub.status.idle": "2022-02-12T17:20:28.965729Z",
     "shell.execute_reply": "2022-02-12T17:20:28.966254Z",
     "shell.execute_reply.started": "2022-02-12T17:10:58.674092Z"
    },
    "papermill": {
     "duration": 0.032899,
     "end_time": "2022-02-12T17:20:28.966442",
     "exception": false,
     "start_time": "2022-02-12T17:20:28.933543",
     "status": "completed"
    },
    "tags": []
   },
   "outputs": [
    {
     "data": {
      "application/javascript": [
       "parent.postMessage({\"jupyterEvent\": \"custom.exercise_interaction\", \"data\": {\"outcomeType\": 1, \"valueTowardsCompletion\": 0.3333333333333333, \"interactionType\": 1, \"questionType\": 2, \"questionId\": \"1_ZipValidator\", \"learnToolsVersion\": \"0.3.4\", \"failureMessage\": \"\", \"exceptionClass\": \"\", \"trace\": \"\"}}, \"*\")"
      ],
      "text/plain": [
       "<IPython.core.display.Javascript object>"
      ]
     },
     "metadata": {},
     "output_type": "display_data"
    },
    {
     "data": {
      "text/markdown": [
       "<span style=\"color:#33cc33\">Correct</span>"
      ],
      "text/plain": [
       "Correct"
      ]
     },
     "metadata": {},
     "output_type": "display_data"
    }
   ],
   "source": [
    "def is_valid_zip(zip_code):\n",
    "    \"\"\"Returns whether the input string is a valid (5 digit) zip code\n",
    "    \"\"\"\n",
    "    if zip_code.isdigit() and len(zip_code) == 5:\n",
    "        return True\n",
    "    return False\n",
    "\n",
    "# Check your answer\n",
    "q1.check()"
   ]
  },
  {
   "cell_type": "code",
   "execution_count": 8,
   "id": "7b50041d",
   "metadata": {
    "execution": {
     "iopub.execute_input": "2022-02-12T17:20:29.013438Z",
     "iopub.status.busy": "2022-02-12T17:20:29.012473Z",
     "iopub.status.idle": "2022-02-12T17:20:29.015887Z",
     "shell.execute_reply": "2022-02-12T17:20:29.016350Z",
     "shell.execute_reply.started": "2022-02-12T17:10:59.867073Z"
    },
    "papermill": {
     "duration": 0.028709,
     "end_time": "2022-02-12T17:20:29.016554",
     "exception": false,
     "start_time": "2022-02-12T17:20:28.987845",
     "status": "completed"
    },
    "tags": []
   },
   "outputs": [],
   "source": [
    "#q1.hint()\n",
    "#q1.solution()"
   ]
  },
  {
   "cell_type": "markdown",
   "id": "4d905639",
   "metadata": {
    "papermill": {
     "duration": 0.020915,
     "end_time": "2022-02-12T17:20:29.058520",
     "exception": false,
     "start_time": "2022-02-12T17:20:29.037605",
     "status": "completed"
    },
    "tags": []
   },
   "source": [
    "# 2.\n",
    "\n",
    "A researcher has gathered thousands of news articles. But she wants to focus her attention on articles including a specific word. Complete the function below to help her filter her list of articles.\n",
    "\n",
    "Your function should meet the following criteria:\n",
    "\n",
    "- Do not include documents where the keyword string shows up only as a part of a larger word. For example, if she were looking for the keyword “closed”, you would not include the string “enclosed.” \n",
    "- She does not want you to distinguish upper case from lower case letters. So the phrase “Closed the case.” would be included when the keyword is “closed”\n",
    "- Do not let periods or commas affect what is matched. “It is closed.” would be included when the keyword is “closed”. But you can assume there are no other types of punctuation."
   ]
  },
  {
   "cell_type": "code",
   "execution_count": 9,
   "id": "443b2d38",
   "metadata": {
    "execution": {
     "iopub.execute_input": "2022-02-12T17:20:29.110981Z",
     "iopub.status.busy": "2022-02-12T17:20:29.109881Z",
     "iopub.status.idle": "2022-02-12T17:20:29.115893Z",
     "shell.execute_reply": "2022-02-12T17:20:29.115347Z",
     "shell.execute_reply.started": "2022-02-12T17:14:16.228457Z"
    },
    "papermill": {
     "duration": 0.035007,
     "end_time": "2022-02-12T17:20:29.116053",
     "exception": false,
     "start_time": "2022-02-12T17:20:29.081046",
     "status": "completed"
    },
    "tags": []
   },
   "outputs": [
    {
     "data": {
      "application/javascript": [
       "parent.postMessage({\"jupyterEvent\": \"custom.exercise_interaction\", \"data\": {\"outcomeType\": 1, \"valueTowardsCompletion\": 0.3333333333333333, \"interactionType\": 1, \"questionType\": 2, \"questionId\": \"2_WordSearch\", \"learnToolsVersion\": \"0.3.4\", \"failureMessage\": \"\", \"exceptionClass\": \"\", \"trace\": \"\"}}, \"*\")"
      ],
      "text/plain": [
       "<IPython.core.display.Javascript object>"
      ]
     },
     "metadata": {},
     "output_type": "display_data"
    },
    {
     "data": {
      "text/markdown": [
       "<span style=\"color:#33cc33\">Correct</span>"
      ],
      "text/plain": [
       "Correct"
      ]
     },
     "metadata": {},
     "output_type": "display_data"
    }
   ],
   "source": [
    "def word_search(doc_list, keyword):\n",
    "    \"\"\"\n",
    "    Takes a list of documents (each document is a string) and a keyword. \n",
    "    Returns list of the index values into the original list for all documents \n",
    "    containing the keyword.\n",
    "\n",
    "    Example:\n",
    "    doc_list = [\"The Learn Python Challenge Casino.\", \"They bought a car\", \"Casinoville\"]\n",
    "    >>> word_search(doc_list, 'casino')\n",
    "    >>> [0]\n",
    "    \"\"\"\n",
    "    index = []\n",
    "    for i, item in enumerate(doc_list):\n",
    "        if keyword in item.lower().replace('!','').replace(',','').replace('.', '').split():\n",
    "            index.append(i)\n",
    "    return index\n",
    "\n",
    "# Check your answer\n",
    "q2.check()"
   ]
  },
  {
   "cell_type": "code",
   "execution_count": 10,
   "id": "d6086244",
   "metadata": {
    "execution": {
     "iopub.execute_input": "2022-02-12T17:20:29.165480Z",
     "iopub.status.busy": "2022-02-12T17:20:29.164795Z",
     "iopub.status.idle": "2022-02-12T17:20:29.166537Z",
     "shell.execute_reply": "2022-02-12T17:20:29.167023Z",
     "shell.execute_reply.started": "2022-02-12T17:14:17.670582Z"
    },
    "papermill": {
     "duration": 0.028976,
     "end_time": "2022-02-12T17:20:29.167327",
     "exception": false,
     "start_time": "2022-02-12T17:20:29.138351",
     "status": "completed"
    },
    "tags": []
   },
   "outputs": [],
   "source": [
    "#q2.hint()\n",
    "#q2.solution()"
   ]
  },
  {
   "cell_type": "markdown",
   "id": "c07310cf",
   "metadata": {
    "papermill": {
     "duration": 0.022662,
     "end_time": "2022-02-12T17:20:29.212450",
     "exception": false,
     "start_time": "2022-02-12T17:20:29.189788",
     "status": "completed"
    },
    "tags": []
   },
   "source": [
    "# 3.\n",
    "\n",
    "Now the researcher wants to supply multiple keywords to search for. Complete the function below to help her.\n",
    "\n",
    "(You're encouraged to use the `word_search` function you just wrote when implementing this function. Reusing code in this way makes your programs more robust and readable - and it saves typing!)"
   ]
  },
  {
   "cell_type": "code",
   "execution_count": 11,
   "id": "e02499b1",
   "metadata": {
    "execution": {
     "iopub.execute_input": "2022-02-12T17:20:29.262739Z",
     "iopub.status.busy": "2022-02-12T17:20:29.261662Z",
     "iopub.status.idle": "2022-02-12T17:20:29.271053Z",
     "shell.execute_reply": "2022-02-12T17:20:29.271528Z",
     "shell.execute_reply.started": "2022-02-12T17:18:21.107698Z"
    },
    "papermill": {
     "duration": 0.035908,
     "end_time": "2022-02-12T17:20:29.271772",
     "exception": false,
     "start_time": "2022-02-12T17:20:29.235864",
     "status": "completed"
    },
    "tags": []
   },
   "outputs": [
    {
     "data": {
      "application/javascript": [
       "parent.postMessage({\"jupyterEvent\": \"custom.exercise_interaction\", \"data\": {\"outcomeType\": 1, \"valueTowardsCompletion\": 0.3333333333333333, \"interactionType\": 1, \"questionType\": 2, \"questionId\": \"3_MultiWordSearch\", \"learnToolsVersion\": \"0.3.4\", \"failureMessage\": \"\", \"exceptionClass\": \"\", \"trace\": \"\"}}, \"*\")"
      ],
      "text/plain": [
       "<IPython.core.display.Javascript object>"
      ]
     },
     "metadata": {},
     "output_type": "display_data"
    },
    {
     "data": {
      "text/markdown": [
       "<span style=\"color:#33cc33\">Correct</span>"
      ],
      "text/plain": [
       "Correct"
      ]
     },
     "metadata": {},
     "output_type": "display_data"
    }
   ],
   "source": [
    "def multi_word_search(doc_list, keywords):\n",
    "    \"\"\"\n",
    "    Takes list of documents (each document is a string) and a list of keywords.  \n",
    "    Returns a dictionary where each key is a keyword, and the value is a list of indices\n",
    "    (from doc_list) of the documents containing that keyword\n",
    "\n",
    "    >>> doc_list = [\"The Learn Python Challenge Casino.\", \"They bought a car and a casino\", \"Casinoville\"]\n",
    "    >>> keywords = ['casino', 'they']\n",
    "    >>> multi_word_search(doc_list, keywords)\n",
    "    {'casino': [0, 1], 'they': [1]}\n",
    "    \"\"\"\n",
    "    dic = dict()\n",
    "    for keyword in keywords:\n",
    "        dic[keyword] = word_search(doc_list, keyword)\n",
    "    return dic\n",
    "\n",
    "# Check your answer\n",
    "q3.check()"
   ]
  },
  {
   "cell_type": "code",
   "execution_count": 12,
   "id": "a2f111d1",
   "metadata": {
    "execution": {
     "iopub.execute_input": "2022-02-12T17:20:29.321818Z",
     "iopub.status.busy": "2022-02-12T17:20:29.321136Z",
     "iopub.status.idle": "2022-02-12T17:20:29.324080Z",
     "shell.execute_reply": "2022-02-12T17:20:29.324530Z",
     "shell.execute_reply.started": "2022-02-12T17:18:26.692559Z"
    },
    "papermill": {
     "duration": 0.029779,
     "end_time": "2022-02-12T17:20:29.324761",
     "exception": false,
     "start_time": "2022-02-12T17:20:29.294982",
     "status": "completed"
    },
    "tags": []
   },
   "outputs": [],
   "source": [
    "#q3.solution()"
   ]
  },
  {
   "cell_type": "markdown",
   "id": "bf6e553d",
   "metadata": {
    "papermill": {
     "duration": 0.023886,
     "end_time": "2022-02-12T17:20:29.371983",
     "exception": false,
     "start_time": "2022-02-12T17:20:29.348097",
     "status": "completed"
    },
    "tags": []
   },
   "source": [
    "# Keep Going\n",
    "\n",
    "You've learned a lot. But even the best programmers rely heavily on \"libraries\" of code from other programmers. You'll learn about that in **[the last lesson](https://www.kaggle.com/colinmorris/working-with-external-libraries)**.\n"
   ]
  },
  {
   "cell_type": "markdown",
   "id": "1c664792",
   "metadata": {
    "papermill": {
     "duration": 0.02303,
     "end_time": "2022-02-12T17:20:29.418673",
     "exception": false,
     "start_time": "2022-02-12T17:20:29.395643",
     "status": "completed"
    },
    "tags": []
   },
   "source": [
    "---\n",
    "\n",
    "\n",
    "\n",
    "\n",
    "*Have questions or comments? Visit the [course discussion forum](https://www.kaggle.com/learn/python/discussion) to chat with other learners.*"
   ]
  }
 ],
 "metadata": {
  "kernelspec": {
   "display_name": "Python 3",
   "language": "python",
   "name": "python3"
  },
  "language_info": {
   "codemirror_mode": {
    "name": "ipython",
    "version": 3
   },
   "file_extension": ".py",
   "mimetype": "text/x-python",
   "name": "python",
   "nbconvert_exporter": "python",
   "pygments_lexer": "ipython3",
   "version": "3.7.12"
  },
  "papermill": {
   "default_parameters": {},
   "duration": 11.557654,
   "end_time": "2022-02-12T17:20:30.253640",
   "environment_variables": {},
   "exception": null,
   "input_path": "__notebook__.ipynb",
   "output_path": "__notebook__.ipynb",
   "parameters": {},
   "start_time": "2022-02-12T17:20:18.695986",
   "version": "2.3.3"
  }
 },
 "nbformat": 4,
 "nbformat_minor": 5
}
