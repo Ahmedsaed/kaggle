{
 "cells": [
  {
   "cell_type": "markdown",
   "id": "d6e91a26",
   "metadata": {
    "papermill": {
     "duration": 0.023397,
     "end_time": "2022-02-16T22:25:01.182274",
     "exception": false,
     "start_time": "2022-02-16T22:25:01.158877",
     "status": "completed"
    },
    "tags": []
   },
   "source": [
    "**This notebook is an exercise in the [Introduction to Machine Learning](https://www.kaggle.com/learn/intro-to-machine-learning) course.  You can reference the tutorial at [this link](https://www.kaggle.com/dansbecker/your-first-machine-learning-model).**\n",
    "\n",
    "---\n"
   ]
  },
  {
   "cell_type": "markdown",
   "id": "5e379acd",
   "metadata": {
    "papermill": {
     "duration": 0.019488,
     "end_time": "2022-02-16T22:25:01.222273",
     "exception": false,
     "start_time": "2022-02-16T22:25:01.202785",
     "status": "completed"
    },
    "tags": []
   },
   "source": [
    "## Recap\n",
    "So far, you have loaded your data and reviewed it with the following code. Run this cell to set up your coding environment where the previous step left off."
   ]
  },
  {
   "cell_type": "code",
   "execution_count": 1,
   "id": "b3d0e3c9",
   "metadata": {
    "execution": {
     "iopub.execute_input": "2022-02-16T22:25:01.266349Z",
     "iopub.status.busy": "2022-02-16T22:25:01.264539Z",
     "iopub.status.idle": "2022-02-16T22:25:02.631952Z",
     "shell.execute_reply": "2022-02-16T22:25:02.632588Z",
     "shell.execute_reply.started": "2022-02-16T22:14:27.247416Z"
    },
    "papermill": {
     "duration": 1.391787,
     "end_time": "2022-02-16T22:25:02.632942",
     "exception": false,
     "start_time": "2022-02-16T22:25:01.241155",
     "status": "completed"
    },
    "tags": []
   },
   "outputs": [
    {
     "name": "stdout",
     "output_type": "stream",
     "text": [
      "Setup Complete\n"
     ]
    }
   ],
   "source": [
    "# Code you have previously used to load data\n",
    "import pandas as pd\n",
    "\n",
    "# Path of the file to read\n",
    "iowa_file_path = '../input/home-data-for-ml-course/train.csv'\n",
    "\n",
    "home_data = pd.read_csv(iowa_file_path)\n",
    "\n",
    "# Set up code checking\n",
    "from learntools.core import binder\n",
    "binder.bind(globals())\n",
    "from learntools.machine_learning.ex3 import *\n",
    "\n",
    "print(\"Setup Complete\")"
   ]
  },
  {
   "cell_type": "markdown",
   "id": "b2dd2460",
   "metadata": {
    "papermill": {
     "duration": 0.019415,
     "end_time": "2022-02-16T22:25:02.672800",
     "exception": false,
     "start_time": "2022-02-16T22:25:02.653385",
     "status": "completed"
    },
    "tags": []
   },
   "source": [
    "# Exercises\n",
    "\n",
    "## Step 1: Specify Prediction Target\n",
    "Select the target variable, which corresponds to the sales price. Save this to a new variable called `y`. You'll need to print a list of the columns to find the name of the column you need.\n"
   ]
  },
  {
   "cell_type": "code",
   "execution_count": 2,
   "id": "9d8949d9",
   "metadata": {
    "execution": {
     "iopub.execute_input": "2022-02-16T22:25:02.716186Z",
     "iopub.status.busy": "2022-02-16T22:25:02.715459Z",
     "iopub.status.idle": "2022-02-16T22:25:02.720986Z",
     "shell.execute_reply": "2022-02-16T22:25:02.722030Z",
     "shell.execute_reply.started": "2022-02-16T22:16:07.237702Z"
    },
    "papermill": {
     "duration": 0.02957,
     "end_time": "2022-02-16T22:25:02.722288",
     "exception": false,
     "start_time": "2022-02-16T22:25:02.692718",
     "status": "completed"
    },
    "tags": []
   },
   "outputs": [
    {
     "name": "stdout",
     "output_type": "stream",
     "text": [
      "Index(['Id', 'MSSubClass', 'MSZoning', 'LotFrontage', 'LotArea', 'Street',\n",
      "       'Alley', 'LotShape', 'LandContour', 'Utilities', 'LotConfig',\n",
      "       'LandSlope', 'Neighborhood', 'Condition1', 'Condition2', 'BldgType',\n",
      "       'HouseStyle', 'OverallQual', 'OverallCond', 'YearBuilt', 'YearRemodAdd',\n",
      "       'RoofStyle', 'RoofMatl', 'Exterior1st', 'Exterior2nd', 'MasVnrType',\n",
      "       'MasVnrArea', 'ExterQual', 'ExterCond', 'Foundation', 'BsmtQual',\n",
      "       'BsmtCond', 'BsmtExposure', 'BsmtFinType1', 'BsmtFinSF1',\n",
      "       'BsmtFinType2', 'BsmtFinSF2', 'BsmtUnfSF', 'TotalBsmtSF', 'Heating',\n",
      "       'HeatingQC', 'CentralAir', 'Electrical', '1stFlrSF', '2ndFlrSF',\n",
      "       'LowQualFinSF', 'GrLivArea', 'BsmtFullBath', 'BsmtHalfBath', 'FullBath',\n",
      "       'HalfBath', 'BedroomAbvGr', 'KitchenAbvGr', 'KitchenQual',\n",
      "       'TotRmsAbvGrd', 'Functional', 'Fireplaces', 'FireplaceQu', 'GarageType',\n",
      "       'GarageYrBlt', 'GarageFinish', 'GarageCars', 'GarageArea', 'GarageQual',\n",
      "       'GarageCond', 'PavedDrive', 'WoodDeckSF', 'OpenPorchSF',\n",
      "       'EnclosedPorch', '3SsnPorch', 'ScreenPorch', 'PoolArea', 'PoolQC',\n",
      "       'Fence', 'MiscFeature', 'MiscVal', 'MoSold', 'YrSold', 'SaleType',\n",
      "       'SaleCondition', 'SalePrice'],\n",
      "      dtype='object')\n"
     ]
    }
   ],
   "source": [
    "# print the list of columns in the dataset to find the name of the prediction target\n",
    "print(home_data.columns)"
   ]
  },
  {
   "cell_type": "code",
   "execution_count": 3,
   "id": "d6ef52b4",
   "metadata": {
    "execution": {
     "iopub.execute_input": "2022-02-16T22:25:02.766148Z",
     "iopub.status.busy": "2022-02-16T22:25:02.765464Z",
     "iopub.status.idle": "2022-02-16T22:25:02.782043Z",
     "shell.execute_reply": "2022-02-16T22:25:02.782564Z",
     "shell.execute_reply.started": "2022-02-16T22:16:48.332430Z"
    },
    "papermill": {
     "duration": 0.040213,
     "end_time": "2022-02-16T22:25:02.782760",
     "exception": false,
     "start_time": "2022-02-16T22:25:02.742547",
     "status": "completed"
    },
    "tags": []
   },
   "outputs": [
    {
     "data": {
      "application/javascript": [
       "parent.postMessage({\"jupyterEvent\": \"custom.exercise_interaction\", \"data\": {\"outcomeType\": 1, \"valueTowardsCompletion\": 0.25, \"interactionType\": 1, \"questionType\": 2, \"questionId\": \"1_SetTarget\", \"learnToolsVersion\": \"0.3.4\", \"failureMessage\": \"\", \"exceptionClass\": \"\", \"trace\": \"\"}}, \"*\")"
      ],
      "text/plain": [
       "<IPython.core.display.Javascript object>"
      ]
     },
     "metadata": {},
     "output_type": "display_data"
    },
    {
     "data": {
      "text/markdown": [
       "<span style=\"color:#33cc33\">Correct</span>"
      ],
      "text/plain": [
       "Correct"
      ]
     },
     "metadata": {},
     "output_type": "display_data"
    }
   ],
   "source": [
    "y = home_data.SalePrice\n",
    "\n",
    "# Check your answer\n",
    "step_1.check()"
   ]
  },
  {
   "cell_type": "code",
   "execution_count": 4,
   "id": "fc2e58d5",
   "metadata": {
    "execution": {
     "iopub.execute_input": "2022-02-16T22:25:02.833076Z",
     "iopub.status.busy": "2022-02-16T22:25:02.832262Z",
     "iopub.status.idle": "2022-02-16T22:25:02.833682Z",
     "shell.execute_reply": "2022-02-16T22:25:02.834278Z",
     "shell.execute_reply.started": "2022-02-16T22:16:52.043260Z"
    },
    "papermill": {
     "duration": 0.030165,
     "end_time": "2022-02-16T22:25:02.834472",
     "exception": false,
     "start_time": "2022-02-16T22:25:02.804307",
     "status": "completed"
    },
    "tags": []
   },
   "outputs": [],
   "source": [
    "# The lines below will show you a hint or the solution.\n",
    "# step_1.hint() \n",
    "# step_1.solution()"
   ]
  },
  {
   "cell_type": "markdown",
   "id": "2cdc11f7",
   "metadata": {
    "papermill": {
     "duration": 0.021164,
     "end_time": "2022-02-16T22:25:02.878069",
     "exception": false,
     "start_time": "2022-02-16T22:25:02.856905",
     "status": "completed"
    },
    "tags": []
   },
   "source": [
    "## Step 2: Create X\n",
    "Now you will create a DataFrame called `X` holding the predictive features.\n",
    "\n",
    "Since you want only some columns from the original data, you'll first create a list with the names of the columns you want in `X`.\n",
    "\n",
    "You'll use just the following columns in the list (you can copy and paste the whole list to save some typing, though you'll still need to add quotes):\n",
    "  * LotArea\n",
    "  * YearBuilt\n",
    "  * 1stFlrSF\n",
    "  * 2ndFlrSF\n",
    "  * FullBath\n",
    "  * BedroomAbvGr\n",
    "  * TotRmsAbvGrd\n",
    "\n",
    "After you've created that list of features, use it to create the DataFrame that you'll use to fit the model."
   ]
  },
  {
   "cell_type": "code",
   "execution_count": 5,
   "id": "92bc5748",
   "metadata": {
    "execution": {
     "iopub.execute_input": "2022-02-16T22:25:02.924275Z",
     "iopub.status.busy": "2022-02-16T22:25:02.923573Z",
     "iopub.status.idle": "2022-02-16T22:25:02.936276Z",
     "shell.execute_reply": "2022-02-16T22:25:02.936905Z",
     "shell.execute_reply.started": "2022-02-16T22:18:31.590690Z"
    },
    "papermill": {
     "duration": 0.037633,
     "end_time": "2022-02-16T22:25:02.937106",
     "exception": false,
     "start_time": "2022-02-16T22:25:02.899473",
     "status": "completed"
    },
    "tags": []
   },
   "outputs": [
    {
     "data": {
      "application/javascript": [
       "parent.postMessage({\"jupyterEvent\": \"custom.exercise_interaction\", \"data\": {\"outcomeType\": 1, \"valueTowardsCompletion\": 0.25, \"interactionType\": 1, \"questionType\": 2, \"questionId\": \"2_SelectPredictionData\", \"learnToolsVersion\": \"0.3.4\", \"failureMessage\": \"\", \"exceptionClass\": \"\", \"trace\": \"\"}}, \"*\")"
      ],
      "text/plain": [
       "<IPython.core.display.Javascript object>"
      ]
     },
     "metadata": {},
     "output_type": "display_data"
    },
    {
     "data": {
      "text/markdown": [
       "<span style=\"color:#33cc33\">Correct</span>"
      ],
      "text/plain": [
       "Correct"
      ]
     },
     "metadata": {},
     "output_type": "display_data"
    }
   ],
   "source": [
    "# Create the list of features below\n",
    "feature_names = [\"LotArea\", \"YearBuilt\", \"1stFlrSF\", \"2ndFlrSF\", \"FullBath\", \"BedroomAbvGr\", \"TotRmsAbvGrd\"]\n",
    "\n",
    "# Select data corresponding to features in feature_names\n",
    "X = home_data[feature_names]\n",
    "\n",
    "# Check your answer\n",
    "step_2.check()"
   ]
  },
  {
   "cell_type": "code",
   "execution_count": 6,
   "id": "963f67f3",
   "metadata": {
    "execution": {
     "iopub.execute_input": "2022-02-16T22:25:02.986657Z",
     "iopub.status.busy": "2022-02-16T22:25:02.985946Z",
     "iopub.status.idle": "2022-02-16T22:25:02.988757Z",
     "shell.execute_reply": "2022-02-16T22:25:02.989296Z",
     "shell.execute_reply.started": "2022-02-16T22:18:32.792729Z"
    },
    "papermill": {
     "duration": 0.02951,
     "end_time": "2022-02-16T22:25:02.989478",
     "exception": false,
     "start_time": "2022-02-16T22:25:02.959968",
     "status": "completed"
    },
    "tags": []
   },
   "outputs": [],
   "source": [
    "# step_2.hint()\n",
    "# step_2.solution()"
   ]
  },
  {
   "cell_type": "markdown",
   "id": "a0b2a068",
   "metadata": {
    "papermill": {
     "duration": 0.023541,
     "end_time": "2022-02-16T22:25:03.035958",
     "exception": false,
     "start_time": "2022-02-16T22:25:03.012417",
     "status": "completed"
    },
    "tags": []
   },
   "source": [
    "## Review Data\n",
    "Before building a model, take a quick look at **X** to verify it looks sensible"
   ]
  },
  {
   "cell_type": "code",
   "execution_count": 7,
   "id": "9f385433",
   "metadata": {
    "execution": {
     "iopub.execute_input": "2022-02-16T22:25:03.085036Z",
     "iopub.status.busy": "2022-02-16T22:25:03.084341Z",
     "iopub.status.idle": "2022-02-16T22:25:03.095053Z",
     "shell.execute_reply": "2022-02-16T22:25:03.095628Z",
     "shell.execute_reply.started": "2022-02-16T22:19:25.939493Z"
    },
    "papermill": {
     "duration": 0.036322,
     "end_time": "2022-02-16T22:25:03.095809",
     "exception": false,
     "start_time": "2022-02-16T22:25:03.059487",
     "status": "completed"
    },
    "tags": []
   },
   "outputs": [
    {
     "name": "stdout",
     "output_type": "stream",
     "text": [
      "<bound method NDFrame.head of       LotArea  YearBuilt  1stFlrSF  2ndFlrSF  FullBath  BedroomAbvGr  \\\n",
      "0        8450       2003       856       854         2             3   \n",
      "1        9600       1976      1262         0         2             3   \n",
      "2       11250       2001       920       866         2             3   \n",
      "3        9550       1915       961       756         1             3   \n",
      "4       14260       2000      1145      1053         2             4   \n",
      "...       ...        ...       ...       ...       ...           ...   \n",
      "1455     7917       1999       953       694         2             3   \n",
      "1456    13175       1978      2073         0         2             3   \n",
      "1457     9042       1941      1188      1152         2             4   \n",
      "1458     9717       1950      1078         0         1             2   \n",
      "1459     9937       1965      1256         0         1             3   \n",
      "\n",
      "      TotRmsAbvGrd  \n",
      "0                8  \n",
      "1                6  \n",
      "2                6  \n",
      "3                7  \n",
      "4                9  \n",
      "...            ...  \n",
      "1455             7  \n",
      "1456             7  \n",
      "1457             9  \n",
      "1458             5  \n",
      "1459             6  \n",
      "\n",
      "[1460 rows x 7 columns]>\n"
     ]
    }
   ],
   "source": [
    "# Review data\n",
    "# print description or statistics from X\n",
    "# print(X.describe)\n",
    "\n",
    "# print the top few lines\n",
    "print(X.head)"
   ]
  },
  {
   "cell_type": "markdown",
   "id": "b87919d5",
   "metadata": {
    "papermill": {
     "duration": 0.02232,
     "end_time": "2022-02-16T22:25:03.141401",
     "exception": false,
     "start_time": "2022-02-16T22:25:03.119081",
     "status": "completed"
    },
    "tags": []
   },
   "source": [
    "## Step 3: Specify and Fit Model\n",
    "Create a `DecisionTreeRegressor` and save it iowa_model. Ensure you've done the relevant import from sklearn to run this command.\n",
    "\n",
    "Then fit the model you just created using the data in `X` and `y` that you saved above."
   ]
  },
  {
   "cell_type": "code",
   "execution_count": 8,
   "id": "86743e95",
   "metadata": {
    "execution": {
     "iopub.execute_input": "2022-02-16T22:25:03.191207Z",
     "iopub.status.busy": "2022-02-16T22:25:03.190221Z",
     "iopub.status.idle": "2022-02-16T22:25:03.210925Z",
     "shell.execute_reply": "2022-02-16T22:25:03.210367Z",
     "shell.execute_reply.started": "2022-02-16T22:21:56.773898Z"
    },
    "papermill": {
     "duration": 0.047073,
     "end_time": "2022-02-16T22:25:03.211073",
     "exception": false,
     "start_time": "2022-02-16T22:25:03.164000",
     "status": "completed"
    },
    "tags": []
   },
   "outputs": [
    {
     "data": {
      "application/javascript": [
       "parent.postMessage({\"jupyterEvent\": \"custom.exercise_interaction\", \"data\": {\"outcomeType\": 1, \"valueTowardsCompletion\": 0.25, \"interactionType\": 1, \"questionType\": 2, \"questionId\": \"3_CreateModel\", \"learnToolsVersion\": \"0.3.4\", \"failureMessage\": \"\", \"exceptionClass\": \"\", \"trace\": \"\"}}, \"*\")"
      ],
      "text/plain": [
       "<IPython.core.display.Javascript object>"
      ]
     },
     "metadata": {},
     "output_type": "display_data"
    },
    {
     "data": {
      "text/markdown": [
       "<span style=\"color:#33cc33\">Correct</span>"
      ],
      "text/plain": [
       "Correct"
      ]
     },
     "metadata": {},
     "output_type": "display_data"
    }
   ],
   "source": [
    "from sklearn.tree import DecisionTreeRegressor\n",
    "#specify the model. \n",
    "#For model reproducibility, set a numeric value for random_state when specifying the model\n",
    "iowa_model = DecisionTreeRegressor(random_state = 2)\n",
    "\n",
    "# Fit the model\n",
    "iowa_model.fit(X, y)\n",
    "\n",
    "# Check your answer\n",
    "step_3.check()"
   ]
  },
  {
   "cell_type": "code",
   "execution_count": 9,
   "id": "af257a02",
   "metadata": {
    "execution": {
     "iopub.execute_input": "2022-02-16T22:25:03.262369Z",
     "iopub.status.busy": "2022-02-16T22:25:03.261650Z",
     "iopub.status.idle": "2022-02-16T22:25:03.264466Z",
     "shell.execute_reply": "2022-02-16T22:25:03.265022Z",
     "shell.execute_reply.started": "2022-02-16T22:21:58.762853Z"
    },
    "papermill": {
     "duration": 0.030314,
     "end_time": "2022-02-16T22:25:03.265207",
     "exception": false,
     "start_time": "2022-02-16T22:25:03.234893",
     "status": "completed"
    },
    "tags": []
   },
   "outputs": [],
   "source": [
    "# step_3.hint()\n",
    "# step_3.solution()"
   ]
  },
  {
   "cell_type": "markdown",
   "id": "285b6302",
   "metadata": {
    "papermill": {
     "duration": 0.025322,
     "end_time": "2022-02-16T22:25:03.314611",
     "exception": false,
     "start_time": "2022-02-16T22:25:03.289289",
     "status": "completed"
    },
    "tags": []
   },
   "source": [
    "## Step 4: Make Predictions\n",
    "Make predictions with the model's `predict` command using `X` as the data. Save the results to a variable called `predictions`."
   ]
  },
  {
   "cell_type": "code",
   "execution_count": 10,
   "id": "7fbb3f05",
   "metadata": {
    "execution": {
     "iopub.execute_input": "2022-02-16T22:25:03.369713Z",
     "iopub.status.busy": "2022-02-16T22:25:03.368986Z",
     "iopub.status.idle": "2022-02-16T22:25:03.378871Z",
     "shell.execute_reply": "2022-02-16T22:25:03.379403Z",
     "shell.execute_reply.started": "2022-02-16T22:22:32.334055Z"
    },
    "papermill": {
     "duration": 0.040992,
     "end_time": "2022-02-16T22:25:03.379590",
     "exception": false,
     "start_time": "2022-02-16T22:25:03.338598",
     "status": "completed"
    },
    "tags": []
   },
   "outputs": [
    {
     "name": "stdout",
     "output_type": "stream",
     "text": [
      "[208500. 181500. 223500. ... 266500. 142125. 147500.]\n"
     ]
    },
    {
     "data": {
      "application/javascript": [
       "parent.postMessage({\"jupyterEvent\": \"custom.exercise_interaction\", \"data\": {\"outcomeType\": 1, \"valueTowardsCompletion\": 0.25, \"interactionType\": 1, \"questionType\": 2, \"questionId\": \"4_MakePredictions\", \"learnToolsVersion\": \"0.3.4\", \"failureMessage\": \"\", \"exceptionClass\": \"\", \"trace\": \"\"}}, \"*\")"
      ],
      "text/plain": [
       "<IPython.core.display.Javascript object>"
      ]
     },
     "metadata": {},
     "output_type": "display_data"
    },
    {
     "data": {
      "text/markdown": [
       "<span style=\"color:#33cc33\">Correct</span>"
      ],
      "text/plain": [
       "Correct"
      ]
     },
     "metadata": {},
     "output_type": "display_data"
    }
   ],
   "source": [
    "predictions = iowa_model.predict(X)\n",
    "print(predictions)\n",
    "\n",
    "# Check your answer\n",
    "step_4.check()"
   ]
  },
  {
   "cell_type": "code",
   "execution_count": 11,
   "id": "56b5ee1e",
   "metadata": {
    "execution": {
     "iopub.execute_input": "2022-02-16T22:25:03.435016Z",
     "iopub.status.busy": "2022-02-16T22:25:03.434308Z",
     "iopub.status.idle": "2022-02-16T22:25:03.437124Z",
     "shell.execute_reply": "2022-02-16T22:25:03.436486Z",
     "shell.execute_reply.started": "2022-02-16T22:22:36.151109Z"
    },
    "papermill": {
     "duration": 0.032179,
     "end_time": "2022-02-16T22:25:03.437283",
     "exception": false,
     "start_time": "2022-02-16T22:25:03.405104",
     "status": "completed"
    },
    "tags": []
   },
   "outputs": [],
   "source": [
    "# step_4.hint()\n",
    "# step_4.solution()"
   ]
  },
  {
   "cell_type": "markdown",
   "id": "9f792a88",
   "metadata": {
    "papermill": {
     "duration": 0.025261,
     "end_time": "2022-02-16T22:25:03.488464",
     "exception": false,
     "start_time": "2022-02-16T22:25:03.463203",
     "status": "completed"
    },
    "tags": []
   },
   "source": [
    "## Think About Your Results\n",
    "\n",
    "Use the `head` method to compare the top few predictions to the actual home values (in `y`) for those same homes. Anything surprising?\n"
   ]
  },
  {
   "cell_type": "code",
   "execution_count": 12,
   "id": "528ab9c0",
   "metadata": {
    "execution": {
     "iopub.execute_input": "2022-02-16T22:25:03.545352Z",
     "iopub.status.busy": "2022-02-16T22:25:03.544671Z",
     "iopub.status.idle": "2022-02-16T22:25:03.547369Z",
     "shell.execute_reply": "2022-02-16T22:25:03.547904Z",
     "shell.execute_reply.started": "2022-02-16T22:23:54.298537Z"
    },
    "papermill": {
     "duration": 0.034309,
     "end_time": "2022-02-16T22:25:03.548081",
     "exception": false,
     "start_time": "2022-02-16T22:25:03.513772",
     "status": "completed"
    },
    "tags": []
   },
   "outputs": [
    {
     "data": {
      "text/plain": [
       "0    208500\n",
       "1    181500\n",
       "2    223500\n",
       "3    140000\n",
       "4    250000\n",
       "Name: SalePrice, dtype: int64"
      ]
     },
     "execution_count": 12,
     "metadata": {},
     "output_type": "execute_result"
    }
   ],
   "source": [
    "# You can write code in this cell\n",
    "y.head()"
   ]
  },
  {
   "cell_type": "markdown",
   "id": "9472a330",
   "metadata": {
    "papermill": {
     "duration": 0.025745,
     "end_time": "2022-02-16T22:25:03.600471",
     "exception": false,
     "start_time": "2022-02-16T22:25:03.574726",
     "status": "completed"
    },
    "tags": []
   },
   "source": [
    "It's natural to ask how accurate the model's predictions will be and how you can improve that. That will be you're next step.\n",
    "\n",
    "# Keep Going\n",
    "\n",
    "You are ready for **[Model Validation](https://www.kaggle.com/dansbecker/model-validation).**\n"
   ]
  },
  {
   "cell_type": "markdown",
   "id": "0ce75b10",
   "metadata": {
    "papermill": {
     "duration": 0.026216,
     "end_time": "2022-02-16T22:25:03.652691",
     "exception": false,
     "start_time": "2022-02-16T22:25:03.626475",
     "status": "completed"
    },
    "tags": []
   },
   "source": [
    "---\n",
    "\n",
    "\n",
    "\n",
    "\n",
    "*Have questions or comments? Visit the [course discussion forum](https://www.kaggle.com/learn/intro-to-machine-learning/discussion) to chat with other learners.*"
   ]
  }
 ],
 "metadata": {
  "kernelspec": {
   "display_name": "Python 3",
   "language": "python",
   "name": "python3"
  },
  "language_info": {
   "codemirror_mode": {
    "name": "ipython",
    "version": 3
   },
   "file_extension": ".py",
   "mimetype": "text/x-python",
   "name": "python",
   "nbconvert_exporter": "python",
   "pygments_lexer": "ipython3",
   "version": "3.7.12"
  },
  "papermill": {
   "default_parameters": {},
   "duration": 13.86786,
   "end_time": "2022-02-16T22:25:04.388939",
   "environment_variables": {},
   "exception": null,
   "input_path": "__notebook__.ipynb",
   "output_path": "__notebook__.ipynb",
   "parameters": {},
   "start_time": "2022-02-16T22:24:50.521079",
   "version": "2.3.3"
  }
 },
 "nbformat": 4,
 "nbformat_minor": 5
}
