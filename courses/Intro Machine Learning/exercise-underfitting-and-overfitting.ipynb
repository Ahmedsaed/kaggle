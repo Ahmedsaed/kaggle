{
 "cells": [
  {
   "cell_type": "markdown",
   "id": "6963696b",
   "metadata": {
    "papermill": {
     "duration": 0.012313,
     "end_time": "2022-02-17T22:31:29.389758",
     "exception": false,
     "start_time": "2022-02-17T22:31:29.377445",
     "status": "completed"
    },
    "tags": []
   },
   "source": [
    "**This notebook is an exercise in the [Introduction to Machine Learning](https://www.kaggle.com/learn/intro-to-machine-learning) course.  You can reference the tutorial at [this link](https://www.kaggle.com/dansbecker/underfitting-and-overfitting).**\n",
    "\n",
    "---\n"
   ]
  },
  {
   "cell_type": "markdown",
   "id": "34c79e06",
   "metadata": {
    "papermill": {
     "duration": 0.011129,
     "end_time": "2022-02-17T22:31:29.414245",
     "exception": false,
     "start_time": "2022-02-17T22:31:29.403116",
     "status": "completed"
    },
    "tags": []
   },
   "source": [
    "## Recap\n",
    "You've built your first model, and now it's time to optimize the size of the tree to make better predictions. Run this cell to set up your coding environment where the previous step left off."
   ]
  },
  {
   "cell_type": "code",
   "execution_count": 1,
   "id": "9195ebff",
   "metadata": {
    "execution": {
     "iopub.execute_input": "2022-02-17T22:31:29.446235Z",
     "iopub.status.busy": "2022-02-17T22:31:29.445579Z",
     "iopub.status.idle": "2022-02-17T22:31:30.860191Z",
     "shell.execute_reply": "2022-02-17T22:31:30.859476Z",
     "shell.execute_reply.started": "2022-02-17T22:30:06.594053Z"
    },
    "papermill": {
     "duration": 1.434829,
     "end_time": "2022-02-17T22:31:30.860376",
     "exception": false,
     "start_time": "2022-02-17T22:31:29.425547",
     "status": "completed"
    },
    "tags": []
   },
   "outputs": [
    {
     "name": "stdout",
     "output_type": "stream",
     "text": [
      "Validation MAE: 29,653\n",
      "\n",
      "Setup complete\n"
     ]
    }
   ],
   "source": [
    "# Code you have previously used to load data\n",
    "import pandas as pd\n",
    "from sklearn.metrics import mean_absolute_error\n",
    "from sklearn.model_selection import train_test_split\n",
    "from sklearn.tree import DecisionTreeRegressor\n",
    "\n",
    "\n",
    "# Path of the file to read\n",
    "iowa_file_path = '../input/home-data-for-ml-course/train.csv'\n",
    "\n",
    "home_data = pd.read_csv(iowa_file_path)\n",
    "# Create target object and call it y\n",
    "y = home_data.SalePrice\n",
    "# Create X\n",
    "features = ['LotArea', 'YearBuilt', '1stFlrSF', '2ndFlrSF', 'FullBath', 'BedroomAbvGr', 'TotRmsAbvGrd']\n",
    "X = home_data[features]\n",
    "\n",
    "# Split into validation and training data\n",
    "train_X, val_X, train_y, val_y = train_test_split(X, y, random_state=1)\n",
    "\n",
    "# Specify Model\n",
    "iowa_model = DecisionTreeRegressor(random_state=1)\n",
    "# Fit Model\n",
    "iowa_model.fit(train_X, train_y)\n",
    "\n",
    "# Make validation predictions and calculate mean absolute error\n",
    "val_predictions = iowa_model.predict(val_X)\n",
    "val_mae = mean_absolute_error(val_predictions, val_y)\n",
    "print(\"Validation MAE: {:,.0f}\".format(val_mae))\n",
    "\n",
    "# Set up code checking\n",
    "from learntools.core import binder\n",
    "binder.bind(globals())\n",
    "from learntools.machine_learning.ex5 import *\n",
    "print(\"\\nSetup complete\")"
   ]
  },
  {
   "cell_type": "markdown",
   "id": "88551cc9",
   "metadata": {
    "papermill": {
     "duration": 0.011691,
     "end_time": "2022-02-17T22:31:30.884767",
     "exception": false,
     "start_time": "2022-02-17T22:31:30.873076",
     "status": "completed"
    },
    "tags": []
   },
   "source": [
    "# Exercises\n",
    "You could write the function `get_mae` yourself. For now, we'll supply it. This is the same function you read about in the previous lesson. Just run the cell below."
   ]
  },
  {
   "cell_type": "code",
   "execution_count": 2,
   "id": "83311494",
   "metadata": {
    "execution": {
     "iopub.execute_input": "2022-02-17T22:31:30.914902Z",
     "iopub.status.busy": "2022-02-17T22:31:30.914246Z",
     "iopub.status.idle": "2022-02-17T22:31:30.916087Z",
     "shell.execute_reply": "2022-02-17T22:31:30.916682Z",
     "shell.execute_reply.started": "2022-02-17T22:30:08.072912Z"
    },
    "papermill": {
     "duration": 0.020263,
     "end_time": "2022-02-17T22:31:30.916850",
     "exception": false,
     "start_time": "2022-02-17T22:31:30.896587",
     "status": "completed"
    },
    "tags": []
   },
   "outputs": [],
   "source": [
    "def get_mae(max_leaf_nodes, train_X, val_X, train_y, val_y):\n",
    "    model = DecisionTreeRegressor(max_leaf_nodes=max_leaf_nodes, random_state=0)\n",
    "    model.fit(train_X, train_y)\n",
    "    preds_val = model.predict(val_X)\n",
    "    mae = mean_absolute_error(val_y, preds_val)\n",
    "    return(mae)"
   ]
  },
  {
   "cell_type": "markdown",
   "id": "224db757",
   "metadata": {
    "papermill": {
     "duration": 0.011612,
     "end_time": "2022-02-17T22:31:30.940484",
     "exception": false,
     "start_time": "2022-02-17T22:31:30.928872",
     "status": "completed"
    },
    "tags": []
   },
   "source": [
    "## Step 1: Compare Different Tree Sizes\n",
    "Write a loop that tries the following values for *max_leaf_nodes* from a set of possible values.\n",
    "\n",
    "Call the *get_mae* function on each value of max_leaf_nodes. Store the output in some way that allows you to select the value of `max_leaf_nodes` that gives the most accurate model on your data."
   ]
  },
  {
   "cell_type": "code",
   "execution_count": 3,
   "id": "b720afc8",
   "metadata": {
    "execution": {
     "iopub.execute_input": "2022-02-17T22:31:30.972746Z",
     "iopub.status.busy": "2022-02-17T22:31:30.972049Z",
     "iopub.status.idle": "2022-02-17T22:31:31.023971Z",
     "shell.execute_reply": "2022-02-17T22:31:31.023443Z",
     "shell.execute_reply.started": "2022-02-17T22:30:21.780976Z"
    },
    "papermill": {
     "duration": 0.07177,
     "end_time": "2022-02-17T22:31:31.024127",
     "exception": false,
     "start_time": "2022-02-17T22:31:30.952357",
     "status": "completed"
    },
    "tags": []
   },
   "outputs": [
    {
     "name": "stdout",
     "output_type": "stream",
     "text": [
      "35044.51299744237\n",
      "29016.41319191076\n",
      "27405.930473214907\n",
      "27282.50803885739\n",
      "27893.822225701646\n",
      "29454.18598068598\n"
     ]
    },
    {
     "data": {
      "application/javascript": [
       "parent.postMessage({\"jupyterEvent\": \"custom.exercise_interaction\", \"data\": {\"outcomeType\": 1, \"valueTowardsCompletion\": 0.5, \"interactionType\": 1, \"questionType\": 1, \"questionId\": \"1_BestTreeSize\", \"learnToolsVersion\": \"0.3.4\", \"failureMessage\": \"\", \"exceptionClass\": \"\", \"trace\": \"\"}}, \"*\")"
      ],
      "text/plain": [
       "<IPython.core.display.Javascript object>"
      ]
     },
     "metadata": {},
     "output_type": "display_data"
    },
    {
     "data": {
      "text/markdown": [
       "<span style=\"color:#33cc33\">Correct</span>"
      ],
      "text/plain": [
       "Correct"
      ]
     },
     "metadata": {},
     "output_type": "display_data"
    }
   ],
   "source": [
    "candidate_max_leaf_nodes = [5, 25, 50, 100, 250, 500]\n",
    "# Write loop to find the ideal tree size from candidate_max_leaf_nodes\n",
    "for size in candidate_max_leaf_nodes:\n",
    "    print(get_mae(size, train_X, val_X, train_y, val_y))\n",
    "    \n",
    "\n",
    "# Store the best value of max_leaf_nodes (it will be either 5, 25, 50, 100, 250 or 500)\n",
    "best_tree_size = 100\n",
    "\n",
    "# Check your answer\n",
    "step_1.check()"
   ]
  },
  {
   "cell_type": "code",
   "execution_count": 4,
   "id": "4dddcbc6",
   "metadata": {
    "execution": {
     "iopub.execute_input": "2022-02-17T22:31:31.057272Z",
     "iopub.status.busy": "2022-02-17T22:31:31.056593Z",
     "iopub.status.idle": "2022-02-17T22:31:31.060418Z",
     "shell.execute_reply": "2022-02-17T22:31:31.060894Z",
     "shell.execute_reply.started": "2022-02-17T22:30:22.103960Z"
    },
    "papermill": {
     "duration": 0.022921,
     "end_time": "2022-02-17T22:31:31.061057",
     "exception": false,
     "start_time": "2022-02-17T22:31:31.038136",
     "status": "completed"
    },
    "tags": []
   },
   "outputs": [
    {
     "data": {
      "application/javascript": [
       "parent.postMessage({\"jupyterEvent\": \"custom.exercise_interaction\", \"data\": {\"interactionType\": 3, \"questionType\": 1, \"questionId\": \"1_BestTreeSize\", \"learnToolsVersion\": \"0.3.4\", \"valueTowardsCompletion\": 0.0, \"failureMessage\": \"\", \"exceptionClass\": \"\", \"trace\": \"\", \"outcomeType\": 4}}, \"*\")"
      ],
      "text/plain": [
       "<IPython.core.display.Javascript object>"
      ]
     },
     "metadata": {},
     "output_type": "display_data"
    },
    {
     "data": {
      "text/markdown": [
       "<span style=\"color:#33cc99\">Solution:</span> \n",
       "```python\n",
       "# Here is a short solution with a dict comprehension.\n",
       "# The lesson gives an example of how to do this with an explicit loop.\n",
       "scores = {leaf_size: get_mae(leaf_size, train_X, val_X, train_y, val_y) for leaf_size in candidate_max_leaf_nodes}\n",
       "best_tree_size = min(scores, key=scores.get)\n",
       "\n",
       "```"
      ],
      "text/plain": [
       "Solution: \n",
       "```python\n",
       "# Here is a short solution with a dict comprehension.\n",
       "# The lesson gives an example of how to do this with an explicit loop.\n",
       "scores = {leaf_size: get_mae(leaf_size, train_X, val_X, train_y, val_y) for leaf_size in candidate_max_leaf_nodes}\n",
       "best_tree_size = min(scores, key=scores.get)\n",
       "\n",
       "```"
      ]
     },
     "metadata": {},
     "output_type": "display_data"
    }
   ],
   "source": [
    "# The lines below will show you a hint or the solution.\n",
    "# step_1.hint() \n",
    "step_1.solution()"
   ]
  },
  {
   "cell_type": "markdown",
   "id": "a084ed29",
   "metadata": {
    "papermill": {
     "duration": 0.014525,
     "end_time": "2022-02-17T22:31:31.090372",
     "exception": false,
     "start_time": "2022-02-17T22:31:31.075847",
     "status": "completed"
    },
    "tags": []
   },
   "source": [
    "## Step 2: Fit Model Using All Data\n",
    "You know the best tree size. If you were going to deploy this model in practice, you would make it even more accurate by using all of the data and keeping that tree size.  That is, you don't need to hold out the validation data now that you've made all your modeling decisions."
   ]
  },
  {
   "cell_type": "code",
   "execution_count": 5,
   "id": "1ea9b88f",
   "metadata": {
    "execution": {
     "iopub.execute_input": "2022-02-17T22:31:31.127803Z",
     "iopub.status.busy": "2022-02-17T22:31:31.127088Z",
     "iopub.status.idle": "2022-02-17T22:31:31.139246Z",
     "shell.execute_reply": "2022-02-17T22:31:31.139698Z",
     "shell.execute_reply.started": "2022-02-17T22:30:29.449470Z"
    },
    "papermill": {
     "duration": 0.033984,
     "end_time": "2022-02-17T22:31:31.139879",
     "exception": false,
     "start_time": "2022-02-17T22:31:31.105895",
     "status": "completed"
    },
    "tags": []
   },
   "outputs": [
    {
     "data": {
      "application/javascript": [
       "parent.postMessage({\"jupyterEvent\": \"custom.exercise_interaction\", \"data\": {\"outcomeType\": 1, \"valueTowardsCompletion\": 0.5, \"interactionType\": 1, \"questionType\": 2, \"questionId\": \"2_FitModelWithAllData\", \"learnToolsVersion\": \"0.3.4\", \"failureMessage\": \"\", \"exceptionClass\": \"\", \"trace\": \"\"}}, \"*\")"
      ],
      "text/plain": [
       "<IPython.core.display.Javascript object>"
      ]
     },
     "metadata": {},
     "output_type": "display_data"
    },
    {
     "data": {
      "text/markdown": [
       "<span style=\"color:#33cc33\">Correct</span>"
      ],
      "text/plain": [
       "Correct"
      ]
     },
     "metadata": {},
     "output_type": "display_data"
    }
   ],
   "source": [
    "# Fill in argument to make optimal size and uncomment\n",
    "final_model = DecisionTreeRegressor(max_leaf_nodes=best_tree_size)\n",
    "\n",
    "# fit the final model and uncomment the next two lines\n",
    "final_model.fit(X, y)\n",
    "\n",
    "# Check your answer\n",
    "step_2.check()"
   ]
  },
  {
   "cell_type": "code",
   "execution_count": 6,
   "id": "d9785752",
   "metadata": {
    "execution": {
     "iopub.execute_input": "2022-02-17T22:31:31.176747Z",
     "iopub.status.busy": "2022-02-17T22:31:31.175936Z",
     "iopub.status.idle": "2022-02-17T22:31:31.178749Z",
     "shell.execute_reply": "2022-02-17T22:31:31.178223Z",
     "shell.execute_reply.started": "2022-02-17T22:30:30.180103Z"
    },
    "papermill": {
     "duration": 0.022821,
     "end_time": "2022-02-17T22:31:31.178884",
     "exception": false,
     "start_time": "2022-02-17T22:31:31.156063",
     "status": "completed"
    },
    "tags": []
   },
   "outputs": [],
   "source": [
    "# step_2.hint()\n",
    "# step_2.solution()"
   ]
  },
  {
   "cell_type": "markdown",
   "id": "19941a52",
   "metadata": {
    "papermill": {
     "duration": 0.015713,
     "end_time": "2022-02-17T22:31:31.210644",
     "exception": false,
     "start_time": "2022-02-17T22:31:31.194931",
     "status": "completed"
    },
    "tags": []
   },
   "source": [
    "You've tuned this model and improved your results. But we are still using Decision Tree models, which are not very sophisticated by modern machine learning standards. In the next step you will learn to use Random Forests to improve your models even more.\n",
    "\n",
    "# Keep Going\n",
    "\n",
    "You are ready for **[Random Forests](https://www.kaggle.com/dansbecker/random-forests).**\n"
   ]
  },
  {
   "cell_type": "markdown",
   "id": "b7d228f5",
   "metadata": {
    "papermill": {
     "duration": 0.015733,
     "end_time": "2022-02-17T22:31:31.242572",
     "exception": false,
     "start_time": "2022-02-17T22:31:31.226839",
     "status": "completed"
    },
    "tags": []
   },
   "source": [
    "---\n",
    "\n",
    "\n",
    "\n",
    "\n",
    "*Have questions or comments? Visit the [course discussion forum](https://www.kaggle.com/learn/intro-to-machine-learning/discussion) to chat with other learners.*"
   ]
  }
 ],
 "metadata": {
  "kernelspec": {
   "display_name": "Python 3",
   "language": "python",
   "name": "python3"
  },
  "language_info": {
   "codemirror_mode": {
    "name": "ipython",
    "version": 3
   },
   "file_extension": ".py",
   "mimetype": "text/x-python",
   "name": "python",
   "nbconvert_exporter": "python",
   "pygments_lexer": "ipython3",
   "version": "3.7.12"
  },
  "papermill": {
   "default_parameters": {},
   "duration": 12.738747,
   "end_time": "2022-02-17T22:31:31.969893",
   "environment_variables": {},
   "exception": null,
   "input_path": "__notebook__.ipynb",
   "output_path": "__notebook__.ipynb",
   "parameters": {},
   "start_time": "2022-02-17T22:31:19.231146",
   "version": "2.3.3"
  }
 },
 "nbformat": 4,
 "nbformat_minor": 5
}
