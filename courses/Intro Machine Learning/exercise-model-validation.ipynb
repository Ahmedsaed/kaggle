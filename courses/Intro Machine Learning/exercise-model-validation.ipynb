{
 "cells": [
  {
   "cell_type": "markdown",
   "id": "ed76996e",
   "metadata": {
    "papermill": {
     "duration": 0.017687,
     "end_time": "2022-02-17T21:59:32.934134",
     "exception": false,
     "start_time": "2022-02-17T21:59:32.916447",
     "status": "completed"
    },
    "tags": []
   },
   "source": [
    "**This notebook is an exercise in the [Introduction to Machine Learning](https://www.kaggle.com/learn/intro-to-machine-learning) course.  You can reference the tutorial at [this link](https://www.kaggle.com/dansbecker/model-validation).**\n",
    "\n",
    "---\n"
   ]
  },
  {
   "cell_type": "markdown",
   "id": "9dcb75dc",
   "metadata": {
    "papermill": {
     "duration": 0.017097,
     "end_time": "2022-02-17T21:59:32.968578",
     "exception": false,
     "start_time": "2022-02-17T21:59:32.951481",
     "status": "completed"
    },
    "tags": []
   },
   "source": [
    "## Recap\n",
    "You've built a model. In this exercise you will test how good your model is.\n",
    "\n",
    "Run the cell below to set up your coding environment where the previous exercise left off."
   ]
  },
  {
   "cell_type": "code",
   "execution_count": 1,
   "id": "0b34f5f5",
   "metadata": {
    "execution": {
     "iopub.execute_input": "2022-02-17T21:59:33.018252Z",
     "iopub.status.busy": "2022-02-17T21:59:33.017573Z",
     "iopub.status.idle": "2022-02-17T21:59:34.568716Z",
     "shell.execute_reply": "2022-02-17T21:59:34.567868Z",
     "shell.execute_reply.started": "2022-02-17T21:38:27.882437Z"
    },
    "papermill": {
     "duration": 1.583141,
     "end_time": "2022-02-17T21:59:34.568899",
     "exception": false,
     "start_time": "2022-02-17T21:59:32.985758",
     "status": "completed"
    },
    "tags": []
   },
   "outputs": [
    {
     "name": "stdout",
     "output_type": "stream",
     "text": [
      "First in-sample predictions: [208500. 181500. 223500. 140000. 250000.]\n",
      "Actual target values for those homes: [208500, 181500, 223500, 140000, 250000]\n",
      "Setup Complete\n"
     ]
    }
   ],
   "source": [
    "# Code you have previously used to load data\n",
    "import pandas as pd\n",
    "from sklearn.tree import DecisionTreeRegressor\n",
    "\n",
    "# Path of the file to read\n",
    "iowa_file_path = '../input/home-data-for-ml-course/train.csv'\n",
    "\n",
    "home_data = pd.read_csv(iowa_file_path)\n",
    "y = home_data.SalePrice\n",
    "feature_columns = ['LotArea', 'YearBuilt', '1stFlrSF', '2ndFlrSF', 'FullBath', 'BedroomAbvGr', 'TotRmsAbvGrd']\n",
    "X = home_data[feature_columns]\n",
    "\n",
    "# Specify Model\n",
    "iowa_model = DecisionTreeRegressor()\n",
    "# Fit Model\n",
    "iowa_model.fit(X, y)\n",
    "\n",
    "print(\"First in-sample predictions:\", iowa_model.predict(X.head()))\n",
    "print(\"Actual target values for those homes:\", y.head().tolist())\n",
    "\n",
    "# Set up code checking\n",
    "from learntools.core import binder\n",
    "binder.bind(globals())\n",
    "from learntools.machine_learning.ex4 import *\n",
    "print(\"Setup Complete\")"
   ]
  },
  {
   "cell_type": "markdown",
   "id": "c760448a",
   "metadata": {
    "papermill": {
     "duration": 0.017688,
     "end_time": "2022-02-17T21:59:34.605428",
     "exception": false,
     "start_time": "2022-02-17T21:59:34.587740",
     "status": "completed"
    },
    "tags": []
   },
   "source": [
    "# Exercises\n",
    "\n",
    "## Step 1: Split Your Data\n",
    "Use the `train_test_split` function to split up your data.\n",
    "\n",
    "Give it the argument `random_state=1` so the `check` functions know what to expect when verifying your code.\n",
    "\n",
    "Recall, your features are loaded in the DataFrame **X** and your target is loaded in **y**.\n"
   ]
  },
  {
   "cell_type": "code",
   "execution_count": 2,
   "id": "d5342311",
   "metadata": {
    "execution": {
     "iopub.execute_input": "2022-02-17T21:59:34.643225Z",
     "iopub.status.busy": "2022-02-17T21:59:34.642597Z",
     "iopub.status.idle": "2022-02-17T21:59:34.655158Z",
     "shell.execute_reply": "2022-02-17T21:59:34.655666Z",
     "shell.execute_reply.started": "2022-02-17T21:42:06.075244Z"
    },
    "papermill": {
     "duration": 0.032856,
     "end_time": "2022-02-17T21:59:34.655847",
     "exception": false,
     "start_time": "2022-02-17T21:59:34.622991",
     "status": "completed"
    },
    "tags": []
   },
   "outputs": [
    {
     "data": {
      "application/javascript": [
       "parent.postMessage({\"jupyterEvent\": \"custom.exercise_interaction\", \"data\": {\"outcomeType\": 1, \"valueTowardsCompletion\": 0.25, \"interactionType\": 1, \"questionType\": 2, \"questionId\": \"1_SplitData\", \"learnToolsVersion\": \"0.3.4\", \"failureMessage\": \"\", \"exceptionClass\": \"\", \"trace\": \"\"}}, \"*\")"
      ],
      "text/plain": [
       "<IPython.core.display.Javascript object>"
      ]
     },
     "metadata": {},
     "output_type": "display_data"
    },
    {
     "data": {
      "text/markdown": [
       "<span style=\"color:#33cc33\">Correct</span>"
      ],
      "text/plain": [
       "Correct"
      ]
     },
     "metadata": {},
     "output_type": "display_data"
    }
   ],
   "source": [
    "# Import the train_test_split function and uncomment\n",
    "from sklearn.model_selection import train_test_split\n",
    "\n",
    "# fill in and uncomment\n",
    "train_X, val_X, train_y, val_y = train_test_split(X, y, random_state=1)\n",
    "\n",
    "# Check your answer\n",
    "step_1.check()"
   ]
  },
  {
   "cell_type": "code",
   "execution_count": 3,
   "id": "bfc7fcaf",
   "metadata": {
    "execution": {
     "iopub.execute_input": "2022-02-17T21:59:34.698476Z",
     "iopub.status.busy": "2022-02-17T21:59:34.697744Z",
     "iopub.status.idle": "2022-02-17T21:59:34.701321Z",
     "shell.execute_reply": "2022-02-17T21:59:34.701872Z",
     "shell.execute_reply.started": "2022-02-17T21:42:06.956177Z"
    },
    "papermill": {
     "duration": 0.027442,
     "end_time": "2022-02-17T21:59:34.702057",
     "exception": false,
     "start_time": "2022-02-17T21:59:34.674615",
     "status": "completed"
    },
    "tags": []
   },
   "outputs": [],
   "source": [
    "# The lines below will show you a hint or the solution.\n",
    "# step_1.hint() \n",
    "# step_1.solution()\n"
   ]
  },
  {
   "cell_type": "markdown",
   "id": "e6488189",
   "metadata": {
    "papermill": {
     "duration": 0.020031,
     "end_time": "2022-02-17T21:59:34.741618",
     "exception": false,
     "start_time": "2022-02-17T21:59:34.721587",
     "status": "completed"
    },
    "tags": []
   },
   "source": [
    "## Step 2: Specify and Fit the Model\n",
    "\n",
    "Create a `DecisionTreeRegressor` model and fit it to the relevant data.\n",
    "Set `random_state` to 1 again when creating the model."
   ]
  },
  {
   "cell_type": "code",
   "execution_count": 4,
   "id": "c950801e",
   "metadata": {
    "execution": {
     "iopub.execute_input": "2022-02-17T21:59:34.783516Z",
     "iopub.status.busy": "2022-02-17T21:59:34.782855Z",
     "iopub.status.idle": "2022-02-17T21:59:34.813398Z",
     "shell.execute_reply": "2022-02-17T21:59:34.812809Z",
     "shell.execute_reply.started": "2022-02-17T21:44:27.369184Z"
    },
    "papermill": {
     "duration": 0.053448,
     "end_time": "2022-02-17T21:59:34.813547",
     "exception": false,
     "start_time": "2022-02-17T21:59:34.760099",
     "status": "completed"
    },
    "tags": []
   },
   "outputs": [
    {
     "name": "stdout",
     "output_type": "stream",
     "text": [
      "[186500. 184000. 130000.  92000. 164500. 220000. 335000. 144152. 215000.\n",
      " 262000.]\n",
      "[186500. 184000. 130000.  92000. 164500. 220000. 335000. 144152. 215000.\n",
      " 262000.]\n"
     ]
    },
    {
     "data": {
      "application/javascript": [
       "parent.postMessage({\"jupyterEvent\": \"custom.exercise_interaction\", \"data\": {\"outcomeType\": 1, \"valueTowardsCompletion\": 0.25, \"interactionType\": 1, \"questionType\": 2, \"questionId\": \"2_FitModelWithTrain\", \"learnToolsVersion\": \"0.3.4\", \"failureMessage\": \"\", \"exceptionClass\": \"\", \"trace\": \"\"}}, \"*\")"
      ],
      "text/plain": [
       "<IPython.core.display.Javascript object>"
      ]
     },
     "metadata": {},
     "output_type": "display_data"
    },
    {
     "data": {
      "text/markdown": [
       "<span style=\"color:#33cc33\">Correct</span>"
      ],
      "text/plain": [
       "Correct"
      ]
     },
     "metadata": {},
     "output_type": "display_data"
    }
   ],
   "source": [
    "# You imported DecisionTreeRegressor in your last exercise\n",
    "# and that code has been copied to the setup code above. So, no need to\n",
    "# import it again\n",
    "\n",
    "# Specify the model\n",
    "iowa_model = DecisionTreeRegressor(random_state=1)\n",
    "\n",
    "# Fit iowa_model with the training data.\n",
    "iowa_model.fit(train_X, train_y)\n",
    "\n",
    "# Check your answer\n",
    "step_2.check()"
   ]
  },
  {
   "cell_type": "code",
   "execution_count": 5,
   "id": "e7f1708e",
   "metadata": {
    "execution": {
     "iopub.execute_input": "2022-02-17T21:59:34.863417Z",
     "iopub.status.busy": "2022-02-17T21:59:34.862656Z",
     "iopub.status.idle": "2022-02-17T21:59:34.865557Z",
     "shell.execute_reply": "2022-02-17T21:59:34.865024Z",
     "shell.execute_reply.started": "2022-02-17T21:44:28.591996Z"
    },
    "papermill": {
     "duration": 0.030956,
     "end_time": "2022-02-17T21:59:34.865705",
     "exception": false,
     "start_time": "2022-02-17T21:59:34.834749",
     "status": "completed"
    },
    "tags": []
   },
   "outputs": [],
   "source": [
    "# step_2.hint()\n",
    "# step_2.solution()"
   ]
  },
  {
   "cell_type": "markdown",
   "id": "e8d8762d",
   "metadata": {
    "papermill": {
     "duration": 0.021011,
     "end_time": "2022-02-17T21:59:34.907159",
     "exception": false,
     "start_time": "2022-02-17T21:59:34.886148",
     "status": "completed"
    },
    "tags": []
   },
   "source": [
    "## Step 3: Make Predictions with Validation data\n"
   ]
  },
  {
   "cell_type": "code",
   "execution_count": 6,
   "id": "cb34fcbf",
   "metadata": {
    "execution": {
     "iopub.execute_input": "2022-02-17T21:59:34.957733Z",
     "iopub.status.busy": "2022-02-17T21:59:34.956944Z",
     "iopub.status.idle": "2022-02-17T21:59:34.964062Z",
     "shell.execute_reply": "2022-02-17T21:59:34.963564Z",
     "shell.execute_reply.started": "2022-02-17T21:45:41.222280Z"
    },
    "papermill": {
     "duration": 0.035249,
     "end_time": "2022-02-17T21:59:34.964209",
     "exception": false,
     "start_time": "2022-02-17T21:59:34.928960",
     "status": "completed"
    },
    "tags": []
   },
   "outputs": [
    {
     "data": {
      "application/javascript": [
       "parent.postMessage({\"jupyterEvent\": \"custom.exercise_interaction\", \"data\": {\"outcomeType\": 1, \"valueTowardsCompletion\": 0.25, \"interactionType\": 1, \"questionType\": 2, \"questionId\": \"3_ValPreds\", \"learnToolsVersion\": \"0.3.4\", \"failureMessage\": \"\", \"exceptionClass\": \"\", \"trace\": \"\"}}, \"*\")"
      ],
      "text/plain": [
       "<IPython.core.display.Javascript object>"
      ]
     },
     "metadata": {},
     "output_type": "display_data"
    },
    {
     "data": {
      "text/markdown": [
       "<span style=\"color:#33cc33\">Correct</span>"
      ],
      "text/plain": [
       "Correct"
      ]
     },
     "metadata": {},
     "output_type": "display_data"
    }
   ],
   "source": [
    "# Predict with all validation observations\n",
    "val_predictions = iowa_model.predict(val_X)\n",
    "\n",
    "# Check your answer\n",
    "step_3.check()"
   ]
  },
  {
   "cell_type": "code",
   "execution_count": 7,
   "id": "aeda0c90",
   "metadata": {
    "execution": {
     "iopub.execute_input": "2022-02-17T21:59:35.012434Z",
     "iopub.status.busy": "2022-02-17T21:59:35.011761Z",
     "iopub.status.idle": "2022-02-17T21:59:35.016388Z",
     "shell.execute_reply": "2022-02-17T21:59:35.015822Z",
     "shell.execute_reply.started": "2022-02-17T21:47:36.837775Z"
    },
    "papermill": {
     "duration": 0.030381,
     "end_time": "2022-02-17T21:59:35.016541",
     "exception": false,
     "start_time": "2022-02-17T21:59:34.986160",
     "status": "completed"
    },
    "tags": []
   },
   "outputs": [],
   "source": [
    "# step_3.hint()\n",
    "# step_3.solution()"
   ]
  },
  {
   "cell_type": "markdown",
   "id": "3c166a8b",
   "metadata": {
    "papermill": {
     "duration": 0.020888,
     "end_time": "2022-02-17T21:59:35.061470",
     "exception": false,
     "start_time": "2022-02-17T21:59:35.040582",
     "status": "completed"
    },
    "tags": []
   },
   "source": [
    "Inspect your predictions and actual values from validation data."
   ]
  },
  {
   "cell_type": "code",
   "execution_count": 8,
   "id": "caa1d396",
   "metadata": {
    "execution": {
     "iopub.execute_input": "2022-02-17T21:59:35.108359Z",
     "iopub.status.busy": "2022-02-17T21:59:35.107596Z",
     "iopub.status.idle": "2022-02-17T21:59:35.113373Z",
     "shell.execute_reply": "2022-02-17T21:59:35.113883Z",
     "shell.execute_reply.started": "2022-02-17T21:57:15.052427Z"
    },
    "papermill": {
     "duration": 0.030042,
     "end_time": "2022-02-17T21:59:35.114054",
     "exception": false,
     "start_time": "2022-02-17T21:59:35.084012",
     "status": "completed"
    },
    "tags": []
   },
   "outputs": [
    {
     "name": "stdout",
     "output_type": "stream",
     "text": [
      "[186500. 184000. 130000.  92000. 164500.]\n",
      "258     231500\n",
      "267     179500\n",
      "288     122000\n",
      "649      84500\n",
      "1233    142000\n",
      "Name: SalePrice, dtype: int64\n"
     ]
    }
   ],
   "source": [
    "# print the top few validation predictions\n",
    "print(val_predictions[:5])\n",
    "# print the top few actual prices from validation data\n",
    "print(val_y[:5])"
   ]
  },
  {
   "cell_type": "markdown",
   "id": "4cf4b7ef",
   "metadata": {
    "papermill": {
     "duration": 0.021713,
     "end_time": "2022-02-17T21:59:35.158208",
     "exception": false,
     "start_time": "2022-02-17T21:59:35.136495",
     "status": "completed"
    },
    "tags": []
   },
   "source": [
    "What do you notice that is different from what you saw with in-sample predictions (which are printed after the top code cell in this page).\n",
    "\n",
    "Do you remember why validation predictions differ from in-sample (or training) predictions? This is an important idea from the last lesson.\n",
    "\n",
    "## Step 4: Calculate the Mean Absolute Error in Validation Data\n"
   ]
  },
  {
   "cell_type": "code",
   "execution_count": 9,
   "id": "0998b026",
   "metadata": {
    "execution": {
     "iopub.execute_input": "2022-02-17T21:59:35.205750Z",
     "iopub.status.busy": "2022-02-17T21:59:35.205012Z",
     "iopub.status.idle": "2022-02-17T21:59:35.214029Z",
     "shell.execute_reply": "2022-02-17T21:59:35.214547Z",
     "shell.execute_reply.started": "2022-02-17T21:58:38.991266Z"
    },
    "papermill": {
     "duration": 0.035111,
     "end_time": "2022-02-17T21:59:35.214721",
     "exception": false,
     "start_time": "2022-02-17T21:59:35.179610",
     "status": "completed"
    },
    "tags": []
   },
   "outputs": [
    {
     "name": "stdout",
     "output_type": "stream",
     "text": [
      "29652.931506849316\n"
     ]
    },
    {
     "data": {
      "application/javascript": [
       "parent.postMessage({\"jupyterEvent\": \"custom.exercise_interaction\", \"data\": {\"outcomeType\": 1, \"valueTowardsCompletion\": 0.25, \"interactionType\": 1, \"questionType\": 1, \"questionId\": \"4_MAE\", \"learnToolsVersion\": \"0.3.4\", \"failureMessage\": \"\", \"exceptionClass\": \"\", \"trace\": \"\"}}, \"*\")"
      ],
      "text/plain": [
       "<IPython.core.display.Javascript object>"
      ]
     },
     "metadata": {},
     "output_type": "display_data"
    },
    {
     "data": {
      "text/markdown": [
       "<span style=\"color:#33cc33\">Correct</span>"
      ],
      "text/plain": [
       "Correct"
      ]
     },
     "metadata": {},
     "output_type": "display_data"
    }
   ],
   "source": [
    "from sklearn.metrics import mean_absolute_error\n",
    "val_mae = mean_absolute_error(val_y, val_predictions)\n",
    "\n",
    "# uncomment following line to see the validation_mae\n",
    "print(val_mae)\n",
    "\n",
    "# Check your answer\n",
    "step_4.check()"
   ]
  },
  {
   "cell_type": "code",
   "execution_count": 10,
   "id": "0bd7c781",
   "metadata": {
    "execution": {
     "iopub.execute_input": "2022-02-17T21:59:35.263615Z",
     "iopub.status.busy": "2022-02-17T21:59:35.262973Z",
     "iopub.status.idle": "2022-02-17T21:59:35.266241Z",
     "shell.execute_reply": "2022-02-17T21:59:35.266796Z",
     "shell.execute_reply.started": "2022-02-17T21:58:41.807376Z"
    },
    "papermill": {
     "duration": 0.029367,
     "end_time": "2022-02-17T21:59:35.266987",
     "exception": false,
     "start_time": "2022-02-17T21:59:35.237620",
     "status": "completed"
    },
    "tags": []
   },
   "outputs": [],
   "source": [
    "# step_4.hint()\n",
    "# step_4.solution()"
   ]
  },
  {
   "cell_type": "markdown",
   "id": "e69c8f62",
   "metadata": {
    "papermill": {
     "duration": 0.022491,
     "end_time": "2022-02-17T21:59:35.313146",
     "exception": false,
     "start_time": "2022-02-17T21:59:35.290655",
     "status": "completed"
    },
    "tags": []
   },
   "source": [
    "Is that MAE good?  There isn't a general rule for what values are good that applies across applications. But you'll see how to use (and improve) this number in the next step.\n",
    "\n",
    "# Keep Going\n",
    "\n",
    "You are ready for **[Underfitting and Overfitting](https://www.kaggle.com/dansbecker/underfitting-and-overfitting).**\n"
   ]
  },
  {
   "cell_type": "markdown",
   "id": "200cbc57",
   "metadata": {
    "papermill": {
     "duration": 0.024409,
     "end_time": "2022-02-17T21:59:35.364315",
     "exception": false,
     "start_time": "2022-02-17T21:59:35.339906",
     "status": "completed"
    },
    "tags": []
   },
   "source": [
    "---\n",
    "\n",
    "\n",
    "\n",
    "\n",
    "*Have questions or comments? Visit the [course discussion forum](https://www.kaggle.com/learn/intro-to-machine-learning/discussion) to chat with other learners.*"
   ]
  }
 ],
 "metadata": {
  "kernelspec": {
   "display_name": "Python 3",
   "language": "python",
   "name": "python3"
  },
  "language_info": {
   "codemirror_mode": {
    "name": "ipython",
    "version": 3
   },
   "file_extension": ".py",
   "mimetype": "text/x-python",
   "name": "python",
   "nbconvert_exporter": "python",
   "pygments_lexer": "ipython3",
   "version": "3.7.12"
  },
  "papermill": {
   "default_parameters": {},
   "duration": 14.578642,
   "end_time": "2022-02-17T21:59:36.198514",
   "environment_variables": {},
   "exception": null,
   "input_path": "__notebook__.ipynb",
   "output_path": "__notebook__.ipynb",
   "parameters": {},
   "start_time": "2022-02-17T21:59:21.619872",
   "version": "2.3.3"
  }
 },
 "nbformat": 4,
 "nbformat_minor": 5
}
