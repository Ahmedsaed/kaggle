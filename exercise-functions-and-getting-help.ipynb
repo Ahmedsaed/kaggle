{
 "cells": [
  {
   "cell_type": "markdown",
   "id": "e91ddd20",
   "metadata": {
    "papermill": {
     "duration": 0.018891,
     "end_time": "2022-02-12T16:09:13.808227",
     "exception": false,
     "start_time": "2022-02-12T16:09:13.789336",
     "status": "completed"
    },
    "tags": []
   },
   "source": [
    "**This notebook is an exercise in the [Python](https://www.kaggle.com/learn/python) course.  You can reference the tutorial at [this link](https://www.kaggle.com/colinmorris/functions-and-getting-help).**\n",
    "\n",
    "---\n"
   ]
  },
  {
   "cell_type": "markdown",
   "id": "e651649b",
   "metadata": {
    "papermill": {
     "duration": 0.017419,
     "end_time": "2022-02-12T16:09:13.844524",
     "exception": false,
     "start_time": "2022-02-12T16:09:13.827105",
     "status": "completed"
    },
    "tags": []
   },
   "source": [
    "Functions are powerful. Try writing some yourself.\n",
    "\n",
    "As before, don't forget to run the setup code below before jumping into question 1."
   ]
  },
  {
   "cell_type": "code",
   "execution_count": 1,
   "id": "9a1fef8c",
   "metadata": {
    "_kg_hide-input": true,
    "_kg_hide-output": true,
    "execution": {
     "iopub.execute_input": "2022-02-12T16:09:13.892874Z",
     "iopub.status.busy": "2022-02-12T16:09:13.888690Z",
     "iopub.status.idle": "2022-02-12T16:09:13.934057Z",
     "shell.execute_reply": "2022-02-12T16:09:13.934594Z",
     "shell.execute_reply.started": "2022-02-12T14:43:03.375614Z"
    },
    "papermill": {
     "duration": 0.07275,
     "end_time": "2022-02-12T16:09:13.934936",
     "exception": false,
     "start_time": "2022-02-12T16:09:13.862186",
     "status": "completed"
    },
    "tags": []
   },
   "outputs": [
    {
     "name": "stdout",
     "output_type": "stream",
     "text": [
      "Setup complete.\n"
     ]
    }
   ],
   "source": [
    "# SETUP. You don't need to worry for now about what this code does or how it works.\n",
    "from learntools.core import binder; binder.bind(globals())\n",
    "from learntools.python.ex2 import *\n",
    "print('Setup complete.')"
   ]
  },
  {
   "cell_type": "markdown",
   "id": "8d076556",
   "metadata": {
    "papermill": {
     "duration": 0.0175,
     "end_time": "2022-02-12T16:09:13.970863",
     "exception": false,
     "start_time": "2022-02-12T16:09:13.953363",
     "status": "completed"
    },
    "tags": []
   },
   "source": [
    "# 1.\n",
    "\n",
    "Complete the body of the following function according to its docstring.\n",
    "\n",
    "HINT: Python has a built-in function `round`."
   ]
  },
  {
   "cell_type": "code",
   "execution_count": 2,
   "id": "5892b938",
   "metadata": {
    "execution": {
     "iopub.execute_input": "2022-02-12T16:09:14.010964Z",
     "iopub.status.busy": "2022-02-12T16:09:14.010189Z",
     "iopub.status.idle": "2022-02-12T16:09:14.021508Z",
     "shell.execute_reply": "2022-02-12T16:09:14.020997Z",
     "shell.execute_reply.started": "2022-02-12T14:46:39.905646Z"
    },
    "papermill": {
     "duration": 0.032499,
     "end_time": "2022-02-12T16:09:14.021647",
     "exception": false,
     "start_time": "2022-02-12T16:09:13.989148",
     "status": "completed"
    },
    "tags": []
   },
   "outputs": [
    {
     "data": {
      "application/javascript": [
       "parent.postMessage({\"jupyterEvent\": \"custom.exercise_interaction\", \"data\": {\"outcomeType\": 1, \"valueTowardsCompletion\": 0.16666666666666666, \"interactionType\": 1, \"questionType\": 2, \"questionId\": \"1_RoundFunctionProblem\", \"learnToolsVersion\": \"0.3.4\", \"failureMessage\": \"\", \"exceptionClass\": \"\", \"trace\": \"\"}}, \"*\")"
      ],
      "text/plain": [
       "<IPython.core.display.Javascript object>"
      ]
     },
     "metadata": {},
     "output_type": "display_data"
    },
    {
     "data": {
      "text/markdown": [
       "<span style=\"color:#33cc33\">Correct</span>"
      ],
      "text/plain": [
       "Correct"
      ]
     },
     "metadata": {},
     "output_type": "display_data"
    }
   ],
   "source": [
    "def round_to_two_places(num):\n",
    "    \"\"\"Return the given number rounded to two decimal places. \n",
    "    \n",
    "    >>> round_to_two_places(3.14159)\n",
    "    3.14\n",
    "    \"\"\"\n",
    "    # Replace this body with your own code.\n",
    "    # (\"pass\" is a keyword that does literally nothing. We used it as a placeholder\n",
    "    # because after we begin a code block, Python requires at least one line of code)\n",
    "    return round(num, 2)\n",
    "\n",
    "# Check your answer\n",
    "q1.check()"
   ]
  },
  {
   "cell_type": "code",
   "execution_count": 3,
   "id": "47177acf",
   "metadata": {
    "execution": {
     "iopub.execute_input": "2022-02-12T16:09:14.064634Z",
     "iopub.status.busy": "2022-02-12T16:09:14.063983Z",
     "iopub.status.idle": "2022-02-12T16:09:14.067466Z",
     "shell.execute_reply": "2022-02-12T16:09:14.068102Z",
     "shell.execute_reply.started": "2022-02-12T14:46:41.410979Z"
    },
    "papermill": {
     "duration": 0.026843,
     "end_time": "2022-02-12T16:09:14.068267",
     "exception": false,
     "start_time": "2022-02-12T16:09:14.041424",
     "status": "completed"
    },
    "tags": []
   },
   "outputs": [],
   "source": [
    "# Uncomment the following for a hint\n",
    "#q1.hint()\n",
    "# Or uncomment the following to peek at the solution\n",
    "#q1.solution()"
   ]
  },
  {
   "cell_type": "markdown",
   "id": "1f9f6529",
   "metadata": {
    "papermill": {
     "duration": 0.018566,
     "end_time": "2022-02-12T16:09:14.106549",
     "exception": false,
     "start_time": "2022-02-12T16:09:14.087983",
     "status": "completed"
    },
    "tags": []
   },
   "source": [
    "# 2.\n",
    "The help for `round` says that `ndigits` (the second argument) may be negative.\n",
    "What do you think will happen when it is? Try some examples in the following cell."
   ]
  },
  {
   "cell_type": "code",
   "execution_count": 4,
   "id": "67e6acb9",
   "metadata": {
    "execution": {
     "iopub.execute_input": "2022-02-12T16:09:14.148196Z",
     "iopub.status.busy": "2022-02-12T16:09:14.147409Z",
     "iopub.status.idle": "2022-02-12T16:09:14.152724Z",
     "shell.execute_reply": "2022-02-12T16:09:14.153447Z",
     "shell.execute_reply.started": "2022-02-12T14:47:52.997103Z"
    },
    "papermill": {
     "duration": 0.028262,
     "end_time": "2022-02-12T16:09:14.153710",
     "exception": false,
     "start_time": "2022-02-12T16:09:14.125448",
     "status": "completed"
    },
    "tags": []
   },
   "outputs": [
    {
     "name": "stdout",
     "output_type": "stream",
     "text": [
      "100.0\n",
      "4800.0\n"
     ]
    }
   ],
   "source": [
    "print(round(123.456, -2))\n",
    "print(round(4826.357, -2))\n",
    "\n",
    "# Put your test code here"
   ]
  },
  {
   "cell_type": "markdown",
   "id": "e5f535a1",
   "metadata": {
    "papermill": {
     "duration": 0.018947,
     "end_time": "2022-02-12T16:09:14.193179",
     "exception": false,
     "start_time": "2022-02-12T16:09:14.174232",
     "status": "completed"
    },
    "tags": []
   },
   "source": [
    "Can you think of a case where this would be useful?  Once you're ready, run the code cell below to see the answer and to receive credit for completing the problem."
   ]
  },
  {
   "cell_type": "code",
   "execution_count": 5,
   "id": "3680d1ed",
   "metadata": {
    "execution": {
     "iopub.execute_input": "2022-02-12T16:09:14.235859Z",
     "iopub.status.busy": "2022-02-12T16:09:14.235126Z",
     "iopub.status.idle": "2022-02-12T16:09:14.241866Z",
     "shell.execute_reply": "2022-02-12T16:09:14.242369Z",
     "shell.execute_reply.started": "2022-02-12T14:48:16.338321Z"
    },
    "papermill": {
     "duration": 0.030124,
     "end_time": "2022-02-12T16:09:14.242542",
     "exception": false,
     "start_time": "2022-02-12T16:09:14.212418",
     "status": "completed"
    },
    "tags": []
   },
   "outputs": [
    {
     "data": {
      "application/javascript": [
       "parent.postMessage({\"jupyterEvent\": \"custom.exercise_interaction\", \"data\": {\"interactionType\": 3, \"questionType\": 4, \"questionId\": \"2_RoundNdigitsProblem\", \"learnToolsVersion\": \"0.3.4\", \"valueTowardsCompletion\": 0.0, \"failureMessage\": \"\", \"exceptionClass\": \"\", \"trace\": \"\", \"outcomeType\": 4}}, \"*\")"
      ],
      "text/plain": [
       "<IPython.core.display.Javascript object>"
      ]
     },
     "metadata": {},
     "output_type": "display_data"
    },
    {
     "data": {
      "text/markdown": [
       "<span style=\"color:#33cc99\">Solution:</span> As you've seen, `ndigits=-1` rounds to the nearest 10, `ndigits=-2` rounds to the nearest 100 and so on. Where might this be useful? Suppose we're dealing with large numbers:\n",
       "\n",
       "> The area of Finland is 338,424 km²  \n",
       "> The area of Greenland is 2,166,086 km²\n",
       "\n",
       "We probably don't care whether it's really 338,424, or 338,425, or 338,177. All those digits of accuracy are just distracting. We can chop them off by calling `round()` with `ndigits=-3`:\n",
       "\n",
       "> The area of Finland is 338,000 km²  \n",
       "> The area of Greenland is 2,166,000 km²\n",
       "\n",
       "(We'll talk about how we would get the commas later when we talk about string formatting :))\n"
      ],
      "text/plain": [
       "Solution: As you've seen, `ndigits=-1` rounds to the nearest 10, `ndigits=-2` rounds to the nearest 100 and so on. Where might this be useful? Suppose we're dealing with large numbers:\n",
       "\n",
       "> The area of Finland is 338,424 km²  \n",
       "> The area of Greenland is 2,166,086 km²\n",
       "\n",
       "We probably don't care whether it's really 338,424, or 338,425, or 338,177. All those digits of accuracy are just distracting. We can chop them off by calling `round()` with `ndigits=-3`:\n",
       "\n",
       "> The area of Finland is 338,000 km²  \n",
       "> The area of Greenland is 2,166,000 km²\n",
       "\n",
       "(We'll talk about how we would get the commas later when we talk about string formatting :))"
      ]
     },
     "metadata": {},
     "output_type": "display_data"
    }
   ],
   "source": [
    "# Check your answer (Run this code cell to receive credit!)\n",
    "q2.solution()"
   ]
  },
  {
   "cell_type": "markdown",
   "id": "0446dbe1",
   "metadata": {
    "papermill": {
     "duration": 0.020348,
     "end_time": "2022-02-12T16:09:14.283829",
     "exception": false,
     "start_time": "2022-02-12T16:09:14.263481",
     "status": "completed"
    },
    "tags": []
   },
   "source": [
    "# 3.\n",
    "\n",
    "In the previous exercise, the candy-sharing friends Alice, Bob and Carol tried to split candies evenly. For the sake of their friendship, any candies left over would be smashed. For example, if they collectively bring home 91 candies, they'll take 30 each and smash 1.\n",
    "\n",
    "Below is a simple function that will calculate the number of candies to smash for *any* number of total candies.\n",
    "\n",
    "Modify it so that it optionally takes a second argument representing the number of friends the candies are being split between. If no second argument is provided, it should assume 3 friends, as before.\n",
    "\n",
    "Update the docstring to reflect this new behaviour."
   ]
  },
  {
   "cell_type": "code",
   "execution_count": 6,
   "id": "5670ad41",
   "metadata": {
    "execution": {
     "iopub.execute_input": "2022-02-12T16:09:14.330616Z",
     "iopub.status.busy": "2022-02-12T16:09:14.329942Z",
     "iopub.status.idle": "2022-02-12T16:09:14.337608Z",
     "shell.execute_reply": "2022-02-12T16:09:14.338229Z",
     "shell.execute_reply.started": "2022-02-12T14:49:57.839729Z"
    },
    "papermill": {
     "duration": 0.033957,
     "end_time": "2022-02-12T16:09:14.338392",
     "exception": false,
     "start_time": "2022-02-12T16:09:14.304435",
     "status": "completed"
    },
    "tags": []
   },
   "outputs": [
    {
     "data": {
      "application/javascript": [
       "parent.postMessage({\"jupyterEvent\": \"custom.exercise_interaction\", \"data\": {\"outcomeType\": 1, \"valueTowardsCompletion\": 0.16666666666666666, \"interactionType\": 1, \"questionType\": 2, \"questionId\": \"3_CandySmashingFunctionProblem\", \"learnToolsVersion\": \"0.3.4\", \"failureMessage\": \"\", \"exceptionClass\": \"\", \"trace\": \"\"}}, \"*\")"
      ],
      "text/plain": [
       "<IPython.core.display.Javascript object>"
      ]
     },
     "metadata": {},
     "output_type": "display_data"
    },
    {
     "data": {
      "text/markdown": [
       "<span style=\"color:#33cc33\">Correct</span>"
      ],
      "text/plain": [
       "Correct"
      ]
     },
     "metadata": {},
     "output_type": "display_data"
    }
   ],
   "source": [
    "def to_smash(total_candies, nPeople=3):\n",
    "    \"\"\"Return the number of leftover candies that must be smashed after distributing\n",
    "    the given number of candies evenly between 3 friends.\n",
    "    \n",
    "    >>> to_smash(91)\n",
    "    1\n",
    "    \"\"\"\n",
    "    return total_candies % nPeople\n",
    "\n",
    "# Check your answer\n",
    "q3.check()"
   ]
  },
  {
   "cell_type": "code",
   "execution_count": 7,
   "id": "bb090df5",
   "metadata": {
    "execution": {
     "iopub.execute_input": "2022-02-12T16:09:14.386070Z",
     "iopub.status.busy": "2022-02-12T16:09:14.385341Z",
     "iopub.status.idle": "2022-02-12T16:09:14.388759Z",
     "shell.execute_reply": "2022-02-12T16:09:14.389292Z",
     "shell.execute_reply.started": "2022-02-12T14:50:00.135144Z"
    },
    "papermill": {
     "duration": 0.028888,
     "end_time": "2022-02-12T16:09:14.389457",
     "exception": false,
     "start_time": "2022-02-12T16:09:14.360569",
     "status": "completed"
    },
    "tags": []
   },
   "outputs": [],
   "source": [
    "#q3.hint()"
   ]
  },
  {
   "cell_type": "code",
   "execution_count": 8,
   "id": "3ca901d0",
   "metadata": {
    "execution": {
     "iopub.execute_input": "2022-02-12T16:09:14.437267Z",
     "iopub.status.busy": "2022-02-12T16:09:14.436532Z",
     "iopub.status.idle": "2022-02-12T16:09:14.439503Z",
     "shell.execute_reply": "2022-02-12T16:09:14.440174Z",
     "shell.execute_reply.started": "2022-02-12T14:50:02.591749Z"
    },
    "papermill": {
     "duration": 0.028726,
     "end_time": "2022-02-12T16:09:14.440350",
     "exception": false,
     "start_time": "2022-02-12T16:09:14.411624",
     "status": "completed"
    },
    "tags": []
   },
   "outputs": [],
   "source": [
    "#q3.solution()"
   ]
  },
  {
   "cell_type": "markdown",
   "id": "11b7c05e",
   "metadata": {
    "papermill": {
     "duration": 0.022117,
     "end_time": "2022-02-12T16:09:14.484652",
     "exception": false,
     "start_time": "2022-02-12T16:09:14.462535",
     "status": "completed"
    },
    "tags": []
   },
   "source": [
    "# 4. (Optional)\n",
    "\n",
    "It may not be fun, but reading and understanding error messages will be an important part of your Python career.\n",
    "\n",
    "Each code cell below contains some commented buggy code. For each cell...\n",
    "\n",
    "1. Read the code and predict what you think will happen when it's run.\n",
    "2. Then uncomment the code and run it to see what happens. (**Tip**: In the kernel editor, you can highlight several lines and press `ctrl`+`/` to toggle commenting.)\n",
    "3. Fix the code (so that it accomplishes its intended purpose without throwing an exception)\n",
    "\n",
    "<!-- TODO: should this be autochecked? Delta is probably pretty small. -->"
   ]
  },
  {
   "cell_type": "code",
   "execution_count": 9,
   "id": "2a8fc098",
   "metadata": {
    "execution": {
     "iopub.execute_input": "2022-02-12T16:09:14.532498Z",
     "iopub.status.busy": "2022-02-12T16:09:14.531768Z",
     "iopub.status.idle": "2022-02-12T16:09:14.536380Z",
     "shell.execute_reply": "2022-02-12T16:09:14.537007Z",
     "shell.execute_reply.started": "2022-02-12T14:51:23.535942Z"
    },
    "papermill": {
     "duration": 0.030402,
     "end_time": "2022-02-12T16:09:14.537167",
     "exception": false,
     "start_time": "2022-02-12T16:09:14.506765",
     "status": "completed"
    },
    "tags": []
   },
   "outputs": [
    {
     "data": {
      "text/plain": [
       "10.0"
      ]
     },
     "execution_count": 9,
     "metadata": {},
     "output_type": "execute_result"
    }
   ],
   "source": [
    "round_to_two_places(9.9999)"
   ]
  },
  {
   "cell_type": "code",
   "execution_count": 10,
   "id": "f24eb74a",
   "metadata": {
    "execution": {
     "iopub.execute_input": "2022-02-12T16:09:14.585786Z",
     "iopub.status.busy": "2022-02-12T16:09:14.585061Z",
     "iopub.status.idle": "2022-02-12T16:09:14.588821Z",
     "shell.execute_reply": "2022-02-12T16:09:14.589411Z",
     "shell.execute_reply.started": "2022-02-12T14:51:58.968083Z"
    },
    "papermill": {
     "duration": 0.029986,
     "end_time": "2022-02-12T16:09:14.589589",
     "exception": false,
     "start_time": "2022-02-12T16:09:14.559603",
     "status": "completed"
    },
    "tags": []
   },
   "outputs": [],
   "source": [
    "x = -10\n",
    "y = 5\n",
    "# Which of the two variables above has the smallest absolute value?\n",
    "smallest_abs = min(abs(x), y)"
   ]
  },
  {
   "cell_type": "code",
   "execution_count": 11,
   "id": "20d33ad5",
   "metadata": {
    "execution": {
     "iopub.execute_input": "2022-02-12T16:09:14.637597Z",
     "iopub.status.busy": "2022-02-12T16:09:14.636941Z",
     "iopub.status.idle": "2022-02-12T16:09:14.641498Z",
     "shell.execute_reply": "2022-02-12T16:09:14.642006Z",
     "shell.execute_reply.started": "2022-02-12T14:52:31.605635Z"
    },
    "papermill": {
     "duration": 0.030336,
     "end_time": "2022-02-12T16:09:14.642185",
     "exception": false,
     "start_time": "2022-02-12T16:09:14.611849",
     "status": "completed"
    },
    "tags": []
   },
   "outputs": [
    {
     "name": "stdout",
     "output_type": "stream",
     "text": [
      "5\n"
     ]
    }
   ],
   "source": [
    "def f(x):\n",
    "    y = abs(x)\n",
    "    return y\n",
    "\n",
    "print(f(5))"
   ]
  },
  {
   "cell_type": "markdown",
   "id": "9284348b",
   "metadata": {
    "papermill": {
     "duration": 0.022483,
     "end_time": "2022-02-12T16:09:14.687086",
     "exception": false,
     "start_time": "2022-02-12T16:09:14.664603",
     "status": "completed"
    },
    "tags": []
   },
   "source": [
    "# Keep Going\n",
    "\n",
    "Nice job with the code. Next up, you'll learn about *conditionals*, which you'll need to **[write interesting programs](https://www.kaggle.com/colinmorris/booleans-and-conditionals)**. "
   ]
  },
  {
   "cell_type": "markdown",
   "id": "2d300b45",
   "metadata": {
    "papermill": {
     "duration": 0.022499,
     "end_time": "2022-02-12T16:09:14.733089",
     "exception": false,
     "start_time": "2022-02-12T16:09:14.710590",
     "status": "completed"
    },
    "tags": []
   },
   "source": [
    "---\n",
    "\n",
    "\n",
    "\n",
    "\n",
    "*Have questions or comments? Visit the [course discussion forum](https://www.kaggle.com/learn/python/discussion) to chat with other learners.*"
   ]
  }
 ],
 "metadata": {
  "kernelspec": {
   "display_name": "Python 3",
   "language": "python",
   "name": "python3"
  },
  "language_info": {
   "codemirror_mode": {
    "name": "ipython",
    "version": 3
   },
   "file_extension": ".py",
   "mimetype": "text/x-python",
   "name": "python",
   "nbconvert_exporter": "python",
   "pygments_lexer": "ipython3",
   "version": "3.7.12"
  },
  "papermill": {
   "default_parameters": {},
   "duration": 12.274173,
   "end_time": "2022-02-12T16:09:15.568309",
   "environment_variables": {},
   "exception": null,
   "input_path": "__notebook__.ipynb",
   "output_path": "__notebook__.ipynb",
   "parameters": {},
   "start_time": "2022-02-12T16:09:03.294136",
   "version": "2.3.3"
  }
 },
 "nbformat": 4,
 "nbformat_minor": 5
}
