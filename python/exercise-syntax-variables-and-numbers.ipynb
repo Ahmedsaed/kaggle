{
 "cells": [
  {
   "cell_type": "markdown",
   "id": "4cae6087",
   "metadata": {
    "papermill": {
     "duration": 0.026847,
     "end_time": "2022-02-12T16:05:17.497727",
     "exception": false,
     "start_time": "2022-02-12T16:05:17.470880",
     "status": "completed"
    },
    "tags": []
   },
   "source": [
    "**This notebook is an exercise in the [Python](https://www.kaggle.com/learn/python) course.  You can reference the tutorial at [this link](https://www.kaggle.com/colinmorris/hello-python).**\n",
    "\n",
    "---\n"
   ]
  },
  {
   "cell_type": "markdown",
   "id": "7f25801c",
   "metadata": {
    "papermill": {
     "duration": 0.02525,
     "end_time": "2022-02-12T16:05:17.549222",
     "exception": false,
     "start_time": "2022-02-12T16:05:17.523972",
     "status": "completed"
    },
    "tags": []
   },
   "source": [
    "Welcome to your first set of Python coding problems.  If this is your first time using Kaggle Notebooks, welcome! \n",
    "\n",
    "Notebooks are composed of blocks (called \"cells\") of text and code. Each of these is editable, though you'll mainly be editing the code cells to answer some questions.\n",
    "\n",
    "To get started, try running the code cell below (by pressing the ► button, or clicking on the cell and pressing ctrl+enter on your keyboard)."
   ]
  },
  {
   "cell_type": "code",
   "execution_count": 1,
   "id": "cfc3562a",
   "metadata": {
    "execution": {
     "iopub.execute_input": "2022-02-12T16:05:17.604755Z",
     "iopub.status.busy": "2022-02-12T16:05:17.603499Z",
     "iopub.status.idle": "2022-02-12T16:05:17.614618Z",
     "shell.execute_reply": "2022-02-12T16:05:17.613997Z",
     "shell.execute_reply.started": "2022-02-12T16:03:48.329022Z"
    },
    "papermill": {
     "duration": 0.040013,
     "end_time": "2022-02-12T16:05:17.614806",
     "exception": false,
     "start_time": "2022-02-12T16:05:17.574793",
     "status": "completed"
    },
    "tags": []
   },
   "outputs": [
    {
     "name": "stdout",
     "output_type": "stream",
     "text": [
      "You've successfully run some Python code\n",
      "Congratulations!\n"
     ]
    }
   ],
   "source": [
    "print(\"You've successfully run some Python code\")\n",
    "print(\"Congratulations!\")"
   ]
  },
  {
   "cell_type": "markdown",
   "id": "3c705e95",
   "metadata": {
    "papermill": {
     "duration": 0.026569,
     "end_time": "2022-02-12T16:05:17.668426",
     "exception": false,
     "start_time": "2022-02-12T16:05:17.641857",
     "status": "completed"
    },
    "tags": []
   },
   "source": [
    "Try adding another line of code in the cell above and re-running it. \n",
    "\n",
    "Now let's get a little fancier:  Add a new code cell by clicking on an existing code cell, hitting the escape key, and then hitting the `a` or `b` key.  The `a` key will add a cell above the current cell, and `b` adds a cell below.\n",
    "\n",
    "Great! Now you know how to use Notebooks.\n",
    "\n",
    "Each hands-on exercise starts by setting up our feedback and code checking mechanism. Run the code cell below to do that. Then you'll be ready to move on to question 0."
   ]
  },
  {
   "cell_type": "code",
   "execution_count": 2,
   "id": "40a266a4",
   "metadata": {
    "_kg_hide-input": true,
    "_kg_hide-output": true,
    "execution": {
     "iopub.execute_input": "2022-02-12T16:05:17.726854Z",
     "iopub.status.busy": "2022-02-12T16:05:17.726119Z",
     "iopub.status.idle": "2022-02-12T16:05:17.761463Z",
     "shell.execute_reply": "2022-02-12T16:05:17.762419Z",
     "shell.execute_reply.started": "2022-02-12T16:03:48.604120Z"
    },
    "papermill": {
     "duration": 0.066196,
     "end_time": "2022-02-12T16:05:17.762645",
     "exception": false,
     "start_time": "2022-02-12T16:05:17.696449",
     "status": "completed"
    },
    "tags": []
   },
   "outputs": [
    {
     "name": "stdout",
     "output_type": "stream",
     "text": [
      "Setup complete! You're ready to start question 0.\n"
     ]
    }
   ],
   "source": [
    "from learntools.core import binder; binder.bind(globals())\n",
    "from learntools.python.ex1 import *\n",
    "print(\"Setup complete! You're ready to start question 0.\")"
   ]
  },
  {
   "cell_type": "markdown",
   "id": "e7df619d",
   "metadata": {
    "papermill": {
     "duration": 0.026478,
     "end_time": "2022-02-12T16:05:17.818875",
     "exception": false,
     "start_time": "2022-02-12T16:05:17.792397",
     "status": "completed"
    },
    "tags": []
   },
   "source": [
    "# 0.\n",
    "\n",
    "*This is a silly question intended as an introduction to the format we use for hands-on exercises throughout all Kaggle courses.*\n",
    "\n",
    "**What is your favorite color? **\n",
    "\n",
    "To complete this question, create a variable called `color` in the cell below with an appropriate value. The function call `q0.check()` (which we've already provided in the cell below) will check your answer."
   ]
  },
  {
   "cell_type": "code",
   "execution_count": 3,
   "id": "c7553703",
   "metadata": {
    "execution": {
     "iopub.execute_input": "2022-02-12T16:05:17.879543Z",
     "iopub.status.busy": "2022-02-12T16:05:17.878854Z",
     "iopub.status.idle": "2022-02-12T16:05:17.883467Z",
     "shell.execute_reply": "2022-02-12T16:05:17.883967Z",
     "shell.execute_reply.started": "2022-02-12T16:03:48.879041Z"
    },
    "papermill": {
     "duration": 0.038938,
     "end_time": "2022-02-12T16:05:17.884133",
     "exception": false,
     "start_time": "2022-02-12T16:05:17.845195",
     "status": "completed"
    },
    "tags": []
   },
   "outputs": [
    {
     "data": {
      "application/javascript": [
       "parent.postMessage({\"jupyterEvent\": \"custom.exercise_interaction\", \"data\": {\"outcomeType\": 1, \"valueTowardsCompletion\": 0.25, \"interactionType\": 1, \"questionType\": 2, \"questionId\": \"0_ExerciseFormatTutorial\", \"learnToolsVersion\": \"0.3.4\", \"failureMessage\": \"\", \"exceptionClass\": \"\", \"trace\": \"\"}}, \"*\")"
      ],
      "text/plain": [
       "<IPython.core.display.Javascript object>"
      ]
     },
     "metadata": {},
     "output_type": "display_data"
    },
    {
     "data": {
      "text/markdown": [
       "<span style=\"color:#33cc33\">Correct:</span> What?! You got it right without needing a hint or anything? Drats. Well hey, you should still continue to the next step to get some practice asking for a hint and checking solutions. (Even though you obviously don't need any help here.)"
      ],
      "text/plain": [
       "Correct: What?! You got it right without needing a hint or anything? Drats. Well hey, you should still continue to the next step to get some practice asking for a hint and checking solutions. (Even though you obviously don't need any help here.)"
      ]
     },
     "metadata": {},
     "output_type": "display_data"
    }
   ],
   "source": [
    "# create a variable called color with an appropriate value on the line below\n",
    "# (Remember, strings in Python must be enclosed in 'single' or \"double\" quotes)\n",
    "____\n",
    "color = 'blue'\n",
    "\n",
    "# Check your answer\n",
    "q0.check()"
   ]
  },
  {
   "cell_type": "markdown",
   "id": "72d6c453",
   "metadata": {
    "papermill": {
     "duration": 0.027377,
     "end_time": "2022-02-12T16:05:17.939224",
     "exception": false,
     "start_time": "2022-02-12T16:05:17.911847",
     "status": "completed"
    },
    "tags": []
   },
   "source": [
    "Didn't get the right answer? How do you not even know your own favorite color?!\n",
    "\n",
    "Delete the `#` in the line below to make one of the lines run. You can choose between getting a hint or the full answer by choosing which line to remove the `#` from. \n",
    "\n",
    "Removing the `#` is called uncommenting, because it changes that line from a \"comment\" which Python doesn't run to code, which Python does run."
   ]
  },
  {
   "cell_type": "code",
   "execution_count": 4,
   "id": "9ed79c7c",
   "metadata": {
    "execution": {
     "iopub.execute_input": "2022-02-12T16:05:18.000800Z",
     "iopub.status.busy": "2022-02-12T16:05:18.000004Z",
     "iopub.status.idle": "2022-02-12T16:05:18.003141Z",
     "shell.execute_reply": "2022-02-12T16:05:18.003719Z",
     "shell.execute_reply.started": "2022-02-12T16:03:49.166348Z"
    },
    "papermill": {
     "duration": 0.035217,
     "end_time": "2022-02-12T16:05:18.003895",
     "exception": false,
     "start_time": "2022-02-12T16:05:17.968678",
     "status": "completed"
    },
    "tags": []
   },
   "outputs": [],
   "source": [
    "#q0.hint()\n",
    "#q0.solution()"
   ]
  },
  {
   "cell_type": "markdown",
   "id": "70a51a52",
   "metadata": {
    "papermill": {
     "duration": 0.027641,
     "end_time": "2022-02-12T16:05:18.059881",
     "exception": false,
     "start_time": "2022-02-12T16:05:18.032240",
     "status": "completed"
    },
    "tags": []
   },
   "source": [
    "The upcoming questions work the same way. The only thing that will change are the question numbers. For the next question, you'll call `q1.check()`, `q1.hint()`, `q1.solution()`, for question 2, you'll call `q2.check()`, and so on."
   ]
  },
  {
   "cell_type": "markdown",
   "id": "a8db126d",
   "metadata": {
    "papermill": {
     "duration": 0.027571,
     "end_time": "2022-02-12T16:05:18.115288",
     "exception": false,
     "start_time": "2022-02-12T16:05:18.087717",
     "status": "completed"
    },
    "tags": []
   },
   "source": [
    "<hr/>\n",
    "\n",
    "# 1.\n",
    "\n",
    "Complete the code below. In case it's helpful, here is the table of available arithmetic operations:\n",
    "\n",
    "\n",
    "\n",
    "| Operator     | Name           | Description                                            |\n",
    "|--------------|----------------|--------------------------------------------------------|\n",
    "| ``a + b``    | Addition       | Sum of ``a`` and ``b``                                 |\n",
    "| ``a - b``    | Subtraction    | Difference of ``a`` and ``b``                          |\n",
    "| ``a * b``    | Multiplication | Product of ``a`` and ``b``                             |\n",
    "| ``a / b``    | True division  | Quotient of ``a`` and ``b``                            |\n",
    "| ``a // b``   | Floor division | Quotient of ``a`` and ``b``, removing fractional parts |\n",
    "| ``a % b``    | Modulus        | Integer remainder after division of ``a`` by ``b``     |\n",
    "| ``a ** b``   | Exponentiation | ``a`` raised to the power of ``b``                     |\n",
    "| ``-a``       | Negation       | The negative of ``a``                                  |\n",
    "\n",
    "<span style=\"display:none\"></span>\n"
   ]
  },
  {
   "cell_type": "code",
   "execution_count": 5,
   "id": "8deb0822",
   "metadata": {
    "execution": {
     "iopub.execute_input": "2022-02-12T16:05:18.174525Z",
     "iopub.status.busy": "2022-02-12T16:05:18.173859Z",
     "iopub.status.idle": "2022-02-12T16:05:18.181065Z",
     "shell.execute_reply": "2022-02-12T16:05:18.181560Z",
     "shell.execute_reply.started": "2022-02-12T16:03:49.606021Z"
    },
    "papermill": {
     "duration": 0.038596,
     "end_time": "2022-02-12T16:05:18.181750",
     "exception": false,
     "start_time": "2022-02-12T16:05:18.143154",
     "status": "completed"
    },
    "tags": []
   },
   "outputs": [
    {
     "data": {
      "application/javascript": [
       "parent.postMessage({\"jupyterEvent\": \"custom.exercise_interaction\", \"data\": {\"outcomeType\": 1, \"valueTowardsCompletion\": 0.25, \"interactionType\": 1, \"questionType\": 1, \"questionId\": \"1_CircleArea\", \"learnToolsVersion\": \"0.3.4\", \"failureMessage\": \"\", \"exceptionClass\": \"\", \"trace\": \"\"}}, \"*\")"
      ],
      "text/plain": [
       "<IPython.core.display.Javascript object>"
      ]
     },
     "metadata": {},
     "output_type": "display_data"
    },
    {
     "data": {
      "text/markdown": [
       "<span style=\"color:#33cc33\">Correct</span>"
      ],
      "text/plain": [
       "Correct"
      ]
     },
     "metadata": {},
     "output_type": "display_data"
    }
   ],
   "source": [
    "pi = 3.14159 # approximate\n",
    "diameter = 3\n",
    "\n",
    "# Create a variable called 'radius' equal to half the diameter\n",
    "____\n",
    "radius = diameter/2\n",
    "# Create a variable called 'area', using the formula for the area of a circle: pi times the radius squared\n",
    "area = pi * (radius**2)\n",
    "____\n",
    "\n",
    "# Check your answer\n",
    "q1.check()"
   ]
  },
  {
   "cell_type": "code",
   "execution_count": 6,
   "id": "9a5b9702",
   "metadata": {
    "execution": {
     "iopub.execute_input": "2022-02-12T16:05:18.245522Z",
     "iopub.status.busy": "2022-02-12T16:05:18.244551Z",
     "iopub.status.idle": "2022-02-12T16:05:18.248007Z",
     "shell.execute_reply": "2022-02-12T16:05:18.247487Z",
     "shell.execute_reply.started": "2022-02-12T16:03:49.765905Z"
    },
    "papermill": {
     "duration": 0.037396,
     "end_time": "2022-02-12T16:05:18.248153",
     "exception": false,
     "start_time": "2022-02-12T16:05:18.210757",
     "status": "completed"
    },
    "tags": []
   },
   "outputs": [],
   "source": [
    "# Uncomment and run the lines below if you need help.\n",
    "#q1.hint()\n",
    "#q1.solution()"
   ]
  },
  {
   "cell_type": "markdown",
   "id": "fa84d2ee",
   "metadata": {
    "papermill": {
     "duration": 0.028558,
     "end_time": "2022-02-12T16:05:18.306184",
     "exception": false,
     "start_time": "2022-02-12T16:05:18.277626",
     "status": "completed"
    },
    "tags": []
   },
   "source": [
    "<hr/>\n",
    "\n",
    "# 2.\n",
    "\n",
    "Add code to the following cell to swap variables `a` and `b` (so that `a` refers to the object previously referred to by `b` and vice versa)."
   ]
  },
  {
   "cell_type": "code",
   "execution_count": 7,
   "id": "5e9b1aa1",
   "metadata": {
    "execution": {
     "iopub.execute_input": "2022-02-12T16:05:18.370937Z",
     "iopub.status.busy": "2022-02-12T16:05:18.370163Z",
     "iopub.status.idle": "2022-02-12T16:05:18.374254Z",
     "shell.execute_reply": "2022-02-12T16:05:18.374738Z",
     "shell.execute_reply.started": "2022-02-12T16:03:50.077416Z"
    },
    "papermill": {
     "duration": 0.039742,
     "end_time": "2022-02-12T16:05:18.374926",
     "exception": false,
     "start_time": "2022-02-12T16:05:18.335184",
     "status": "completed"
    },
    "tags": []
   },
   "outputs": [
    {
     "data": {
      "application/javascript": [
       "parent.postMessage({\"jupyterEvent\": \"custom.exercise_interaction\", \"data\": {\"outcomeType\": 1, \"valueTowardsCompletion\": 0.25, \"interactionType\": 1, \"questionType\": 2, \"questionId\": \"2_VariableSwap\", \"learnToolsVersion\": \"0.3.4\", \"failureMessage\": \"\", \"exceptionClass\": \"\", \"trace\": \"\"}}, \"*\")"
      ],
      "text/plain": [
       "<IPython.core.display.Javascript object>"
      ]
     },
     "metadata": {},
     "output_type": "display_data"
    },
    {
     "data": {
      "text/markdown": [
       "<span style=\"color:#33cc33\">Correct:</span> \n",
       "\n",
       "The most straightforward solution is to use a third variable to temporarily store one of the old values. e.g.:\n",
       "\n",
       "    tmp = a\n",
       "    a = b\n",
       "    b = tmp\n",
       "\n",
       "If you've read lots of Python code, you might have seen the following trick to swap two variables in one line:\n",
       "\n",
       "    a, b = b, a\n",
       "\n",
       "We'll demystify this bit of Python magic later when we talk about *tuples*."
      ],
      "text/plain": [
       "Correct: \n",
       "\n",
       "The most straightforward solution is to use a third variable to temporarily store one of the old values. e.g.:\n",
       "\n",
       "    tmp = a\n",
       "    a = b\n",
       "    b = tmp\n",
       "\n",
       "If you've read lots of Python code, you might have seen the following trick to swap two variables in one line:\n",
       "\n",
       "    a, b = b, a\n",
       "\n",
       "We'll demystify this bit of Python magic later when we talk about *tuples*."
      ]
     },
     "metadata": {},
     "output_type": "display_data"
    }
   ],
   "source": [
    "########### Setup code - don't touch this part ######################\n",
    "# If you're curious, these are examples of lists. We'll talk about \n",
    "# them in depth a few lessons from now. For now, just know that they're\n",
    "# yet another type of Python object, like int or float.\n",
    "a = [1, 2, 3]\n",
    "b = [3, 2, 1]\n",
    "q2.store_original_ids()\n",
    "######################################################################\n",
    "\n",
    "# Your code goes here. Swap the values to which a and b refer.\n",
    "# If you get stuck, you can always uncomment one or both of the lines in\n",
    "# the next cell for a hint, or to peek at the solution.\n",
    "\n",
    "tmp = a\n",
    "a = b\n",
    "b = tmp\n",
    "\n",
    "######################################################################\n",
    "\n",
    "# Check your answer\n",
    "q2.check()"
   ]
  },
  {
   "cell_type": "code",
   "execution_count": 8,
   "id": "9c85d35b",
   "metadata": {
    "execution": {
     "iopub.execute_input": "2022-02-12T16:05:18.441237Z",
     "iopub.status.busy": "2022-02-12T16:05:18.440346Z",
     "iopub.status.idle": "2022-02-12T16:05:18.442366Z",
     "shell.execute_reply": "2022-02-12T16:05:18.443000Z",
     "shell.execute_reply.started": "2022-02-12T16:03:50.237848Z"
    },
    "papermill": {
     "duration": 0.037279,
     "end_time": "2022-02-12T16:05:18.443174",
     "exception": false,
     "start_time": "2022-02-12T16:05:18.405895",
     "status": "completed"
    },
    "tags": []
   },
   "outputs": [],
   "source": [
    "#q2.hint()"
   ]
  },
  {
   "cell_type": "code",
   "execution_count": 9,
   "id": "c57f44b6",
   "metadata": {
    "execution": {
     "iopub.execute_input": "2022-02-12T16:05:18.507189Z",
     "iopub.status.busy": "2022-02-12T16:05:18.506406Z",
     "iopub.status.idle": "2022-02-12T16:05:18.509862Z",
     "shell.execute_reply": "2022-02-12T16:05:18.510337Z",
     "shell.execute_reply.started": "2022-02-12T16:03:50.866870Z"
    },
    "papermill": {
     "duration": 0.03728,
     "end_time": "2022-02-12T16:05:18.510511",
     "exception": false,
     "start_time": "2022-02-12T16:05:18.473231",
     "status": "completed"
    },
    "tags": []
   },
   "outputs": [],
   "source": [
    "#q2.solution()"
   ]
  },
  {
   "cell_type": "markdown",
   "id": "76f6b1ca",
   "metadata": {
    "papermill": {
     "duration": 0.030923,
     "end_time": "2022-02-12T16:05:18.571975",
     "exception": false,
     "start_time": "2022-02-12T16:05:18.541052",
     "status": "completed"
    },
    "tags": []
   },
   "source": [
    "<hr/>\n",
    "\n",
    "# 3a.\n",
    "\n",
    "Add parentheses to the following expression so that it evaluates to 1."
   ]
  },
  {
   "cell_type": "code",
   "execution_count": 10,
   "id": "11813339",
   "metadata": {
    "execution": {
     "iopub.execute_input": "2022-02-12T16:05:18.639413Z",
     "iopub.status.busy": "2022-02-12T16:05:18.638341Z",
     "iopub.status.idle": "2022-02-12T16:05:18.642677Z",
     "shell.execute_reply": "2022-02-12T16:05:18.642068Z",
     "shell.execute_reply.started": "2022-02-12T16:03:51.230336Z"
    },
    "papermill": {
     "duration": 0.040679,
     "end_time": "2022-02-12T16:05:18.642856",
     "exception": false,
     "start_time": "2022-02-12T16:05:18.602177",
     "status": "completed"
    },
    "tags": []
   },
   "outputs": [
    {
     "data": {
      "text/plain": [
       "1"
      ]
     },
     "execution_count": 10,
     "metadata": {},
     "output_type": "execute_result"
    }
   ],
   "source": [
    "(5 - 3) // 2"
   ]
  },
  {
   "cell_type": "code",
   "execution_count": 11,
   "id": "b0364b90",
   "metadata": {
    "execution": {
     "iopub.execute_input": "2022-02-12T16:05:18.709924Z",
     "iopub.status.busy": "2022-02-12T16:05:18.709131Z",
     "iopub.status.idle": "2022-02-12T16:05:18.711333Z",
     "shell.execute_reply": "2022-02-12T16:05:18.711841Z",
     "shell.execute_reply.started": "2022-02-12T16:03:51.400033Z"
    },
    "papermill": {
     "duration": 0.03847,
     "end_time": "2022-02-12T16:05:18.712022",
     "exception": false,
     "start_time": "2022-02-12T16:05:18.673552",
     "status": "completed"
    },
    "tags": []
   },
   "outputs": [],
   "source": [
    "#q3.a.hint()"
   ]
  },
  {
   "cell_type": "code",
   "execution_count": 12,
   "id": "915dbfa9",
   "metadata": {
    "execution": {
     "iopub.execute_input": "2022-02-12T16:05:18.778899Z",
     "iopub.status.busy": "2022-02-12T16:05:18.778068Z",
     "iopub.status.idle": "2022-02-12T16:05:18.783424Z",
     "shell.execute_reply": "2022-02-12T16:05:18.782933Z",
     "shell.execute_reply.started": "2022-02-12T16:03:52.889400Z"
    },
    "papermill": {
     "duration": 0.041015,
     "end_time": "2022-02-12T16:05:18.783569",
     "exception": false,
     "start_time": "2022-02-12T16:05:18.742554",
     "status": "completed"
    },
    "tags": []
   },
   "outputs": [
    {
     "data": {
      "application/javascript": [
       "parent.postMessage({\"jupyterEvent\": \"custom.exercise_interaction\", \"data\": {\"interactionType\": 3, \"questionType\": 4, \"questionId\": \"3.1_ArithmeticParensEasy\", \"learnToolsVersion\": \"0.3.4\", \"valueTowardsCompletion\": 0.0, \"failureMessage\": \"\", \"exceptionClass\": \"\", \"trace\": \"\", \"outcomeType\": 4}}, \"*\")"
      ],
      "text/plain": [
       "<IPython.core.display.Javascript object>"
      ]
     },
     "metadata": {},
     "output_type": "display_data"
    },
    {
     "data": {
      "text/markdown": [
       "<span style=\"color:#33cc99\">Solution:</span> \n",
       "```python\n",
       "(5 - 3) // 2\n",
       "```"
      ],
      "text/plain": [
       "Solution: \n",
       "```python\n",
       "(5 - 3) // 2\n",
       "```"
      ]
     },
     "metadata": {},
     "output_type": "display_data"
    }
   ],
   "source": [
    "# Check your answer (Run this code cell to receive credit!)\n",
    "q3.a.solution()"
   ]
  },
  {
   "cell_type": "markdown",
   "id": "0f7a25d5",
   "metadata": {
    "papermill": {
     "duration": 0.031329,
     "end_time": "2022-02-12T16:05:18.846733",
     "exception": false,
     "start_time": "2022-02-12T16:05:18.815404",
     "status": "completed"
    },
    "tags": []
   },
   "source": [
    "# 3b.  <span title=\"A bit spicy\" style=\"color: darkgreen \">🌶️</span>\n",
    "\n",
    "<small>Questions, like this one, marked a spicy pepper are a bit harder.</small>\n",
    "\n",
    "Add parentheses to the following expression so that it evaluates to 0."
   ]
  },
  {
   "cell_type": "code",
   "execution_count": 13,
   "id": "901c6b6e",
   "metadata": {
    "execution": {
     "iopub.execute_input": "2022-02-12T16:05:18.916734Z",
     "iopub.status.busy": "2022-02-12T16:05:18.915726Z",
     "iopub.status.idle": "2022-02-12T16:05:18.919916Z",
     "shell.execute_reply": "2022-02-12T16:05:18.919233Z",
     "shell.execute_reply.started": "2022-02-12T16:03:53.779687Z"
    },
    "papermill": {
     "duration": 0.041603,
     "end_time": "2022-02-12T16:05:18.920066",
     "exception": false,
     "start_time": "2022-02-12T16:05:18.878463",
     "status": "completed"
    },
    "tags": []
   },
   "outputs": [
    {
     "data": {
      "text/plain": [
       "0"
      ]
     },
     "execution_count": 13,
     "metadata": {},
     "output_type": "execute_result"
    }
   ],
   "source": [
    "8 - (3 * 2) - (1 + 1)"
   ]
  },
  {
   "cell_type": "code",
   "execution_count": 14,
   "id": "9b6cbffd",
   "metadata": {
    "execution": {
     "iopub.execute_input": "2022-02-12T16:05:18.991562Z",
     "iopub.status.busy": "2022-02-12T16:05:18.990605Z",
     "iopub.status.idle": "2022-02-12T16:05:18.993392Z",
     "shell.execute_reply": "2022-02-12T16:05:18.992846Z",
     "shell.execute_reply.started": "2022-02-12T16:03:53.937825Z"
    },
    "papermill": {
     "duration": 0.040104,
     "end_time": "2022-02-12T16:05:18.993538",
     "exception": false,
     "start_time": "2022-02-12T16:05:18.953434",
     "status": "completed"
    },
    "tags": []
   },
   "outputs": [],
   "source": [
    "#q3.b.hint()"
   ]
  },
  {
   "cell_type": "code",
   "execution_count": 15,
   "id": "3e3ccbdc",
   "metadata": {
    "execution": {
     "iopub.execute_input": "2022-02-12T16:05:19.062224Z",
     "iopub.status.busy": "2022-02-12T16:05:19.061547Z",
     "iopub.status.idle": "2022-02-12T16:05:19.067785Z",
     "shell.execute_reply": "2022-02-12T16:05:19.068327Z",
     "shell.execute_reply.started": "2022-02-12T16:03:54.090357Z"
    },
    "papermill": {
     "duration": 0.042636,
     "end_time": "2022-02-12T16:05:19.068516",
     "exception": false,
     "start_time": "2022-02-12T16:05:19.025880",
     "status": "completed"
    },
    "tags": []
   },
   "outputs": [
    {
     "data": {
      "application/javascript": [
       "parent.postMessage({\"jupyterEvent\": \"custom.exercise_interaction\", \"data\": {\"interactionType\": 3, \"questionType\": 4, \"questionId\": \"3.2_ArithmeticParensHard\", \"learnToolsVersion\": \"0.3.4\", \"valueTowardsCompletion\": 0.0, \"failureMessage\": \"\", \"exceptionClass\": \"\", \"trace\": \"\", \"outcomeType\": 4}}, \"*\")"
      ],
      "text/plain": [
       "<IPython.core.display.Javascript object>"
      ]
     },
     "metadata": {},
     "output_type": "display_data"
    },
    {
     "data": {
      "text/markdown": [
       "<span style=\"color:#33cc99\">Solution:</span> `(8 - 3) * (2 - (1 + 1))` is one solution. There may be others."
      ],
      "text/plain": [
       "Solution: `(8 - 3) * (2 - (1 + 1))` is one solution. There may be others."
      ]
     },
     "metadata": {},
     "output_type": "display_data"
    }
   ],
   "source": [
    "# Check your answer (Run this code cell to receive credit!)\n",
    "q3.b.solution()"
   ]
  },
  {
   "cell_type": "markdown",
   "id": "635fe87a",
   "metadata": {
    "papermill": {
     "duration": 0.033046,
     "end_time": "2022-02-12T16:05:19.135946",
     "exception": false,
     "start_time": "2022-02-12T16:05:19.102900",
     "status": "completed"
    },
    "tags": []
   },
   "source": [
    "<hr/>\n",
    "\n",
    "# 4. \n",
    "Alice, Bob and Carol have agreed to pool their Halloween candy and split it evenly among themselves.\n",
    "For the sake of their friendship, any candies left over will be smashed. For example, if they collectively\n",
    "bring home 91 candies, they'll take 30 each and smash 1.\n",
    "\n",
    "Write an arithmetic expression below to calculate how many candies they must smash for a given haul."
   ]
  },
  {
   "cell_type": "code",
   "execution_count": 16,
   "id": "a84877f5",
   "metadata": {
    "execution": {
     "iopub.execute_input": "2022-02-12T16:05:19.205904Z",
     "iopub.status.busy": "2022-02-12T16:05:19.205209Z",
     "iopub.status.idle": "2022-02-12T16:05:19.211775Z",
     "shell.execute_reply": "2022-02-12T16:05:19.212468Z",
     "shell.execute_reply.started": "2022-02-12T16:03:54.418957Z"
    },
    "papermill": {
     "duration": 0.043373,
     "end_time": "2022-02-12T16:05:19.212638",
     "exception": false,
     "start_time": "2022-02-12T16:05:19.169265",
     "status": "completed"
    },
    "tags": []
   },
   "outputs": [
    {
     "data": {
      "application/javascript": [
       "parent.postMessage({\"jupyterEvent\": \"custom.exercise_interaction\", \"data\": {\"outcomeType\": 1, \"valueTowardsCompletion\": 0.25, \"interactionType\": 1, \"questionType\": 1, \"questionId\": \"4_CandySplitting\", \"learnToolsVersion\": \"0.3.4\", \"failureMessage\": \"\", \"exceptionClass\": \"\", \"trace\": \"\"}}, \"*\")"
      ],
      "text/plain": [
       "<IPython.core.display.Javascript object>"
      ]
     },
     "metadata": {},
     "output_type": "display_data"
    },
    {
     "data": {
      "text/markdown": [
       "<span style=\"color:#33cc33\">Correct</span>"
      ],
      "text/plain": [
       "Correct"
      ]
     },
     "metadata": {},
     "output_type": "display_data"
    }
   ],
   "source": [
    "# Variables representing the number of candies collected by alice, bob, and carol\n",
    "alice_candies = 121\n",
    "bob_candies = 77\n",
    "carol_candies = 109\n",
    "\n",
    "# Your code goes here! Replace the right-hand side of this assignment with an expression\n",
    "# involving alice_candies, bob_candies, and carol_candies\n",
    "to_smash = (121 + 77 + 109) % 3\n",
    "\n",
    "# Check your answer\n",
    "q4.check()"
   ]
  },
  {
   "cell_type": "code",
   "execution_count": 17,
   "id": "05f1ab71",
   "metadata": {
    "execution": {
     "iopub.execute_input": "2022-02-12T16:05:19.287549Z",
     "iopub.status.busy": "2022-02-12T16:05:19.286861Z",
     "iopub.status.idle": "2022-02-12T16:05:19.289846Z",
     "shell.execute_reply": "2022-02-12T16:05:19.290403Z",
     "shell.execute_reply.started": "2022-02-12T16:03:54.546782Z"
    },
    "papermill": {
     "duration": 0.042373,
     "end_time": "2022-02-12T16:05:19.290578",
     "exception": false,
     "start_time": "2022-02-12T16:05:19.248205",
     "status": "completed"
    },
    "tags": []
   },
   "outputs": [],
   "source": [
    "#q4.hint()\n",
    "#q4.solution()"
   ]
  },
  {
   "cell_type": "markdown",
   "id": "bece4121",
   "metadata": {
    "papermill": {
     "duration": 0.034683,
     "end_time": "2022-02-12T16:05:19.360462",
     "exception": false,
     "start_time": "2022-02-12T16:05:19.325779",
     "status": "completed"
    },
    "tags": []
   },
   "source": [
    "# Keep Going\n",
    "\n",
    "Next up, you'll **[learn to write new functions and understand functions others write](https://www.kaggle.com/colinmorris/functions-and-getting-help)**. This will make you at least 10 times more productive as a Python programmer. "
   ]
  },
  {
   "cell_type": "markdown",
   "id": "6062f867",
   "metadata": {
    "papermill": {
     "duration": 0.035932,
     "end_time": "2022-02-12T16:05:19.431475",
     "exception": false,
     "start_time": "2022-02-12T16:05:19.395543",
     "status": "completed"
    },
    "tags": []
   },
   "source": [
    "---\n",
    "\n",
    "\n",
    "\n",
    "\n",
    "*Have questions or comments? Visit the [course discussion forum](https://www.kaggle.com/learn/python/discussion) to chat with other learners.*"
   ]
  }
 ],
 "metadata": {
  "kernelspec": {
   "display_name": "Python 3",
   "language": "python",
   "name": "python3"
  },
  "language_info": {
   "codemirror_mode": {
    "name": "ipython",
    "version": 3
   },
   "file_extension": ".py",
   "mimetype": "text/x-python",
   "name": "python",
   "nbconvert_exporter": "python",
   "pygments_lexer": "ipython3",
   "version": "3.7.12"
  },
  "papermill": {
   "default_parameters": {},
   "duration": 13.328511,
   "end_time": "2022-02-12T16:05:20.076342",
   "environment_variables": {},
   "exception": null,
   "input_path": "__notebook__.ipynb",
   "output_path": "__notebook__.ipynb",
   "parameters": {},
   "start_time": "2022-02-12T16:05:06.747831",
   "version": "2.3.3"
  }
 },
 "nbformat": 4,
 "nbformat_minor": 5
}
