{
 "cells": [
  {
   "cell_type": "markdown",
   "id": "e7463851",
   "metadata": {
    "papermill": {
     "duration": 0.021291,
     "end_time": "2022-02-12T16:29:39.632376",
     "exception": false,
     "start_time": "2022-02-12T16:29:39.611085",
     "status": "completed"
    },
    "tags": []
   },
   "source": [
    "**This notebook is an exercise in the [Python](https://www.kaggle.com/learn/python) course.  You can reference the tutorial at [this link](https://www.kaggle.com/colinmorris/loops-and-list-comprehensions).**\n",
    "\n",
    "---\n"
   ]
  },
  {
   "cell_type": "markdown",
   "id": "0c3a6677",
   "metadata": {
    "papermill": {
     "duration": 0.019906,
     "end_time": "2022-02-12T16:29:39.676046",
     "exception": false,
     "start_time": "2022-02-12T16:29:39.656140",
     "status": "completed"
    },
    "tags": []
   },
   "source": [
    "With all you've learned, you can start writing much more interesting programs. See if you can solve the problems below.\n",
    "\n",
    "As always, run the setup code below before working on the questions."
   ]
  },
  {
   "cell_type": "code",
   "execution_count": 1,
   "id": "cb818db5",
   "metadata": {
    "execution": {
     "iopub.execute_input": "2022-02-12T16:29:39.725298Z",
     "iopub.status.busy": "2022-02-12T16:29:39.724342Z",
     "iopub.status.idle": "2022-02-12T16:29:39.766693Z",
     "shell.execute_reply": "2022-02-12T16:29:39.767266Z",
     "shell.execute_reply.started": "2022-02-12T16:15:37.561780Z"
    },
    "papermill": {
     "duration": 0.071485,
     "end_time": "2022-02-12T16:29:39.767549",
     "exception": false,
     "start_time": "2022-02-12T16:29:39.696064",
     "status": "completed"
    },
    "tags": []
   },
   "outputs": [
    {
     "name": "stdout",
     "output_type": "stream",
     "text": [
      "Setup complete.\n"
     ]
    }
   ],
   "source": [
    "from learntools.core import binder; binder.bind(globals())\n",
    "from learntools.python.ex5 import *\n",
    "print('Setup complete.')"
   ]
  },
  {
   "cell_type": "markdown",
   "id": "3cb3cb51",
   "metadata": {
    "papermill": {
     "duration": 0.019994,
     "end_time": "2022-02-12T16:29:39.808612",
     "exception": false,
     "start_time": "2022-02-12T16:29:39.788618",
     "status": "completed"
    },
    "tags": []
   },
   "source": [
    "# 1.\n",
    "\n",
    "Have you ever felt debugging involved a bit of luck? The following program has a bug. Try to identify the bug and fix it."
   ]
  },
  {
   "cell_type": "code",
   "execution_count": 2,
   "id": "73322ffa",
   "metadata": {
    "execution": {
     "iopub.execute_input": "2022-02-12T16:29:39.853383Z",
     "iopub.status.busy": "2022-02-12T16:29:39.852416Z",
     "iopub.status.idle": "2022-02-12T16:29:39.857399Z",
     "shell.execute_reply": "2022-02-12T16:29:39.857993Z",
     "shell.execute_reply.started": "2022-02-12T16:17:14.353024Z"
    },
    "papermill": {
     "duration": 0.029091,
     "end_time": "2022-02-12T16:29:39.858167",
     "exception": false,
     "start_time": "2022-02-12T16:29:39.829076",
     "status": "completed"
    },
    "tags": []
   },
   "outputs": [],
   "source": [
    "def has_lucky_number(nums):\n",
    "    \"\"\"Return whether the given list of numbers is lucky. A lucky list contains\n",
    "    at least one number divisible by 7.\n",
    "    \"\"\"\n",
    "    for num in nums:\n",
    "        if num % 7 == 0:\n",
    "            return True\n",
    "        else:\n",
    "            return False"
   ]
  },
  {
   "cell_type": "markdown",
   "id": "300691d4",
   "metadata": {
    "papermill": {
     "duration": 0.021281,
     "end_time": "2022-02-12T16:29:39.899822",
     "exception": false,
     "start_time": "2022-02-12T16:29:39.878541",
     "status": "completed"
    },
    "tags": []
   },
   "source": [
    "Try to identify the bug and fix it in the cell below:"
   ]
  },
  {
   "cell_type": "code",
   "execution_count": 3,
   "id": "41e73474",
   "metadata": {
    "execution": {
     "iopub.execute_input": "2022-02-12T16:29:39.945094Z",
     "iopub.status.busy": "2022-02-12T16:29:39.943837Z",
     "iopub.status.idle": "2022-02-12T16:29:39.955189Z",
     "shell.execute_reply": "2022-02-12T16:29:39.955704Z",
     "shell.execute_reply.started": "2022-02-12T16:18:03.663785Z"
    },
    "papermill": {
     "duration": 0.03552,
     "end_time": "2022-02-12T16:29:39.955874",
     "exception": false,
     "start_time": "2022-02-12T16:29:39.920354",
     "status": "completed"
    },
    "tags": []
   },
   "outputs": [
    {
     "data": {
      "application/javascript": [
       "parent.postMessage({\"jupyterEvent\": \"custom.exercise_interaction\", \"data\": {\"outcomeType\": 1, \"valueTowardsCompletion\": 0.25, \"interactionType\": 1, \"questionType\": 2, \"questionId\": \"1_EarlyExitDebugging\", \"learnToolsVersion\": \"0.3.4\", \"failureMessage\": \"\", \"exceptionClass\": \"\", \"trace\": \"\"}}, \"*\")"
      ],
      "text/plain": [
       "<IPython.core.display.Javascript object>"
      ]
     },
     "metadata": {},
     "output_type": "display_data"
    },
    {
     "data": {
      "text/markdown": [
       "<span style=\"color:#33cc33\">Correct:</span> \n",
       "\n",
       "Remember that `return` causes a function to exit immediately. So our original implementation always ran for just one iteration. We can only return `False` if we've looked at every element of the list (and confirmed that none of them are lucky). Though we can return early if the answer is `True`:\n",
       "\n",
       "```python\n",
       "def has_lucky_number(nums):\n",
       "    for num in nums:\n",
       "        if num % 7 == 0:\n",
       "            return True\n",
       "    # We've exhausted the list without finding a lucky number\n",
       "    return False\n",
       "```\n",
       "\n",
       "Here's a one-line version using a list comprehension with Python's `any` function (you can read about what it does by calling `help(any)`):\n",
       "\n",
       "```python\n",
       "def has_lucky_number(nums):\n",
       "    return any([num % 7 == 0 for num in nums])\n",
       "```\n"
      ],
      "text/plain": [
       "Correct: \n",
       "\n",
       "Remember that `return` causes a function to exit immediately. So our original implementation always ran for just one iteration. We can only return `False` if we've looked at every element of the list (and confirmed that none of them are lucky). Though we can return early if the answer is `True`:\n",
       "\n",
       "```python\n",
       "def has_lucky_number(nums):\n",
       "    for num in nums:\n",
       "        if num % 7 == 0:\n",
       "            return True\n",
       "    # We've exhausted the list without finding a lucky number\n",
       "    return False\n",
       "```\n",
       "\n",
       "Here's a one-line version using a list comprehension with Python's `any` function (you can read about what it does by calling `help(any)`):\n",
       "\n",
       "```python\n",
       "def has_lucky_number(nums):\n",
       "    return any([num % 7 == 0 for num in nums])\n",
       "```"
      ]
     },
     "metadata": {},
     "output_type": "display_data"
    }
   ],
   "source": [
    "def has_lucky_number(nums):\n",
    "    \"\"\"Return whether the given list of numbers is lucky. A lucky list contains\n",
    "    at least one number divisible by 7.\n",
    "    \"\"\"\n",
    "    for num in nums:\n",
    "        if num % 7 == 0:\n",
    "            return True\n",
    "    return False\n",
    "\n",
    "# Check your answer\n",
    "q1.check()"
   ]
  },
  {
   "cell_type": "code",
   "execution_count": 4,
   "id": "0ccd0b57",
   "metadata": {
    "execution": {
     "iopub.execute_input": "2022-02-12T16:29:40.004879Z",
     "iopub.status.busy": "2022-02-12T16:29:40.003910Z",
     "iopub.status.idle": "2022-02-12T16:29:40.007068Z",
     "shell.execute_reply": "2022-02-12T16:29:40.007633Z",
     "shell.execute_reply.started": "2022-02-12T16:18:25.561532Z"
    },
    "papermill": {
     "duration": 0.029665,
     "end_time": "2022-02-12T16:29:40.007815",
     "exception": false,
     "start_time": "2022-02-12T16:29:39.978150",
     "status": "completed"
    },
    "tags": []
   },
   "outputs": [],
   "source": [
    "#q1.hint()\n",
    "#q1.solution()"
   ]
  },
  {
   "cell_type": "markdown",
   "id": "ef909f72",
   "metadata": {
    "papermill": {
     "duration": 0.021584,
     "end_time": "2022-02-12T16:29:40.051133",
     "exception": false,
     "start_time": "2022-02-12T16:29:40.029549",
     "status": "completed"
    },
    "tags": []
   },
   "source": [
    "# 2.\n",
    "Look at the Python expression below. What do you think we'll get when we run it? When you've made your prediction, uncomment the code and run the cell to see if you were right."
   ]
  },
  {
   "cell_type": "code",
   "execution_count": 5,
   "id": "a724ef72",
   "metadata": {
    "execution": {
     "iopub.execute_input": "2022-02-12T16:29:40.099495Z",
     "iopub.status.busy": "2022-02-12T16:29:40.098387Z",
     "iopub.status.idle": "2022-02-12T16:29:40.102331Z",
     "shell.execute_reply": "2022-02-12T16:29:40.102917Z",
     "shell.execute_reply.started": "2022-02-12T16:19:34.141929Z"
    },
    "papermill": {
     "duration": 0.029949,
     "end_time": "2022-02-12T16:29:40.103097",
     "exception": false,
     "start_time": "2022-02-12T16:29:40.073148",
     "status": "completed"
    },
    "tags": []
   },
   "outputs": [],
   "source": [
    "# [1, 2, 3, 4] > 2"
   ]
  },
  {
   "cell_type": "markdown",
   "id": "25071d6d",
   "metadata": {
    "papermill": {
     "duration": 0.023167,
     "end_time": "2022-02-12T16:29:40.148646",
     "exception": false,
     "start_time": "2022-02-12T16:29:40.125479",
     "status": "completed"
    },
    "tags": []
   },
   "source": [
    "R and Python have some libraries (like numpy and pandas) compare each element of the list to 2 (i.e. do an 'element-wise' comparison) and give us a list of booleans like `[False, False, True, True]`. \n",
    "\n",
    "Implement a function that reproduces this behaviour, returning a list of booleans corresponding to whether the corresponding element is greater than n."
   ]
  },
  {
   "cell_type": "code",
   "execution_count": 6,
   "id": "dd064844",
   "metadata": {
    "execution": {
     "iopub.execute_input": "2022-02-12T16:29:40.196309Z",
     "iopub.status.busy": "2022-02-12T16:29:40.195313Z",
     "iopub.status.idle": "2022-02-12T16:29:40.204692Z",
     "shell.execute_reply": "2022-02-12T16:29:40.205285Z",
     "shell.execute_reply.started": "2022-02-12T16:22:41.890630Z"
    },
    "papermill": {
     "duration": 0.035039,
     "end_time": "2022-02-12T16:29:40.205465",
     "exception": false,
     "start_time": "2022-02-12T16:29:40.170426",
     "status": "completed"
    },
    "tags": []
   },
   "outputs": [
    {
     "data": {
      "application/javascript": [
       "parent.postMessage({\"jupyterEvent\": \"custom.exercise_interaction\", \"data\": {\"outcomeType\": 1, \"valueTowardsCompletion\": 0.25, \"interactionType\": 1, \"questionType\": 2, \"questionId\": \"2_ElementWiseComparison\", \"learnToolsVersion\": \"0.3.4\", \"failureMessage\": \"\", \"exceptionClass\": \"\", \"trace\": \"\"}}, \"*\")"
      ],
      "text/plain": [
       "<IPython.core.display.Javascript object>"
      ]
     },
     "metadata": {},
     "output_type": "display_data"
    },
    {
     "data": {
      "text/markdown": [
       "<span style=\"color:#33cc33\">Correct:</span> \n",
       "\n",
       "Here's one solution:\n",
       "```python\n",
       "def elementwise_greater_than(L, thresh):\n",
       "    res = []\n",
       "    for ele in L:\n",
       "        res.append(ele > thresh)\n",
       "    return res\n",
       "```\n",
       "\n",
       "And here's the list comprehension version:\n",
       "```python\n",
       "def elementwise_greater_than(L, thresh):\n",
       "    return [ele > thresh for ele in L]\n",
       "```\n"
      ],
      "text/plain": [
       "Correct: \n",
       "\n",
       "Here's one solution:\n",
       "```python\n",
       "def elementwise_greater_than(L, thresh):\n",
       "    res = []\n",
       "    for ele in L:\n",
       "        res.append(ele > thresh)\n",
       "    return res\n",
       "```\n",
       "\n",
       "And here's the list comprehension version:\n",
       "```python\n",
       "def elementwise_greater_than(L, thresh):\n",
       "    return [ele > thresh for ele in L]\n",
       "```"
      ]
     },
     "metadata": {},
     "output_type": "display_data"
    }
   ],
   "source": [
    "def elementwise_greater_than(L, thresh):\n",
    "    \"\"\"Return a list with the same length as L, where the value at index i is \n",
    "    True if L[i] is greater than thresh, and False otherwise.\n",
    "    \n",
    "    >>> elementwise_greater_than([1, 2, 3, 4], 2)\n",
    "    [False, False, True, True]\n",
    "    \"\"\"\n",
    "    values = []\n",
    "    for num in L:\n",
    "        if num > thresh:\n",
    "            values.append(True)\n",
    "        else:\n",
    "            values.append(False)\n",
    "    return values\n",
    "\n",
    "# Check your answer\n",
    "q2.check()"
   ]
  },
  {
   "cell_type": "code",
   "execution_count": 7,
   "id": "6f679cb5",
   "metadata": {
    "execution": {
     "iopub.execute_input": "2022-02-12T16:29:40.257216Z",
     "iopub.status.busy": "2022-02-12T16:29:40.256209Z",
     "iopub.status.idle": "2022-02-12T16:29:40.258498Z",
     "shell.execute_reply": "2022-02-12T16:29:40.258994Z",
     "shell.execute_reply.started": "2022-02-12T16:22:44.228255Z"
    },
    "papermill": {
     "duration": 0.030049,
     "end_time": "2022-02-12T16:29:40.259161",
     "exception": false,
     "start_time": "2022-02-12T16:29:40.229112",
     "status": "completed"
    },
    "tags": []
   },
   "outputs": [],
   "source": [
    "#q2.solution()"
   ]
  },
  {
   "cell_type": "markdown",
   "id": "567524f9",
   "metadata": {
    "papermill": {
     "duration": 0.022772,
     "end_time": "2022-02-12T16:29:40.305113",
     "exception": false,
     "start_time": "2022-02-12T16:29:40.282341",
     "status": "completed"
    },
    "tags": []
   },
   "source": [
    "# 3.\n",
    "\n",
    "Complete the body of the function below according to its docstring."
   ]
  },
  {
   "cell_type": "code",
   "execution_count": 8,
   "id": "10e537ca",
   "metadata": {
    "execution": {
     "iopub.execute_input": "2022-02-12T16:29:40.355080Z",
     "iopub.status.busy": "2022-02-12T16:29:40.354092Z",
     "iopub.status.idle": "2022-02-12T16:29:40.363266Z",
     "shell.execute_reply": "2022-02-12T16:29:40.363797Z",
     "shell.execute_reply.started": "2022-02-12T16:25:12.446268Z"
    },
    "papermill": {
     "duration": 0.035677,
     "end_time": "2022-02-12T16:29:40.363986",
     "exception": false,
     "start_time": "2022-02-12T16:29:40.328309",
     "status": "completed"
    },
    "tags": []
   },
   "outputs": [
    {
     "data": {
      "application/javascript": [
       "parent.postMessage({\"jupyterEvent\": \"custom.exercise_interaction\", \"data\": {\"outcomeType\": 1, \"valueTowardsCompletion\": 0.25, \"interactionType\": 1, \"questionType\": 2, \"questionId\": \"3_BoringMenu\", \"learnToolsVersion\": \"0.3.4\", \"failureMessage\": \"\", \"exceptionClass\": \"\", \"trace\": \"\"}}, \"*\")"
      ],
      "text/plain": [
       "<IPython.core.display.Javascript object>"
      ]
     },
     "metadata": {},
     "output_type": "display_data"
    },
    {
     "data": {
      "text/markdown": [
       "<span style=\"color:#33cc33\">Correct:</span> \n",
       "\n",
       "\n",
       "\n",
       "```python\n",
       "def menu_is_boring(meals):\n",
       "    # Iterate over all indices of the list, except the last one\n",
       "    for i in range(len(meals)-1):\n",
       "        if meals[i] == meals[i+1]:\n",
       "            return True\n",
       "    return False\n",
       "```\n",
       "\n",
       "The key to our solution is the call to `range`. `range(len(meals))` would give us all the indices of `meals`. If we had used that range, the last iteration of the loop would be comparing the last element to the element after it, which is... `IndexError`! `range(len(meals)-1)` gives us all the indices except the index of the last element.\n",
       "\n",
       "But don't we need to check if `meals` is empty? Turns out that `range(0) == range(-1)` - they're both empty. So if `meals` has length 0 or 1, we just won't do any iterations of our for loop.\n"
      ],
      "text/plain": [
       "Correct: \n",
       "\n",
       "\n",
       "\n",
       "```python\n",
       "def menu_is_boring(meals):\n",
       "    # Iterate over all indices of the list, except the last one\n",
       "    for i in range(len(meals)-1):\n",
       "        if meals[i] == meals[i+1]:\n",
       "            return True\n",
       "    return False\n",
       "```\n",
       "\n",
       "The key to our solution is the call to `range`. `range(len(meals))` would give us all the indices of `meals`. If we had used that range, the last iteration of the loop would be comparing the last element to the element after it, which is... `IndexError`! `range(len(meals)-1)` gives us all the indices except the index of the last element.\n",
       "\n",
       "But don't we need to check if `meals` is empty? Turns out that `range(0) == range(-1)` - they're both empty. So if `meals` has length 0 or 1, we just won't do any iterations of our for loop."
      ]
     },
     "metadata": {},
     "output_type": "display_data"
    }
   ],
   "source": [
    "def menu_is_boring(meals):\n",
    "    \"\"\"Given a list of meals served over some period of time, return True if the\n",
    "    same meal has ever been served two days in a row, and False otherwise.\n",
    "    \"\"\"\n",
    "    for i in range(1, len(meals)):\n",
    "        if meals[i-1] == meals[i]:\n",
    "            return True\n",
    "    return False\n",
    "\n",
    "# Check your answer\n",
    "q3.check()"
   ]
  },
  {
   "cell_type": "code",
   "execution_count": 9,
   "id": "b7d05857",
   "metadata": {
    "execution": {
     "iopub.execute_input": "2022-02-12T16:29:40.418149Z",
     "iopub.status.busy": "2022-02-12T16:29:40.417436Z",
     "iopub.status.idle": "2022-02-12T16:29:40.420065Z",
     "shell.execute_reply": "2022-02-12T16:29:40.420540Z",
     "shell.execute_reply.started": "2022-02-12T16:25:14.893664Z"
    },
    "papermill": {
     "duration": 0.031739,
     "end_time": "2022-02-12T16:29:40.420755",
     "exception": false,
     "start_time": "2022-02-12T16:29:40.389016",
     "status": "completed"
    },
    "tags": []
   },
   "outputs": [],
   "source": [
    "#q3.hint()\n",
    "#q3.solution()"
   ]
  },
  {
   "cell_type": "markdown",
   "id": "2196c0f9",
   "metadata": {
    "papermill": {
     "duration": 0.024134,
     "end_time": "2022-02-12T16:29:40.469551",
     "exception": false,
     "start_time": "2022-02-12T16:29:40.445417",
     "status": "completed"
    },
    "tags": []
   },
   "source": [
    "# 4. <span title=\"A bit spicy\" style=\"color: darkgreen \">🌶️</span>\n",
    "\n",
    "Next to the Blackjack table, the Python Challenge Casino has a slot machine. You can get a result from the slot machine by calling `play_slot_machine()`. The number it returns is your winnings in dollars. Usually it returns 0.  But sometimes you'll get lucky and get a big payday. Try running it below:"
   ]
  },
  {
   "cell_type": "code",
   "execution_count": 10,
   "id": "121aa514",
   "metadata": {
    "execution": {
     "iopub.execute_input": "2022-02-12T16:29:40.523043Z",
     "iopub.status.busy": "2022-02-12T16:29:40.522282Z",
     "iopub.status.idle": "2022-02-12T16:29:40.526723Z",
     "shell.execute_reply": "2022-02-12T16:29:40.527268Z",
     "shell.execute_reply.started": "2022-02-12T16:25:38.048059Z"
    },
    "papermill": {
     "duration": 0.033496,
     "end_time": "2022-02-12T16:29:40.527528",
     "exception": false,
     "start_time": "2022-02-12T16:29:40.494032",
     "status": "completed"
    },
    "tags": []
   },
   "outputs": [
    {
     "data": {
      "text/plain": [
       "0"
      ]
     },
     "execution_count": 10,
     "metadata": {},
     "output_type": "execute_result"
    }
   ],
   "source": [
    "play_slot_machine()"
   ]
  },
  {
   "cell_type": "markdown",
   "id": "b554070f",
   "metadata": {
    "papermill": {
     "duration": 0.025033,
     "end_time": "2022-02-12T16:29:40.578362",
     "exception": false,
     "start_time": "2022-02-12T16:29:40.553329",
     "status": "completed"
    },
    "tags": []
   },
   "source": [
    "By the way, did we mention that each play costs $1? Don't worry, we'll send you the bill later.\n",
    "\n",
    "On average, how much money can you expect to gain (or lose) every time you play the machine?  The casino keeps it a secret, but you can estimate the average value of each pull using a technique called the **Monte Carlo method**. To estimate the average outcome, we simulate the scenario many times, and return the average result.\n",
    "\n",
    "Complete the following function to calculate the average value per play of the slot machine."
   ]
  },
  {
   "cell_type": "code",
   "execution_count": 11,
   "id": "dcd3dd33",
   "metadata": {
    "execution": {
     "iopub.execute_input": "2022-02-12T16:29:40.635572Z",
     "iopub.status.busy": "2022-02-12T16:29:40.634891Z",
     "iopub.status.idle": "2022-02-12T16:29:40.637755Z",
     "shell.execute_reply": "2022-02-12T16:29:40.638338Z",
     "shell.execute_reply.started": "2022-02-12T16:28:44.727679Z"
    },
    "papermill": {
     "duration": 0.035337,
     "end_time": "2022-02-12T16:29:40.638521",
     "exception": false,
     "start_time": "2022-02-12T16:29:40.603184",
     "status": "completed"
    },
    "tags": []
   },
   "outputs": [
    {
     "data": {
      "text/plain": [
       "0.983"
      ]
     },
     "execution_count": 11,
     "metadata": {},
     "output_type": "execute_result"
    }
   ],
   "source": [
    "def estimate_average_slot_payout(n_runs):\n",
    "    \"\"\"Run the slot machine n_runs times and return the average net profit per run.\n",
    "    Example calls (note that return value is nondeterministic!):\n",
    "    >>> estimate_average_slot_payout(1)\n",
    "    -1\n",
    "    >>> estimate_average_slot_payout(1)\n",
    "    0.5\n",
    "    \"\"\"\n",
    "    total = 0\n",
    "    for i in range(n_runs):\n",
    "        total += play_slot_machine()\n",
    "    return total/n_runs\n",
    "\n",
    "estimate_average_slot_payout(1000)"
   ]
  },
  {
   "cell_type": "markdown",
   "id": "06ef3a1e",
   "metadata": {
    "papermill": {
     "duration": 0.024822,
     "end_time": "2022-02-12T16:29:40.689193",
     "exception": false,
     "start_time": "2022-02-12T16:29:40.664371",
     "status": "completed"
    },
    "tags": []
   },
   "source": [
    "When you think you know the expected value per spin, run the code cell below to view the solution and get credit for answering the question."
   ]
  },
  {
   "cell_type": "code",
   "execution_count": 12,
   "id": "23f12bdc",
   "metadata": {
    "execution": {
     "iopub.execute_input": "2022-02-12T16:29:40.743878Z",
     "iopub.status.busy": "2022-02-12T16:29:40.743192Z",
     "iopub.status.idle": "2022-02-12T16:29:40.749199Z",
     "shell.execute_reply": "2022-02-12T16:29:40.749714Z",
     "shell.execute_reply.started": "2022-02-12T16:28:46.540012Z"
    },
    "papermill": {
     "duration": 0.034897,
     "end_time": "2022-02-12T16:29:40.749884",
     "exception": false,
     "start_time": "2022-02-12T16:29:40.714987",
     "status": "completed"
    },
    "tags": []
   },
   "outputs": [
    {
     "data": {
      "application/javascript": [
       "parent.postMessage({\"jupyterEvent\": \"custom.exercise_interaction\", \"data\": {\"interactionType\": 3, \"questionType\": 4, \"questionId\": \"4_ExpectedSlotsPayout\", \"learnToolsVersion\": \"0.3.4\", \"valueTowardsCompletion\": 0.0, \"failureMessage\": \"\", \"exceptionClass\": \"\", \"trace\": \"\", \"outcomeType\": 4}}, \"*\")"
      ],
      "text/plain": [
       "<IPython.core.display.Javascript object>"
      ]
     },
     "metadata": {},
     "output_type": "display_data"
    },
    {
     "data": {
      "text/markdown": [
       "<span style=\"color:#33cc99\">Solution:</span> \n",
       "    \n",
       "The exact expected value of one pull of the slot machine is 0.025 - i.e. a little more than 2 cents.  See?  Not every game in the Python Challenge Casino is rigged against the player!\n",
       "\n",
       "In order to get this answer, you'll need to implement the `estimate_average_slot_payout(n_runs)` function to simulate pulling the slot machine `n_runs` times.  It should return the payout averaged over those `n_runs`.\n",
       "\n",
       "Then, once the function is defined, in order to estimate the average slot payout, we need only call the function.\n",
       "\n",
       "Because of the high variance of the outcome (there are some very rare high payout results that significantly affect the average) you might need to run your function with a very high value of `n_runs` to get a stable answer close to the true expectation.  For instance, you might use a value for `n_runs` of 1000000.\n",
       "\n",
       "Here's an example for how the function could look:\n",
       "```python\n",
       "def estimate_average_slot_payout(n_runs):\n",
       "    # Play slot machine n_runs times, calculate payout of each\n",
       "    payouts = [play_slot_machine()-1 for i in range(n_runs)]\n",
       "    # Calculate the average value\n",
       "    avg_payout = sum(payouts) / n_runs\n",
       "    return avg_payout\n",
       "    \n",
       "estimate_average_slot_payout(10000000)\n",
       "\n",
       "```\n",
       "\n",
       "This should return an answer close to 0.025!\n",
       "            \n"
      ],
      "text/plain": [
       "Solution: \n",
       "    \n",
       "The exact expected value of one pull of the slot machine is 0.025 - i.e. a little more than 2 cents.  See?  Not every game in the Python Challenge Casino is rigged against the player!\n",
       "\n",
       "In order to get this answer, you'll need to implement the `estimate_average_slot_payout(n_runs)` function to simulate pulling the slot machine `n_runs` times.  It should return the payout averaged over those `n_runs`.\n",
       "\n",
       "Then, once the function is defined, in order to estimate the average slot payout, we need only call the function.\n",
       "\n",
       "Because of the high variance of the outcome (there are some very rare high payout results that significantly affect the average) you might need to run your function with a very high value of `n_runs` to get a stable answer close to the true expectation.  For instance, you might use a value for `n_runs` of 1000000.\n",
       "\n",
       "Here's an example for how the function could look:\n",
       "```python\n",
       "def estimate_average_slot_payout(n_runs):\n",
       "    # Play slot machine n_runs times, calculate payout of each\n",
       "    payouts = [play_slot_machine()-1 for i in range(n_runs)]\n",
       "    # Calculate the average value\n",
       "    avg_payout = sum(payouts) / n_runs\n",
       "    return avg_payout\n",
       "    \n",
       "estimate_average_slot_payout(10000000)\n",
       "\n",
       "```\n",
       "\n",
       "This should return an answer close to 0.025!\n",
       "            "
      ]
     },
     "metadata": {},
     "output_type": "display_data"
    }
   ],
   "source": [
    "# Check your answer (Run this code cell to receive credit!)\n",
    "q4.solution()"
   ]
  },
  {
   "cell_type": "markdown",
   "id": "a729f031",
   "metadata": {
    "papermill": {
     "duration": 0.027005,
     "end_time": "2022-02-12T16:29:40.803561",
     "exception": false,
     "start_time": "2022-02-12T16:29:40.776556",
     "status": "completed"
    },
    "tags": []
   },
   "source": [
    "# Keep Going\n",
    "\n",
    "Many programmers report that dictionaries are their favorite data structure. You'll get to **[learn about them](https://www.kaggle.com/colinmorris/strings-and-dictionaries)** (as well as strings) in the next lesson."
   ]
  },
  {
   "cell_type": "markdown",
   "id": "5c7f6be4",
   "metadata": {
    "papermill": {
     "duration": 0.026393,
     "end_time": "2022-02-12T16:29:40.856973",
     "exception": false,
     "start_time": "2022-02-12T16:29:40.830580",
     "status": "completed"
    },
    "tags": []
   },
   "source": [
    "---\n",
    "\n",
    "\n",
    "\n",
    "\n",
    "*Have questions or comments? Visit the [course discussion forum](https://www.kaggle.com/learn/python/discussion) to chat with other learners.*"
   ]
  }
 ],
 "metadata": {
  "kernelspec": {
   "display_name": "Python 3",
   "language": "python",
   "name": "python3"
  },
  "language_info": {
   "codemirror_mode": {
    "name": "ipython",
    "version": 3
   },
   "file_extension": ".py",
   "mimetype": "text/x-python",
   "name": "python",
   "nbconvert_exporter": "python",
   "pygments_lexer": "ipython3",
   "version": "3.7.12"
  },
  "papermill": {
   "default_parameters": {},
   "duration": 12.287978,
   "end_time": "2022-02-12T16:29:41.495861",
   "environment_variables": {},
   "exception": null,
   "input_path": "__notebook__.ipynb",
   "output_path": "__notebook__.ipynb",
   "parameters": {},
   "start_time": "2022-02-12T16:29:29.207883",
   "version": "2.3.3"
  }
 },
 "nbformat": 4,
 "nbformat_minor": 5
}
