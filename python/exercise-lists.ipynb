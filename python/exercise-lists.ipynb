{
 "cells": [
  {
   "cell_type": "markdown",
   "id": "dc298637",
   "metadata": {
    "papermill": {
     "duration": 0.018627,
     "end_time": "2022-02-12T16:06:32.877188",
     "exception": false,
     "start_time": "2022-02-12T16:06:32.858561",
     "status": "completed"
    },
    "tags": []
   },
   "source": [
    "**This notebook is an exercise in the [Python](https://www.kaggle.com/learn/python) course.  You can reference the tutorial at [this link](https://www.kaggle.com/colinmorris/lists).**\n",
    "\n",
    "---\n"
   ]
  },
  {
   "cell_type": "markdown",
   "id": "0ec5f1ee",
   "metadata": {
    "papermill": {
     "duration": 0.017264,
     "end_time": "2022-02-12T16:06:32.913952",
     "exception": false,
     "start_time": "2022-02-12T16:06:32.896688",
     "status": "completed"
    },
    "tags": []
   },
   "source": [
    "Things get more interesting with lists. You'll apply your new knowledge to solve the questions below. Remember to run the following cell first."
   ]
  },
  {
   "cell_type": "code",
   "execution_count": 1,
   "id": "249b2eb9",
   "metadata": {
    "execution": {
     "iopub.execute_input": "2022-02-12T16:06:32.959152Z",
     "iopub.status.busy": "2022-02-12T16:06:32.958498Z",
     "iopub.status.idle": "2022-02-12T16:06:32.995651Z",
     "shell.execute_reply": "2022-02-12T16:06:32.996161Z",
     "shell.execute_reply.started": "2022-02-12T16:05:57.271911Z"
    },
    "papermill": {
     "duration": 0.064996,
     "end_time": "2022-02-12T16:06:32.996499",
     "exception": false,
     "start_time": "2022-02-12T16:06:32.931503",
     "status": "completed"
    },
    "tags": []
   },
   "outputs": [
    {
     "name": "stdout",
     "output_type": "stream",
     "text": [
      "Setup complete.\n"
     ]
    }
   ],
   "source": [
    "from learntools.core import binder; binder.bind(globals())\n",
    "from learntools.python.ex4 import *\n",
    "print('Setup complete.')"
   ]
  },
  {
   "cell_type": "markdown",
   "id": "25445424",
   "metadata": {
    "papermill": {
     "duration": 0.018589,
     "end_time": "2022-02-12T16:06:33.033464",
     "exception": false,
     "start_time": "2022-02-12T16:06:33.014875",
     "status": "completed"
    },
    "tags": []
   },
   "source": [
    "# 1.\n",
    "\n",
    "Complete the function below according to its docstring."
   ]
  },
  {
   "cell_type": "code",
   "execution_count": 2,
   "id": "55202198",
   "metadata": {
    "execution": {
     "iopub.execute_input": "2022-02-12T16:06:33.081894Z",
     "iopub.status.busy": "2022-02-12T16:06:33.080622Z",
     "iopub.status.idle": "2022-02-12T16:06:33.087845Z",
     "shell.execute_reply": "2022-02-12T16:06:33.088409Z",
     "shell.execute_reply.started": "2022-02-12T16:05:57.585616Z"
    },
    "papermill": {
     "duration": 0.036671,
     "end_time": "2022-02-12T16:06:33.088586",
     "exception": false,
     "start_time": "2022-02-12T16:06:33.051915",
     "status": "completed"
    },
    "tags": []
   },
   "outputs": [
    {
     "data": {
      "application/javascript": [
       "parent.postMessage({\"jupyterEvent\": \"custom.exercise_interaction\", \"data\": {\"outcomeType\": 1, \"valueTowardsCompletion\": 0.2, \"interactionType\": 1, \"questionType\": 2, \"questionId\": \"1_SelectSecondItem\", \"learnToolsVersion\": \"0.3.4\", \"failureMessage\": \"\", \"exceptionClass\": \"\", \"trace\": \"\"}}, \"*\")"
      ],
      "text/plain": [
       "<IPython.core.display.Javascript object>"
      ]
     },
     "metadata": {},
     "output_type": "display_data"
    },
    {
     "data": {
      "text/markdown": [
       "<span style=\"color:#33cc33\">Correct</span>"
      ],
      "text/plain": [
       "Correct"
      ]
     },
     "metadata": {},
     "output_type": "display_data"
    }
   ],
   "source": [
    "def select_second(L):\n",
    "    \"\"\"Return the second element of the given list. If the list has no second\n",
    "    element, return None.\n",
    "    \"\"\"\n",
    "    if len(L) > 1:\n",
    "        return L[1]\n",
    "    else:\n",
    "        return None\n",
    "\n",
    "# Check your answer\n",
    "q1.check()"
   ]
  },
  {
   "cell_type": "code",
   "execution_count": 3,
   "id": "4d44ac76",
   "metadata": {
    "execution": {
     "iopub.execute_input": "2022-02-12T16:06:33.131959Z",
     "iopub.status.busy": "2022-02-12T16:06:33.131297Z",
     "iopub.status.idle": "2022-02-12T16:06:33.133732Z",
     "shell.execute_reply": "2022-02-12T16:06:33.133196Z",
     "shell.execute_reply.started": "2022-02-12T16:05:57.736603Z"
    },
    "papermill": {
     "duration": 0.026001,
     "end_time": "2022-02-12T16:06:33.133884",
     "exception": false,
     "start_time": "2022-02-12T16:06:33.107883",
     "status": "completed"
    },
    "tags": []
   },
   "outputs": [],
   "source": [
    "#q1.hint()\n",
    "#q1.solution()"
   ]
  },
  {
   "cell_type": "markdown",
   "id": "8130c176",
   "metadata": {
    "papermill": {
     "duration": 0.018962,
     "end_time": "2022-02-12T16:06:33.172143",
     "exception": false,
     "start_time": "2022-02-12T16:06:33.153181",
     "status": "completed"
    },
    "tags": []
   },
   "source": [
    "# 2.\n",
    "\n",
    "You are analyzing sports teams.  Members of each team are stored in a list. The Coach is the first name in the list, the captain is the second name in the list, and other players are listed after that. \n",
    "These lists are stored in another list, which starts with the best team and proceeds through the list to the worst team last.  Complete the function below to select the **captain** of the worst team."
   ]
  },
  {
   "cell_type": "code",
   "execution_count": 4,
   "id": "84e12b64",
   "metadata": {
    "execution": {
     "iopub.execute_input": "2022-02-12T16:06:33.215400Z",
     "iopub.status.busy": "2022-02-12T16:06:33.214707Z",
     "iopub.status.idle": "2022-02-12T16:06:33.221156Z",
     "shell.execute_reply": "2022-02-12T16:06:33.221668Z",
     "shell.execute_reply.started": "2022-02-12T16:05:58.057828Z"
    },
    "papermill": {
     "duration": 0.030321,
     "end_time": "2022-02-12T16:06:33.221839",
     "exception": false,
     "start_time": "2022-02-12T16:06:33.191518",
     "status": "completed"
    },
    "tags": []
   },
   "outputs": [
    {
     "data": {
      "application/javascript": [
       "parent.postMessage({\"jupyterEvent\": \"custom.exercise_interaction\", \"data\": {\"outcomeType\": 1, \"valueTowardsCompletion\": 0.2, \"interactionType\": 1, \"questionType\": 2, \"questionId\": \"2_LosingTeamCaptain\", \"learnToolsVersion\": \"0.3.4\", \"failureMessage\": \"\", \"exceptionClass\": \"\", \"trace\": \"\"}}, \"*\")"
      ],
      "text/plain": [
       "<IPython.core.display.Javascript object>"
      ]
     },
     "metadata": {},
     "output_type": "display_data"
    },
    {
     "data": {
      "text/markdown": [
       "<span style=\"color:#33cc33\">Correct</span>"
      ],
      "text/plain": [
       "Correct"
      ]
     },
     "metadata": {},
     "output_type": "display_data"
    }
   ],
   "source": [
    "def losing_team_captain(teams):\n",
    "    \"\"\"Given a list of teams, where each team is a list of names, return the 2nd player (captain)\n",
    "    from the last listed team\n",
    "    \"\"\"\n",
    "    return teams[-1][1]\n",
    "\n",
    "# Check your answer\n",
    "q2.check()"
   ]
  },
  {
   "cell_type": "code",
   "execution_count": 5,
   "id": "b2405c04",
   "metadata": {
    "execution": {
     "iopub.execute_input": "2022-02-12T16:06:33.267231Z",
     "iopub.status.busy": "2022-02-12T16:06:33.266588Z",
     "iopub.status.idle": "2022-02-12T16:06:33.269513Z",
     "shell.execute_reply": "2022-02-12T16:06:33.270061Z",
     "shell.execute_reply.started": "2022-02-12T16:05:58.215909Z"
    },
    "papermill": {
     "duration": 0.02719,
     "end_time": "2022-02-12T16:06:33.270400",
     "exception": false,
     "start_time": "2022-02-12T16:06:33.243210",
     "status": "completed"
    },
    "tags": []
   },
   "outputs": [],
   "source": [
    "#q2.hint()\n",
    "#q2.solution()"
   ]
  },
  {
   "cell_type": "markdown",
   "id": "39d93ca4",
   "metadata": {
    "papermill": {
     "duration": 0.021258,
     "end_time": "2022-02-12T16:06:33.312856",
     "exception": false,
     "start_time": "2022-02-12T16:06:33.291598",
     "status": "completed"
    },
    "tags": []
   },
   "source": [
    "# 3.\n",
    "\n",
    "The next iteration of Mario Kart will feature an extra-infuriating new item, the *Purple Shell*. When used, it warps the last place racer into first place and the first place racer into last place. Complete the function below to implement the Purple Shell's effect."
   ]
  },
  {
   "cell_type": "code",
   "execution_count": 6,
   "id": "f1160a74",
   "metadata": {
    "execution": {
     "iopub.execute_input": "2022-02-12T16:06:33.357825Z",
     "iopub.status.busy": "2022-02-12T16:06:33.357189Z",
     "iopub.status.idle": "2022-02-12T16:06:33.364562Z",
     "shell.execute_reply": "2022-02-12T16:06:33.365174Z",
     "shell.execute_reply.started": "2022-02-12T16:05:58.557135Z"
    },
    "papermill": {
     "duration": 0.030984,
     "end_time": "2022-02-12T16:06:33.365345",
     "exception": false,
     "start_time": "2022-02-12T16:06:33.334361",
     "status": "completed"
    },
    "tags": []
   },
   "outputs": [
    {
     "data": {
      "application/javascript": [
       "parent.postMessage({\"jupyterEvent\": \"custom.exercise_interaction\", \"data\": {\"outcomeType\": 1, \"valueTowardsCompletion\": 0.2, \"interactionType\": 1, \"questionType\": 2, \"questionId\": \"3_PurpleShell\", \"learnToolsVersion\": \"0.3.4\", \"failureMessage\": \"\", \"exceptionClass\": \"\", \"trace\": \"\"}}, \"*\")"
      ],
      "text/plain": [
       "<IPython.core.display.Javascript object>"
      ]
     },
     "metadata": {},
     "output_type": "display_data"
    },
    {
     "data": {
      "text/markdown": [
       "<span style=\"color:#33cc33\">Correct</span>"
      ],
      "text/plain": [
       "Correct"
      ]
     },
     "metadata": {},
     "output_type": "display_data"
    }
   ],
   "source": [
    "def purple_shell(racers):\n",
    "    \"\"\"Given a list of racers, set the first place racer (at the front of the list) to last\n",
    "    place and vice versa.\n",
    "    \n",
    "    >>> r = [\"Mario\", \"Bowser\", \"Luigi\"]\n",
    "    >>> purple_shell(r)\n",
    "    >>> r\n",
    "    [\"Luigi\", \"Bowser\", \"Mario\"]\n",
    "    \"\"\"\n",
    "    tmp = racers[-1]\n",
    "    racers[-1] = racers[0]\n",
    "    racers[0] = tmp\n",
    "\n",
    "    \n",
    "\n",
    "# Check your answer\n",
    "q3.check()"
   ]
  },
  {
   "cell_type": "code",
   "execution_count": 7,
   "id": "daf046de",
   "metadata": {
    "execution": {
     "iopub.execute_input": "2022-02-12T16:06:33.414259Z",
     "iopub.status.busy": "2022-02-12T16:06:33.413588Z",
     "iopub.status.idle": "2022-02-12T16:06:33.416354Z",
     "shell.execute_reply": "2022-02-12T16:06:33.416995Z",
     "shell.execute_reply.started": "2022-02-12T16:05:58.729923Z"
    },
    "papermill": {
     "duration": 0.030081,
     "end_time": "2022-02-12T16:06:33.417170",
     "exception": false,
     "start_time": "2022-02-12T16:06:33.387089",
     "status": "completed"
    },
    "tags": []
   },
   "outputs": [],
   "source": [
    "#q3.hint()\n",
    "#q3.solution()"
   ]
  },
  {
   "cell_type": "markdown",
   "id": "6227e6b3",
   "metadata": {
    "papermill": {
     "duration": 0.021161,
     "end_time": "2022-02-12T16:06:33.459873",
     "exception": false,
     "start_time": "2022-02-12T16:06:33.438712",
     "status": "completed"
    },
    "tags": []
   },
   "source": [
    "# 4.\n",
    "\n",
    "What are the lengths of the following lists? Fill in the variable `lengths` with your predictions. (Try to make a prediction for each list *without* just calling `len()` on it.)"
   ]
  },
  {
   "cell_type": "code",
   "execution_count": 8,
   "id": "67e27eff",
   "metadata": {
    "execution": {
     "iopub.execute_input": "2022-02-12T16:06:33.506867Z",
     "iopub.status.busy": "2022-02-12T16:06:33.506189Z",
     "iopub.status.idle": "2022-02-12T16:06:33.514236Z",
     "shell.execute_reply": "2022-02-12T16:06:33.514750Z",
     "shell.execute_reply.started": "2022-02-12T16:05:59.064412Z"
    },
    "papermill": {
     "duration": 0.033401,
     "end_time": "2022-02-12T16:06:33.514920",
     "exception": false,
     "start_time": "2022-02-12T16:06:33.481519",
     "status": "completed"
    },
    "tags": []
   },
   "outputs": [
    {
     "data": {
      "application/javascript": [
       "parent.postMessage({\"jupyterEvent\": \"custom.exercise_interaction\", \"data\": {\"outcomeType\": 1, \"valueTowardsCompletion\": 0.2, \"interactionType\": 1, \"questionType\": 1, \"questionId\": \"4_UnderstandLen\", \"learnToolsVersion\": \"0.3.4\", \"failureMessage\": \"\", \"exceptionClass\": \"\", \"trace\": \"\"}}, \"*\")"
      ],
      "text/plain": [
       "<IPython.core.display.Javascript object>"
      ]
     },
     "metadata": {},
     "output_type": "display_data"
    },
    {
     "data": {
      "text/markdown": [
       "<span style=\"color:#33cc33\">Correct:</span> \n",
       "\n",
       "\n",
       "- a: There are three items in this list. Nothing tricky yet.\n",
       "- b: The list `[2, 3]` counts as a single item. It has one item before it. So we have 2 items in the list\n",
       "- c: The empty list has 0 items\n",
       "- d: The expression is the same as the list `[2, 3]`, which has length 2."
      ],
      "text/plain": [
       "Correct: \n",
       "\n",
       "\n",
       "- a: There are three items in this list. Nothing tricky yet.\n",
       "- b: The list `[2, 3]` counts as a single item. It has one item before it. So we have 2 items in the list\n",
       "- c: The empty list has 0 items\n",
       "- d: The expression is the same as the list `[2, 3]`, which has length 2."
      ]
     },
     "metadata": {},
     "output_type": "display_data"
    }
   ],
   "source": [
    "a = [1, 2, 3]\n",
    "b = [1, [2, 3]]\n",
    "c = []\n",
    "d = [1, 2, 3][1:]\n",
    "\n",
    "# Put your predictions in the list below. Lengths should contain 4 numbers, the\n",
    "# first being the length of a, the second being the length of b and so on.\n",
    "lengths = [len(a), len(b), len(c), len(d)]\n",
    "\n",
    "# Check your answer\n",
    "q4.check()"
   ]
  },
  {
   "cell_type": "code",
   "execution_count": 9,
   "id": "1a2b5608",
   "metadata": {
    "execution": {
     "iopub.execute_input": "2022-02-12T16:06:33.565783Z",
     "iopub.status.busy": "2022-02-12T16:06:33.565037Z",
     "iopub.status.idle": "2022-02-12T16:06:33.567935Z",
     "shell.execute_reply": "2022-02-12T16:06:33.568566Z",
     "shell.execute_reply.started": "2022-02-12T16:05:59.247437Z"
    },
    "papermill": {
     "duration": 0.030594,
     "end_time": "2022-02-12T16:06:33.568740",
     "exception": false,
     "start_time": "2022-02-12T16:06:33.538146",
     "status": "completed"
    },
    "tags": []
   },
   "outputs": [],
   "source": [
    "# line below provides some explanation\n",
    "#q4.solution()"
   ]
  },
  {
   "cell_type": "markdown",
   "id": "8d6c4cde",
   "metadata": {
    "papermill": {
     "duration": 0.022524,
     "end_time": "2022-02-12T16:06:33.614805",
     "exception": false,
     "start_time": "2022-02-12T16:06:33.592281",
     "status": "completed"
    },
    "tags": []
   },
   "source": [
    "# 5. <span title=\"A bit spicy\" style=\"color: darkgreen \">🌶️</span>\n",
    "\n",
    "We're using lists to record people who attended our party and what order they arrived in. For example, the following list represents a party with 7 guests, in which Adela showed up first and Ford was the last to arrive:\n",
    "\n",
    "    party_attendees = ['Adela', 'Fleda', 'Owen', 'May', 'Mona', 'Gilbert', 'Ford']\n",
    "\n",
    "A guest is considered 'fashionably late' if they arrived after at least half of the party's guests. However, they must not be the very last guest (that's taking it too far). In the above example, Mona and Gilbert are the only guests who were fashionably late.\n",
    "\n",
    "Complete the function below which takes a list of party attendees as well as a person, and tells us whether that person is fashionably late."
   ]
  },
  {
   "cell_type": "code",
   "execution_count": 10,
   "id": "2a515307",
   "metadata": {
    "execution": {
     "iopub.execute_input": "2022-02-12T16:06:33.664491Z",
     "iopub.status.busy": "2022-02-12T16:06:33.663807Z",
     "iopub.status.idle": "2022-02-12T16:06:33.671604Z",
     "shell.execute_reply": "2022-02-12T16:06:33.672355Z",
     "shell.execute_reply.started": "2022-02-12T16:05:59.811293Z"
    },
    "papermill": {
     "duration": 0.034086,
     "end_time": "2022-02-12T16:06:33.672539",
     "exception": false,
     "start_time": "2022-02-12T16:06:33.638453",
     "status": "completed"
    },
    "tags": []
   },
   "outputs": [
    {
     "data": {
      "application/javascript": [
       "parent.postMessage({\"jupyterEvent\": \"custom.exercise_interaction\", \"data\": {\"outcomeType\": 1, \"valueTowardsCompletion\": 0.2, \"interactionType\": 1, \"questionType\": 2, \"questionId\": \"5_FashionablyLate\", \"learnToolsVersion\": \"0.3.4\", \"failureMessage\": \"\", \"exceptionClass\": \"\", \"trace\": \"\"}}, \"*\")"
      ],
      "text/plain": [
       "<IPython.core.display.Javascript object>"
      ]
     },
     "metadata": {},
     "output_type": "display_data"
    },
    {
     "data": {
      "text/markdown": [
       "<span style=\"color:#33cc33\">Correct</span>"
      ],
      "text/plain": [
       "Correct"
      ]
     },
     "metadata": {},
     "output_type": "display_data"
    }
   ],
   "source": [
    "def fashionably_late(arrivals, name):\n",
    "    \"\"\"Given an ordered list of arrivals to the party and a name, return whether the guest with that\n",
    "    name was fashionably late.\n",
    "    \"\"\"\n",
    "    if arrivals.index(name) > len(arrivals)/2 - 0.5 and arrivals.index(name) != len(arrivals)-1:\n",
    "        return True\n",
    "    return False\n",
    "\n",
    "# Check your answer\n",
    "q5.check()"
   ]
  },
  {
   "cell_type": "code",
   "execution_count": 11,
   "id": "f5e2edd8",
   "metadata": {
    "execution": {
     "iopub.execute_input": "2022-02-12T16:06:33.726861Z",
     "iopub.status.busy": "2022-02-12T16:06:33.725798Z",
     "iopub.status.idle": "2022-02-12T16:06:33.729027Z",
     "shell.execute_reply": "2022-02-12T16:06:33.728481Z",
     "shell.execute_reply.started": "2022-02-12T16:06:00.154176Z"
    },
    "papermill": {
     "duration": 0.031746,
     "end_time": "2022-02-12T16:06:33.729179",
     "exception": false,
     "start_time": "2022-02-12T16:06:33.697433",
     "status": "completed"
    },
    "tags": []
   },
   "outputs": [],
   "source": [
    "#q5.hint()\n",
    "#q5.solution()"
   ]
  },
  {
   "cell_type": "markdown",
   "id": "2016b40e",
   "metadata": {
    "papermill": {
     "duration": 0.024507,
     "end_time": "2022-02-12T16:06:33.777914",
     "exception": false,
     "start_time": "2022-02-12T16:06:33.753407",
     "status": "completed"
    },
    "tags": []
   },
   "source": [
    "# Keep Going\n",
    "\n",
    "That's it for lists and tuples! Now you have the baseline knowledge to **[learn about loops](https://www.kaggle.com/colinmorris/loops-and-list-comprehensions)**, which is where lists and tuples get really interesting. "
   ]
  },
  {
   "cell_type": "markdown",
   "id": "1bad807d",
   "metadata": {
    "papermill": {
     "duration": 0.024584,
     "end_time": "2022-02-12T16:06:33.826681",
     "exception": false,
     "start_time": "2022-02-12T16:06:33.802097",
     "status": "completed"
    },
    "tags": []
   },
   "source": [
    "---\n",
    "\n",
    "\n",
    "\n",
    "\n",
    "*Have questions or comments? Visit the [course discussion forum](https://www.kaggle.com/learn/python/discussion) to chat with other learners.*"
   ]
  }
 ],
 "metadata": {
  "kernelspec": {
   "display_name": "Python 3",
   "language": "python",
   "name": "python3"
  },
  "language_info": {
   "codemirror_mode": {
    "name": "ipython",
    "version": 3
   },
   "file_extension": ".py",
   "mimetype": "text/x-python",
   "name": "python",
   "nbconvert_exporter": "python",
   "pygments_lexer": "ipython3",
   "version": "3.7.12"
  },
  "papermill": {
   "default_parameters": {},
   "duration": 12.458505,
   "end_time": "2022-02-12T16:06:34.460584",
   "environment_variables": {},
   "exception": null,
   "input_path": "__notebook__.ipynb",
   "output_path": "__notebook__.ipynb",
   "parameters": {},
   "start_time": "2022-02-12T16:06:22.002079",
   "version": "2.3.3"
  }
 },
 "nbformat": 4,
 "nbformat_minor": 5
}
